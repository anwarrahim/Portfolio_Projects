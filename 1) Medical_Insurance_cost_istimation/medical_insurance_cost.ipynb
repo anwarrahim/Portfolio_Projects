{
 "cells": [
  {
   "metadata": {
    "ExecuteTime": {
     "end_time": "2024-05-26T14:09:56.001583Z",
     "start_time": "2024-05-26T14:09:55.996140Z"
    }
   },
   "cell_type": "code",
   "source": [
    "import csv\n",
    "import pandas as pd\n",
    "import matplotlib.pyplot as plt"
   ],
   "outputs": [],
   "execution_count": 162
  },
  {
   "metadata": {},
   "cell_type": "markdown",
   "source": "# Step 1: Load the data"
  },
  {
   "metadata": {
    "ExecuteTime": {
     "end_time": "2024-05-26T14:09:56.613372Z",
     "start_time": "2024-05-26T14:09:56.586411Z"
    }
   },
   "cell_type": "code",
   "source": "df = pd.DataFrame('zipped_data')",
   "outputs": [
    {
     "ename": "ValueError",
     "evalue": "DataFrame constructor not properly called!",
     "output_type": "error",
     "traceback": [
      "\u001B[1;31m---------------------------------------------------------------------------\u001B[0m",
      "\u001B[1;31mValueError\u001B[0m                                Traceback (most recent call last)",
      "\u001B[1;32m~\\AppData\\Local\\Temp\\ipykernel_5732\\3383167498.py\u001B[0m in \u001B[0;36m?\u001B[1;34m()\u001B[0m\n\u001B[1;32m----> 1\u001B[1;33m \u001B[0mdf\u001B[0m \u001B[1;33m=\u001B[0m \u001B[0mpd\u001B[0m\u001B[1;33m.\u001B[0m\u001B[0mDataFrame\u001B[0m\u001B[1;33m(\u001B[0m\u001B[1;34m'zipped_data'\u001B[0m\u001B[1;33m)\u001B[0m\u001B[1;33m\u001B[0m\u001B[1;33m\u001B[0m\u001B[0m\n\u001B[0m",
      "\u001B[1;32m~\\anaconda3\\Lib\\site-packages\\pandas\\core\\frame.py\u001B[0m in \u001B[0;36m?\u001B[1;34m(self, data, index, columns, dtype, copy)\u001B[0m\n\u001B[0;32m    837\u001B[0m                 )\n\u001B[0;32m    838\u001B[0m         \u001B[1;31m# For data is scalar\u001B[0m\u001B[1;33m\u001B[0m\u001B[1;33m\u001B[0m\u001B[0m\n\u001B[0;32m    839\u001B[0m         \u001B[1;32melse\u001B[0m\u001B[1;33m:\u001B[0m\u001B[1;33m\u001B[0m\u001B[1;33m\u001B[0m\u001B[0m\n\u001B[0;32m    840\u001B[0m             \u001B[1;32mif\u001B[0m \u001B[0mindex\u001B[0m \u001B[1;32mis\u001B[0m \u001B[1;32mNone\u001B[0m \u001B[1;32mor\u001B[0m \u001B[0mcolumns\u001B[0m \u001B[1;32mis\u001B[0m \u001B[1;32mNone\u001B[0m\u001B[1;33m:\u001B[0m\u001B[1;33m\u001B[0m\u001B[1;33m\u001B[0m\u001B[0m\n\u001B[1;32m--> 841\u001B[1;33m                 \u001B[1;32mraise\u001B[0m \u001B[0mValueError\u001B[0m\u001B[1;33m(\u001B[0m\u001B[1;34m\"DataFrame constructor not properly called!\"\u001B[0m\u001B[1;33m)\u001B[0m\u001B[1;33m\u001B[0m\u001B[1;33m\u001B[0m\u001B[0m\n\u001B[0m\u001B[0;32m    842\u001B[0m \u001B[1;33m\u001B[0m\u001B[0m\n\u001B[0;32m    843\u001B[0m             \u001B[0mindex\u001B[0m \u001B[1;33m=\u001B[0m \u001B[0mensure_index\u001B[0m\u001B[1;33m(\u001B[0m\u001B[0mindex\u001B[0m\u001B[1;33m)\u001B[0m\u001B[1;33m\u001B[0m\u001B[1;33m\u001B[0m\u001B[0m\n\u001B[0;32m    844\u001B[0m             \u001B[0mcolumns\u001B[0m \u001B[1;33m=\u001B[0m \u001B[0mensure_index\u001B[0m\u001B[1;33m(\u001B[0m\u001B[0mcolumns\u001B[0m\u001B[1;33m)\u001B[0m\u001B[1;33m\u001B[0m\u001B[1;33m\u001B[0m\u001B[0m\n",
      "\u001B[1;31mValueError\u001B[0m: DataFrame constructor not properly called!"
     ]
    }
   ],
   "execution_count": 163
  },
  {
   "metadata": {
    "ExecuteTime": {
     "end_time": "2024-05-26T14:09:56.650151Z",
     "start_time": "2024-05-26T14:09:56.637001Z"
    }
   },
   "cell_type": "code",
   "source": [
    "# Load the data from the csv file\n",
    "def load_data(file_path):\n",
    "    data = []\n",
    "    \n",
    "    with open(file_path) as csv_file:\n",
    "        csv_reader = csv.DictReader(csv_file)\n",
    "        for row in csv_reader:\n",
    "            data.append(row)\n",
    "    return data\n",
    "\n",
    "data = load_data('Data/insurance.csv')\n"
   ],
   "outputs": [],
   "execution_count": 164
  },
  {
   "metadata": {
    "ExecuteTime": {
     "end_time": "2024-05-26T14:09:56.950807Z",
     "start_time": "2024-05-26T14:09:56.945800Z"
    }
   },
   "cell_type": "code",
   "source": "print(type(data))",
   "outputs": [
    {
     "name": "stdout",
     "output_type": "stream",
     "text": [
      "<class 'list'>\n"
     ]
    }
   ],
   "execution_count": 165
  },
  {
   "metadata": {
    "ExecuteTime": {
     "end_time": "2024-05-26T14:09:57.198586Z",
     "start_time": "2024-05-26T14:09:57.193394Z"
    }
   },
   "cell_type": "code",
   "source": "print(data[:3])",
   "outputs": [
    {
     "name": "stdout",
     "output_type": "stream",
     "text": [
      "[{'age': '19', 'sex': 'female', 'bmi': '27.9', 'children': '0', 'smoker': 'yes', 'region': 'southwest', 'charges': '16884.924'}, {'age': '18', 'sex': 'male', 'bmi': '33.77', 'children': '1', 'smoker': 'no', 'region': 'southeast', 'charges': '1725.5523'}, {'age': '28', 'sex': 'male', 'bmi': '33', 'children': '3', 'smoker': 'no', 'region': 'southeast', 'charges': '4449.462'}]\n"
     ]
    }
   ],
   "execution_count": 166
  },
  {
   "metadata": {},
   "cell_type": "markdown",
   "source": "# creating the list of every column"
  },
  {
   "metadata": {
    "ExecuteTime": {
     "end_time": "2024-05-26T14:09:57.290360Z",
     "start_time": "2024-05-26T14:09:57.283838Z"
    }
   },
   "cell_type": "code",
   "source": [
    "age = []\n",
    "sex = []\n",
    "bmi = []\n",
    "children = []\n",
    "smoker = []\n",
    "region = []\n",
    "charges = []"
   ],
   "outputs": [],
   "execution_count": 167
  },
  {
   "metadata": {
    "ExecuteTime": {
     "end_time": "2024-05-26T14:09:57.367185Z",
     "start_time": "2024-05-26T14:09:57.361895Z"
    }
   },
   "cell_type": "code",
   "source": [
    "def extract_data(age):\n",
    "    for row in data:\n",
    "        age.append(row['age'])\n",
    "\n",
    "extract_data(age)"
   ],
   "outputs": [],
   "execution_count": 168
  },
  {
   "metadata": {
    "ExecuteTime": {
     "end_time": "2024-05-26T14:09:57.461553Z",
     "start_time": "2024-05-26T14:09:57.456286Z"
    }
   },
   "cell_type": "code",
   "source": "print(age[:3])",
   "outputs": [
    {
     "name": "stdout",
     "output_type": "stream",
     "text": [
      "['19', '18', '28']\n"
     ]
    }
   ],
   "execution_count": 169
  },
  {
   "metadata": {
    "ExecuteTime": {
     "end_time": "2024-05-26T14:09:57.493488Z",
     "start_time": "2024-05-26T14:09:57.488626Z"
    }
   },
   "cell_type": "code",
   "source": [
    "def extract_data(sex):\n",
    "    for row in data:\n",
    "        sex.append(row['sex'])\n",
    "\n",
    "extract_data(sex)"
   ],
   "outputs": [],
   "execution_count": 170
  },
  {
   "metadata": {
    "ExecuteTime": {
     "end_time": "2024-05-26T14:09:57.569379Z",
     "start_time": "2024-05-26T14:09:57.563557Z"
    }
   },
   "cell_type": "code",
   "source": "print(sex[:3])",
   "outputs": [
    {
     "name": "stdout",
     "output_type": "stream",
     "text": [
      "['female', 'male', 'male']\n"
     ]
    }
   ],
   "execution_count": 171
  },
  {
   "metadata": {
    "ExecuteTime": {
     "end_time": "2024-05-26T14:09:57.630349Z",
     "start_time": "2024-05-26T14:09:57.624630Z"
    }
   },
   "cell_type": "code",
   "source": [
    "def extract_data(bmi):\n",
    "    for row in data:\n",
    "        bmi.append(row['bmi'])\n",
    "\n",
    "extract_data(bmi)"
   ],
   "outputs": [],
   "execution_count": 172
  },
  {
   "metadata": {
    "ExecuteTime": {
     "end_time": "2024-05-26T14:09:57.726169Z",
     "start_time": "2024-05-26T14:09:57.719215Z"
    }
   },
   "cell_type": "code",
   "source": "print(bmi[:3])",
   "outputs": [
    {
     "name": "stdout",
     "output_type": "stream",
     "text": [
      "['27.9', '33.77', '33']\n"
     ]
    }
   ],
   "execution_count": 173
  },
  {
   "metadata": {
    "ExecuteTime": {
     "end_time": "2024-05-26T14:09:57.802053Z",
     "start_time": "2024-05-26T14:09:57.795833Z"
    }
   },
   "cell_type": "code",
   "source": [
    "def extract_data(children):\n",
    "    for row in data:\n",
    "        children.append(row['children'])\n",
    "       \n",
    "       \n",
    "extract_data(children) "
   ],
   "outputs": [],
   "execution_count": 174
  },
  {
   "metadata": {
    "ExecuteTime": {
     "end_time": "2024-05-26T14:09:57.916440Z",
     "start_time": "2024-05-26T14:09:57.910484Z"
    }
   },
   "cell_type": "code",
   "source": "print(children[:3])",
   "outputs": [
    {
     "name": "stdout",
     "output_type": "stream",
     "text": [
      "['0', '1', '3']\n"
     ]
    }
   ],
   "execution_count": 175
  },
  {
   "metadata": {
    "ExecuteTime": {
     "end_time": "2024-05-26T14:09:57.961394Z",
     "start_time": "2024-05-26T14:09:57.954107Z"
    }
   },
   "cell_type": "code",
   "source": [
    "def extract_data(smoker):\n",
    "    for row in data:\n",
    "        smoker.append(row['smoker'])\n",
    "\n",
    "extract_data(smoker)"
   ],
   "outputs": [],
   "execution_count": 176
  },
  {
   "metadata": {
    "ExecuteTime": {
     "end_time": "2024-05-26T14:09:58.082269Z",
     "start_time": "2024-05-26T14:09:58.075798Z"
    }
   },
   "cell_type": "code",
   "source": "print(smoker[:3])",
   "outputs": [
    {
     "name": "stdout",
     "output_type": "stream",
     "text": [
      "['yes', 'no', 'no']\n"
     ]
    }
   ],
   "execution_count": 177
  },
  {
   "metadata": {
    "ExecuteTime": {
     "end_time": "2024-05-26T14:09:58.133716Z",
     "start_time": "2024-05-26T14:09:58.127148Z"
    }
   },
   "cell_type": "code",
   "source": [
    "def extract_data(region):\n",
    "    for row in data:\n",
    "        region.append(row['region'])\n",
    "    \n",
    "extract_data(region)"
   ],
   "outputs": [],
   "execution_count": 178
  },
  {
   "metadata": {
    "ExecuteTime": {
     "end_time": "2024-05-26T14:09:58.240979Z",
     "start_time": "2024-05-26T14:09:58.235632Z"
    }
   },
   "cell_type": "code",
   "source": "print(region[:3])",
   "outputs": [
    {
     "name": "stdout",
     "output_type": "stream",
     "text": [
      "['southwest', 'southeast', 'southeast']\n"
     ]
    }
   ],
   "execution_count": 179
  },
  {
   "metadata": {
    "ExecuteTime": {
     "end_time": "2024-05-26T14:09:58.320260Z",
     "start_time": "2024-05-26T14:09:58.313982Z"
    }
   },
   "cell_type": "code",
   "source": [
    "def extract_data(charges):\n",
    "    for row in data:\n",
    "        charges.append(row['charges'])\n",
    "\n",
    "extract_data(charges)"
   ],
   "outputs": [],
   "execution_count": 180
  },
  {
   "metadata": {
    "ExecuteTime": {
     "end_time": "2024-05-26T14:09:58.395975Z",
     "start_time": "2024-05-26T14:09:58.390458Z"
    }
   },
   "cell_type": "code",
   "source": "print(charges[:3])",
   "outputs": [
    {
     "name": "stdout",
     "output_type": "stream",
     "text": [
      "['16884.924', '1725.5523', '4449.462']\n"
     ]
    }
   ],
   "execution_count": 181
  },
  {
   "metadata": {},
   "cell_type": "markdown",
   "source": "# Data zipping"
  },
  {
   "metadata": {
    "ExecuteTime": {
     "end_time": "2024-05-26T14:09:58.428360Z",
     "start_time": "2024-05-26T14:09:58.423087Z"
    }
   },
   "cell_type": "code",
   "source": "zipped_data = list(zip(age, sex, bmi, children, smoker, region, charges))",
   "outputs": [],
   "execution_count": 182
  },
  {
   "metadata": {
    "ExecuteTime": {
     "end_time": "2024-05-26T14:09:58.489091Z",
     "start_time": "2024-05-26T14:09:58.483019Z"
    }
   },
   "cell_type": "code",
   "source": "print(zipped_data[:3])",
   "outputs": [
    {
     "name": "stdout",
     "output_type": "stream",
     "text": [
      "[('19', 'female', '27.9', '0', 'yes', 'southwest', '16884.924'), ('18', 'male', '33.77', '1', 'no', 'southeast', '1725.5523'), ('28', 'male', '33', '3', 'no', 'southeast', '4449.462')]\n"
     ]
    }
   ],
   "execution_count": 183
  },
  {
   "metadata": {},
   "cell_type": "markdown",
   "source": "# Step 2: Data Analysis"
  },
  {
   "metadata": {
    "ExecuteTime": {
     "end_time": "2024-05-26T14:09:58.849569Z",
     "start_time": "2024-05-26T14:09:58.561989Z"
    }
   },
   "cell_type": "code",
   "source": [
    "plt.figure(figsize=(10, 6))\n",
    "plt.hist(df['bmi'], bins=50, color='skyblue', edgecolor='black')\n",
    "plt.title('BMI Distribution')\n",
    "plt.xlabel('BMI')\n",
    "plt.ylabel('Number of Patients')\n",
    "plt.show()"
   ],
   "outputs": [
    {
     "data": {
      "text/plain": [
       "<Figure size 1000x600 with 1 Axes>"
      ],
      "image/png": "[encoded data removed]"
     },
     "metadata": {},
     "output_type": "display_data"
    }
   ],
   "execution_count": 184
  },
  {
   "metadata": {},
   "cell_type": "markdown",
   "source": "### For smokers and non-smokers "
  },
  {
   "metadata": {
    "ExecuteTime": {
     "end_time": "2024-05-26T14:09:58.965824Z",
     "start_time": "2024-05-26T14:09:58.853075Z"
    }
   },
   "cell_type": "code",
   "source": [
    "smoker_and_Nonsmoker_count = df['smoker'].value_counts()\n",
    "plt.figure(figsize=(10, 6))\n",
    "plt.pie(smoker_and_Nonsmoker_count, labels=smoker_and_Nonsmoker_count.index, autopct='%1.1f%%', startangle=90, colors=['#ff9999','#66b3ff'])\n",
    "plt.title('Smoker and Non-Smoker')\n",
    "plt.show()"
   ],
   "outputs": [
    {
     "data": {
      "text/plain": [
       "<Figure size 1000x600 with 1 Axes>"
      ],
      "image/png": "[encoded data removed]"
     },
     "metadata": {},
     "output_type": "display_data"
    }
   ],
   "execution_count": 185
  },
  {
   "metadata": {
    "ExecuteTime": {
     "end_time": "2024-05-26T14:09:59.080387Z",
     "start_time": "2024-05-26T14:09:58.968168Z"
    }
   },
   "cell_type": "code",
   "source": [
    "plt.figure(figsize=(10, 6))\n",
    "plt.pie(df['region'].value_counts(), labels=df['region'].value_counts().index, autopct='%1.1f%%', startangle=90, colors=['#4DAAF2','#FFBD59', '#9A37F6', '#ba595a'])\n",
    "plt.title('Region Distribution')\n",
    "plt.show()"
   ],
   "outputs": [
    {
     "data": {
      "text/plain": [
       "<Figure size 1000x600 with 1 Axes>"
      ],
      "image/png": "[encoded data removed]"
     },
     "metadata": {},
     "output_type": "display_data"
    }
   ],
   "execution_count": 186
  },
  {
   "metadata": {},
   "cell_type": "markdown",
   "source": "# Step 3: Result Analysis"
  },
  {
   "metadata": {},
   "cell_type": "markdown",
   "source": "### Average cost of insurance"
  },
  {
   "metadata": {
    "ExecuteTime": {
     "end_time": "2024-05-26T14:09:59.089647Z",
     "start_time": "2024-05-26T14:09:59.082912Z"
    }
   },
   "cell_type": "code",
   "source": [
    "average_cost = df['charges'].mean()\n",
    "print(f'Average cost of insurance: {int(average_cost)} US dollars')"
   ],
   "outputs": [
    {
     "name": "stdout",
     "output_type": "stream",
     "text": [
      "Average cost of insurance: 13270 US dollars\n"
     ]
    }
   ],
   "execution_count": 187
  },
  {
   "metadata": {
    "ExecuteTime": {
     "end_time": "2024-05-26T14:09:59.106223Z",
     "start_time": "2024-05-26T14:09:59.092706Z"
    }
   },
   "cell_type": "code",
   "source": "max_cost = df['charges'].max()",
   "outputs": [],
   "execution_count": 188
  },
  {
   "metadata": {
    "ExecuteTime": {
     "end_time": "2024-05-26T14:09:59.121787Z",
     "start_time": "2024-05-26T14:09:59.108330Z"
    }
   },
   "cell_type": "code",
   "source": [
    "min_cost = df['charges'].min()\n",
    "print(f'Maximum cost of insurance: {int(max_cost)} US dollars')\n",
    "print(f'Minimum cost of insurance: {int(min_cost)} US dollars')"
   ],
   "outputs": [
    {
     "name": "stdout",
     "output_type": "stream",
     "text": [
      "Maximum cost of insurance: 63770 US dollars\n",
      "Minimum cost of insurance: 1121 US dollars\n"
     ]
    }
   ],
   "execution_count": 189
  },
  {
   "metadata": {},
   "cell_type": "markdown",
   "source": "# Average cost for smokers and Non-smokers"
  },
  {
   "metadata": {
    "ExecuteTime": {
     "end_time": "2024-05-26T14:09:59.143504Z",
     "start_time": "2024-05-26T14:09:59.124800Z"
    }
   },
   "cell_type": "code",
   "source": [
    "# Average cost of insurance for smokers and non-smokers\n",
    "average_cost_smoker = df[df['smoker'] == 'yes']['charges'].mean()\n",
    "average_cost_non_smoker = df[df['smoker'] == 'no']['charges'].mean()\n",
    "print(f'Average cost of insurance for smokers: {int(average_cost_smoker)} US dollars')"
   ],
   "outputs": [
    {
     "name": "stdout",
     "output_type": "stream",
     "text": [
      "Average cost of insurance for smokers: 32050 US dollars\n"
     ]
    }
   ],
   "execution_count": 190
  },
  {
   "metadata": {
    "ExecuteTime": {
     "end_time": "2024-05-26T14:09:59.162313Z",
     "start_time": "2024-05-26T14:09:59.145511Z"
    }
   },
   "cell_type": "code",
   "source": "print(f'Average cost of insurance for non-smokers: {int(average_cost_non_smoker)} US dollars')",
   "outputs": [
    {
     "name": "stdout",
     "output_type": "stream",
     "text": [
      "Average cost of insurance for non-smokers: 8434 US dollars\n"
     ]
    }
   ],
   "execution_count": 191
  },
  {
   "metadata": {
    "ExecuteTime": {
     "end_time": "2024-05-26T14:11:17.629532Z",
     "start_time": "2024-05-26T14:11:17.623820Z"
    }
   },
   "cell_type": "code",
   "source": [
    "# difference of average cost between smokers and non-smokers\n",
    "difference = average_cost_smoker - average_cost_non_smoker\n",
    "print(f'Difference of average cost between smokers and non-smokers: {int(difference)} US dollars')"
   ],
   "outputs": [],
   "execution_count": 201
  },
  {
   "metadata": {},
   "cell_type": "markdown",
   "source": "# IF BMI is greater than 30, then the patient is obese\n"
  },
  {
   "metadata": {
    "ExecuteTime": {
     "end_time": "2024-05-26T14:09:59.178924Z",
     "start_time": "2024-05-26T14:09:59.165319Z"
    }
   },
   "cell_type": "code",
   "source": "obese_patients = df[df['bmi'] > 30]",
   "outputs": [],
   "execution_count": 192
  },
  {
   "metadata": {
    "ExecuteTime": {
     "end_time": "2024-05-26T14:09:59.351728Z",
     "start_time": "2024-05-26T14:09:59.346478Z"
    }
   },
   "cell_type": "code",
   "source": "obese_patients_count = obese_patients.shape[0]\n",
   "outputs": [],
   "execution_count": 193
  },
  {
   "metadata": {
    "ExecuteTime": {
     "end_time": "2024-05-26T14:09:59.558022Z",
     "start_time": "2024-05-26T14:09:59.552878Z"
    }
   },
   "cell_type": "code",
   "source": "print(f'The number of obese patients: {obese_patients_count}')",
   "outputs": [
    {
     "name": "stdout",
     "output_type": "stream",
     "text": [
      "The number of obese patients: 705\n"
     ]
    }
   ],
   "execution_count": 194
  },
  {
   "metadata": {},
   "cell_type": "markdown",
   "source": "# find The most expensive region for insurance"
  },
  {
   "metadata": {
    "ExecuteTime": {
     "end_time": "2024-05-26T14:09:59.665958Z",
     "start_time": "2024-05-26T14:09:59.658765Z"
    }
   },
   "cell_type": "code",
   "source": [
    "most_expensive_region = df.groupby('region')['charges'].mean().idxmax()\n",
    "print(f'The most expensive region for insurance: {most_expensive_region}')"
   ],
   "outputs": [
    {
     "name": "stdout",
     "output_type": "stream",
     "text": [
      "The most expensive region for insurance: southeast\n"
     ]
    }
   ],
   "execution_count": 195
  },
  {
   "metadata": {
    "ExecuteTime": {
     "end_time": "2024-05-26T14:09:59.767361Z",
     "start_time": "2024-05-26T14:09:59.759039Z"
    }
   },
   "cell_type": "code",
   "source": [
    "most_cheapest_region = df.groupby('region')['charges'].mean().idxmin()\n",
    "print(f'The most cheapest region for insurance: {most_cheapest_region}')"
   ],
   "outputs": [
    {
     "name": "stdout",
     "output_type": "stream",
     "text": [
      "The most cheapest region for insurance: southwest\n"
     ]
    }
   ],
   "execution_count": 196
  },
  {
   "metadata": {},
   "cell_type": "markdown",
   "source": "# Average cost of insurance for different regions\n"
  },
  {
   "metadata": {
    "ExecuteTime": {
     "end_time": "2024-05-26T14:09:59.818393Z",
     "start_time": "2024-05-26T14:09:59.810079Z"
    }
   },
   "cell_type": "code",
   "source": [
    "average_cost_region = df.groupby('region')['charges'].mean()\n",
    "print(average_cost_region)"
   ],
   "outputs": [
    {
     "name": "stdout",
     "output_type": "stream",
     "text": [
      "region\n",
      "northeast    13406.384516\n",
      "northwest    12417.575374\n",
      "southeast    14735.411438\n",
      "southwest    12346.937377\n",
      "Name: charges, dtype: float64\n"
     ]
    }
   ],
   "execution_count": 197
  },
  {
   "metadata": {},
   "cell_type": "markdown",
   "source": "### Find the patient with the highest insurance cost"
  },
  {
   "metadata": {
    "ExecuteTime": {
     "end_time": "2024-05-26T14:09:59.974489Z",
     "start_time": "2024-05-26T14:09:59.968756Z"
    }
   },
   "cell_type": "code",
   "source": [
    "highest_cost_patient = zipped_data[df['charges'].idxmax()]\n",
    "print(highest_cost_patient)"
   ],
   "outputs": [
    {
     "name": "stdout",
     "output_type": "stream",
     "text": [
      "('54', 'female', '47.41', '0', 'yes', 'southeast', '63770.42801')\n"
     ]
    }
   ],
   "execution_count": 198
  },
  {
   "metadata": {
    "ExecuteTime": {
     "end_time": "2024-05-26T14:10:00.005114Z",
     "start_time": "2024-05-26T14:10:00.000017Z"
    }
   },
   "cell_type": "code",
   "source": "lowest_cost_patient = zipped_data[df['charges'].idxmin()]",
   "outputs": [],
   "execution_count": 199
  },
  {
   "metadata": {
    "ExecuteTime": {
     "end_time": "2024-05-26T14:10:00.133560Z",
     "start_time": "2024-05-26T14:10:00.129401Z"
    }
   },
   "cell_type": "code",
   "source": "print(lowest_cost_patient)",
   "outputs": [
    {
     "name": "stdout",
     "output_type": "stream",
     "text": [
      "('18', 'male', '23.21', '0', 'no', 'southeast', '1121.8739')\n"
     ]
    }
   ],
   "execution_count": 200
  },
  {
   "metadata": {
    "ExecuteTime": {
     "end_time": "2024-05-26T14:10:00.188434Z",
     "start_time": "2024-05-26T14:10:00.183968Z"
    }
   },
   "cell_type": "code",
   "source": "",
   "outputs": [],
   "execution_count": 200
  }
 ],
 "metadata": {
  "kernelspec": {
   "display_name": "base",
   "language": "python",
   "name": "python3"
  },
  "language_info": {
   "codemirror_mode": {
    "name": "ipython",
    "version": 3
   },
   "file_extension": ".py",
   "mimetype": "text/x-python",
   "name": "python",
   "nbconvert_exporter": "python",
   "pygments_lexer": "ipython3",
   "version": "3.11.7"
  }
 },
 "nbformat": 4,
 "nbformat_minor": 2
}
