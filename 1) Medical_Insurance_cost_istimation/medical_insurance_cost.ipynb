{
 "cells": [
  {
   "metadata": {
    "ExecuteTime": {
     "end_time": "2024-10-10T04:32:41.642479Z",
     "start_time": "2024-10-10T04:32:41.627914Z"
    }
   },
   "cell_type": "code",
   "source": [
    "import csv\n",
    "import pandas as pd\n",
    "import matplotlib.pyplot as plt"
   ],
   "outputs": [],
   "execution_count": 53
  },
  {
   "metadata": {},
   "cell_type": "markdown",
   "source": "# Step 1: Load the data"
  },
  {
   "metadata": {
    "ExecuteTime": {
     "end_time": "2024-10-10T04:32:41.719787Z",
     "start_time": "2024-10-10T04:32:41.715820Z"
    }
   },
   "cell_type": "code",
   "source": "",
   "outputs": [],
   "execution_count": null
  },
  {
   "metadata": {
    "ExecuteTime": {
     "end_time": "2024-10-10T04:32:41.744752Z",
     "start_time": "2024-10-10T04:32:41.732608Z"
    }
   },
   "cell_type": "code",
   "source": [
    "# # Load the data from the csv file\n",
    "def load_data(file_path):\n",
    "    data = []\n",
    "\n",
    "    with open(file_path) as csv_file:\n",
    "        csv_reader = csv.DictReader(csv_file)\n",
    "        for row in csv_reader:\n",
    "            data.append(row)\n",
    "    return data\n",
    "\n",
    "data = load_data('Data/insurance.csv')"
   ],
   "outputs": [],
   "execution_count": 54
  },
  {
   "metadata": {
    "ExecuteTime": {
     "end_time": "2024-10-10T04:32:41.775729Z",
     "start_time": "2024-10-10T04:32:41.771933Z"
    }
   },
   "cell_type": "code",
   "source": "print(type(data))",
   "outputs": [
    {
     "name": "stdout",
     "output_type": "stream",
     "text": [
      "<class 'list'>\n"
     ]
    }
   ],
   "execution_count": 55
  },
  {
   "metadata": {
    "ExecuteTime": {
     "end_time": "2024-10-10T04:32:41.856197Z",
     "start_time": "2024-10-10T04:32:41.852344Z"
    }
   },
   "cell_type": "code",
   "source": "print(data[:3])",
   "outputs": [
    {
     "name": "stdout",
     "output_type": "stream",
     "text": [
      "[{'age': '19', 'sex': 'female', 'bmi': '27.9', 'children': '0', 'smoker': 'yes', 'region': 'southwest', 'charges': '16884.924'}, {'age': '18', 'sex': 'male', 'bmi': '33.77', 'children': '1', 'smoker': 'no', 'region': 'southeast', 'charges': '1725.5523'}, {'age': '28', 'sex': 'male', 'bmi': '33', 'children': '3', 'smoker': 'no', 'region': 'southeast', 'charges': '4449.462'}]\n"
     ]
    }
   ],
   "execution_count": 56
  },
  {
   "metadata": {},
   "cell_type": "markdown",
   "source": "# creating the list of every column"
  },
  {
   "metadata": {
    "ExecuteTime": {
     "end_time": "2024-10-10T04:32:41.922877Z",
     "start_time": "2024-10-10T04:32:41.918898Z"
    }
   },
   "cell_type": "code",
   "source": [
    "age = []\n",
    "sex = []\n",
    "bmi = []\n",
    "children = []\n",
    "\n",
    "smoker = []\n",
    "region = []\n",
    "charges = []"
   ],
   "outputs": [],
   "execution_count": 57
  },
  {
   "metadata": {
    "ExecuteTime": {
     "end_time": "2024-10-10T04:32:41.957055Z",
     "start_time": "2024-10-10T04:32:41.950456Z"
    }
   },
   "cell_type": "code",
   "source": [
    "def extract_data(age):\n",
    "    for row in data:\n",
    "        age.append(row['age'])\n",
    "        \n",
    "extract_data(age)"
   ],
   "outputs": [],
   "execution_count": 58
  },
  {
   "metadata": {
    "ExecuteTime": {
     "end_time": "2024-10-10T04:32:41.983432Z",
     "start_time": "2024-10-10T04:32:41.970445Z"
    }
   },
   "cell_type": "code",
   "source": "print(age[:3])",
   "outputs": [
    {
     "name": "stdout",
     "output_type": "stream",
     "text": [
      "['19', '18', '28']\n"
     ]
    }
   ],
   "execution_count": 59
  },
  {
   "metadata": {
    "ExecuteTime": {
     "end_time": "2024-10-10T04:32:42.026891Z",
     "start_time": "2024-10-10T04:32:42.022473Z"
    }
   },
   "cell_type": "code",
   "source": [
    "def extract_data(sex):\n",
    "    for row in data:\n",
    "        sex.append(row['sex'])\n",
    "\n",
    "extract_data(sex)"
   ],
   "outputs": [],
   "execution_count": 60
  },
  {
   "metadata": {
    "ExecuteTime": {
     "end_time": "2024-10-10T04:32:42.087067Z",
     "start_time": "2024-10-10T04:32:42.083477Z"
    }
   },
   "cell_type": "code",
   "source": "print(sex[:3])",
   "outputs": [
    {
     "name": "stdout",
     "output_type": "stream",
     "text": [
      "['female', 'male', 'male']\n"
     ]
    }
   ],
   "execution_count": 61
  },
  {
   "metadata": {
    "ExecuteTime": {
     "end_time": "2024-10-10T04:32:42.134347Z",
     "start_time": "2024-10-10T04:32:42.127341Z"
    }
   },
   "cell_type": "code",
   "source": [
    "def extract_data(bmi):\n",
    "    for row in data:\n",
    "        bmi.append(row['bmi'])\n",
    "\n",
    "extract_data(bmi)"
   ],
   "outputs": [],
   "execution_count": 62
  },
  {
   "metadata": {
    "ExecuteTime": {
     "end_time": "2024-10-10T04:32:42.174377Z",
     "start_time": "2024-10-10T04:32:42.158792Z"
    }
   },
   "cell_type": "code",
   "source": "print(bmi[:3])",
   "outputs": [
    {
     "name": "stdout",
     "output_type": "stream",
     "text": [
      "['27.9', '33.77', '33']\n"
     ]
    }
   ],
   "execution_count": 63
  },
  {
   "metadata": {
    "ExecuteTime": {
     "end_time": "2024-10-10T04:32:42.215644Z",
     "start_time": "2024-10-10T04:32:42.209963Z"
    }
   },
   "cell_type": "code",
   "source": [
    "def extract_data(children):\n",
    "    for row in data:\n",
    "        children.append(row['children'])\n",
    "       \n",
    "       \n",
    "extract_data(children) "
   ],
   "outputs": [],
   "execution_count": 64
  },
  {
   "metadata": {
    "ExecuteTime": {
     "end_time": "2024-10-10T04:32:42.288917Z",
     "start_time": "2024-10-10T04:32:42.284350Z"
    }
   },
   "cell_type": "code",
   "source": "print(children[:3])",
   "outputs": [
    {
     "name": "stdout",
     "output_type": "stream",
     "text": [
      "['0', '1', '3']\n"
     ]
    }
   ],
   "execution_count": 65
  },
  {
   "metadata": {
    "ExecuteTime": {
     "end_time": "2024-10-10T04:32:42.341789Z",
     "start_time": "2024-10-10T04:32:42.322215Z"
    }
   },
   "cell_type": "code",
   "source": [
    "def extract_data(smoker):\n",
    "    for row in data:\n",
    "        smoker.append(row['smoker'])\n",
    "\n",
    "extract_data(smoker)"
   ],
   "outputs": [],
   "execution_count": 66
  },
  {
   "metadata": {
    "ExecuteTime": {
     "end_time": "2024-10-10T04:32:42.401258Z",
     "start_time": "2024-10-10T04:32:42.391207Z"
    }
   },
   "cell_type": "code",
   "source": "print(smoker[:3])",
   "outputs": [
    {
     "name": "stdout",
     "output_type": "stream",
     "text": [
      "['yes', 'no', 'no']\n"
     ]
    }
   ],
   "execution_count": 67
  },
  {
   "metadata": {
    "ExecuteTime": {
     "end_time": "2024-10-10T04:32:42.449481Z",
     "start_time": "2024-10-10T04:32:42.444381Z"
    }
   },
   "cell_type": "code",
   "source": [
    "def extract_data(region):\n",
    "    for row in data:\n",
    "        region.append(row['region'])\n",
    "    \n",
    "extract_data(region)"
   ],
   "outputs": [],
   "execution_count": 68
  },
  {
   "metadata": {
    "ExecuteTime": {
     "end_time": "2024-10-10T04:32:42.488928Z",
     "start_time": "2024-10-10T04:32:42.484342Z"
    }
   },
   "cell_type": "code",
   "source": "print(region[:3])",
   "outputs": [
    {
     "name": "stdout",
     "output_type": "stream",
     "text": [
      "['southwest', 'southeast', 'southeast']\n"
     ]
    }
   ],
   "execution_count": 69
  },
  {
   "metadata": {
    "ExecuteTime": {
     "end_time": "2024-10-10T04:32:42.547410Z",
     "start_time": "2024-10-10T04:32:42.512946Z"
    }
   },
   "cell_type": "code",
   "source": [
    "def extract_data(charges):\n",
    "    for row in data:\n",
    "        charges.append(row['charges'])\n",
    "\n",
    "extract_data(charges)"
   ],
   "outputs": [],
   "execution_count": 70
  },
  {
   "metadata": {
    "ExecuteTime": {
     "end_time": "2024-10-10T04:32:42.596841Z",
     "start_time": "2024-10-10T04:32:42.567984Z"
    }
   },
   "cell_type": "code",
   "source": "print(charges[:3])",
   "outputs": [
    {
     "name": "stdout",
     "output_type": "stream",
     "text": [
      "['16884.924', '1725.5523', '4449.462']\n"
     ]
    }
   ],
   "execution_count": 71
  },
  {
   "metadata": {
    "ExecuteTime": {
     "end_time": "2024-10-10T04:32:42.633591Z",
     "start_time": "2024-10-10T04:32:42.630120Z"
    }
   },
   "cell_type": "code",
   "source": "",
   "outputs": [],
   "execution_count": null
  },
  {
   "metadata": {},
   "cell_type": "markdown",
   "source": "# Data zipping"
  },
  {
   "metadata": {
    "ExecuteTime": {
     "end_time": "2024-10-10T04:32:42.661576Z",
     "start_time": "2024-10-10T04:32:42.651495Z"
    }
   },
   "cell_type": "code",
   "source": "zipped_data = list(zip(age, sex, bmi, children, smoker, region, charges))",
   "outputs": [],
   "execution_count": 72
  },
  {
   "metadata": {
    "ExecuteTime": {
     "end_time": "2024-10-10T04:32:42.688885Z",
     "start_time": "2024-10-10T04:32:42.683824Z"
    }
   },
   "cell_type": "code",
   "source": "zipped_df = pd.DataFrame(zipped_data, columns=['age', 'sex', 'bmi', 'children', 'smoker', 'region', 'charges'])",
   "outputs": [],
   "execution_count": 73
  },
  {
   "metadata": {
    "ExecuteTime": {
     "end_time": "2024-10-10T04:32:42.743233Z",
     "start_time": "2024-10-10T04:32:42.738548Z"
    }
   },
   "cell_type": "code",
   "source": "print(zipped_data[:3])\n",
   "outputs": [
    {
     "name": "stdout",
     "output_type": "stream",
     "text": [
      "[('19', 'female', '27.9', '0', 'yes', 'southwest', '16884.924'), ('18', 'male', '33.77', '1', 'no', 'southeast', '1725.5523'), ('28', 'male', '33', '3', 'no', 'southeast', '4449.462')]\n"
     ]
    }
   ],
   "execution_count": 74
  },
  {
   "metadata": {
    "ExecuteTime": {
     "end_time": "2024-10-10T04:32:42.802797Z",
     "start_time": "2024-10-10T04:32:42.796497Z"
    }
   },
   "cell_type": "code",
   "source": "print(type(zipped_df))",
   "outputs": [
    {
     "name": "stdout",
     "output_type": "stream",
     "text": [
      "<class 'pandas.core.frame.DataFrame'>\n"
     ]
    }
   ],
   "execution_count": 75
  },
  {
   "metadata": {
    "ExecuteTime": {
     "end_time": "2024-10-10T04:32:42.860049Z",
     "start_time": "2024-10-10T04:32:42.843687Z"
    }
   },
   "cell_type": "code",
   "source": "print(zipped_df[:3])",
   "outputs": [
    {
     "name": "stdout",
     "output_type": "stream",
     "text": [
      "  age     sex    bmi children smoker     region    charges\n",
      "0  19  female   27.9        0    yes  southwest  16884.924\n",
      "1  18    male  33.77        1     no  southeast  1725.5523\n",
      "2  28    male     33        3     no  southeast   4449.462\n"
     ]
    }
   ],
   "execution_count": 76
  },
  {
   "metadata": {},
   "cell_type": "markdown",
   "source": "# Step 2: Data Analysis"
  },
  {
   "metadata": {
    "ExecuteTime": {
     "end_time": "2024-10-10T04:32:45.484978Z",
     "start_time": "2024-10-10T04:32:42.910159Z"
    }
   },
   "cell_type": "code",
   "source": [
    "plt.figure(figsize=(10, 6))\n",
    "plt.hist(zipped_df['bmi'], bins=50, color='skyblue', edgecolor='black')\n",
    "plt.title('BMI Distribution')\n",
    "plt.xlabel('BMI')\n",
    "plt.ylabel('Number of Patients')\n",
    "plt.show()"
   ],
   "outputs": [
    {
     "data": {
      "text/plain": [
       "<Figure size 1000x600 with 1 Axes>"
      ],
      "image/png": "[encoded data removed]"
     },
     "metadata": {},
     "output_type": "display_data"
    }
   ],
   "execution_count": 77
  },
  {
   "metadata": {},
   "cell_type": "markdown",
   "source": "### For smokers and non-smokers "
  },
  {
   "metadata": {
    "ExecuteTime": {
     "end_time": "2024-10-10T04:32:45.598469Z",
     "start_time": "2024-10-10T04:32:45.519626Z"
    }
   },
   "cell_type": "code",
   "source": [
    "smoker_and_Nonsmoker_count = zipped_df['smoker'].value_counts()\n",
    "plt.figure(figsize=(10, 6))\n",
    "plt.pie(smoker_and_Nonsmoker_count, labels=smoker_and_Nonsmoker_count.index, autopct='%1.1f%%', startangle=90, colors=['#ff9999','#66b3ff'])\n",
    "plt.title('Smoker and Non-Smoker')\n",
    "plt.show()"
   ],
   "outputs": [
    {
     "data": {
      "text/plain": [
       "<Figure size 1000x600 with 1 Axes>"
      ],
      "image/png": "[encoded data removed]"
     },
     "metadata": {},
     "output_type": "display_data"
    }
   ],
   "execution_count": 78
  },
  {
   "metadata": {
    "ExecuteTime": {
     "end_time": "2024-10-10T04:32:45.625333Z",
     "start_time": "2024-10-10T04:32:45.622179Z"
    }
   },
   "cell_type": "code",
   "source": "",
   "outputs": [],
   "execution_count": null
  },
  {
   "metadata": {
    "ExecuteTime": {
     "end_time": "2024-10-10T04:32:45.755939Z",
     "start_time": "2024-10-10T04:32:45.658060Z"
    }
   },
   "cell_type": "code",
   "source": [
    "region_counts = zipped_df['region'].value_counts()\n",
    "\n",
    "# Create a pie chart\n",
    "plt.figure(figsize=(10, 6))\n",
    "plt.pie(region_counts, labels=region_counts.index, autopct='%1.1f%%', startangle=90, colors=['#3E78C1','#C13EB9', '#C1873E', '#3EC146'])\n",
    "\n",
    "# Add a white circle at the center to make it look like a donut\n",
    "centre_circle = plt.Circle((0, 0), 0.70, fc='white')\n",
    "fig = plt.gcf()\n",
    "fig.gca().add_artist(centre_circle)\n",
    "\n",
    "# Equal aspect ratio ensures that pie is drawn as a circle.\n",
    "plt.title('Region Distribution')\n",
    "plt.axis('equal')\n",
    "plt.show()"
   ],
   "outputs": [
    {
     "data": {
      "text/plain": [
       "<Figure size 1000x600 with 1 Axes>"
      ],
      "image/png": "[encoded data removed]"
     },
     "metadata": {},
     "output_type": "display_data"
    }
   ],
   "execution_count": 79
  },
  {
   "metadata": {},
   "cell_type": "markdown",
   "source": "# Step 3: Result Analysis"
  },
  {
   "metadata": {},
   "cell_type": "markdown",
   "source": "### Average cost of insurance"
  },
  {
   "metadata": {
    "ExecuteTime": {
     "end_time": "2024-10-10T04:32:45.791769Z",
     "start_time": "2024-10-10T04:32:45.788411Z"
    }
   },
   "cell_type": "code",
   "source": "print(charges[:10])",
   "outputs": [
    {
     "name": "stdout",
     "output_type": "stream",
     "text": [
      "['16884.924', '1725.5523', '4449.462', '21984.47061', '3866.8552', '3756.6216', '8240.5896', '7281.5056', '6406.4107', '28923.13692']\n"
     ]
    }
   ],
   "execution_count": 80
  },
  {
   "metadata": {
    "ExecuteTime": {
     "end_time": "2024-10-10T04:32:45.842702Z",
     "start_time": "2024-10-10T04:32:45.829080Z"
    }
   },
   "cell_type": "code",
   "source": [
    "# Calculate the average cost of insurance\n",
    "zipped_df['charges'] = zipped_df['charges'].astype(float)\n",
    "average_cost = zipped_df['charges'].mean()\n",
    "\n",
    "# Print the average cost\n",
    "print(f'Average cost of insurance: {average_cost:.2f} US dollars')"
   ],
   "outputs": [
    {
     "name": "stdout",
     "output_type": "stream",
     "text": [
      "Average cost of insurance: 13270.42 US dollars\n"
     ]
    }
   ],
   "execution_count": 81
  },
  {
   "metadata": {
    "ExecuteTime": {
     "end_time": "2024-10-10T04:32:45.893847Z",
     "start_time": "2024-10-10T04:32:45.876808Z"
    }
   },
   "cell_type": "code",
   "source": "max_cost = zipped_df['charges'].max()",
   "outputs": [],
   "execution_count": 82
  },
  {
   "metadata": {
    "ExecuteTime": {
     "end_time": "2024-10-10T04:32:45.945920Z",
     "start_time": "2024-10-10T04:32:45.941267Z"
    }
   },
   "cell_type": "code",
   "source": [
    "min_cost = zipped_df['charges'].min()\n",
    "print(f'Maximum cost of insurance: {int(max_cost)} US dollars')\n",
    "print(f'Minimum cost of insurance: {int(min_cost)} US dollars')"
   ],
   "outputs": [
    {
     "name": "stdout",
     "output_type": "stream",
     "text": [
      "Maximum cost of insurance: 63770 US dollars\n",
      "Minimum cost of insurance: 1121 US dollars\n"
     ]
    }
   ],
   "execution_count": 83
  },
  {
   "metadata": {},
   "cell_type": "markdown",
   "source": "# Average cost for smokers and Non-smokers"
  },
  {
   "metadata": {
    "ExecuteTime": {
     "end_time": "2024-10-10T04:32:45.981966Z",
     "start_time": "2024-10-10T04:32:45.975365Z"
    }
   },
   "cell_type": "code",
   "source": [
    "# Average cost of insurance for smokers and non-smokers\n",
    "average_cost_smoker = zipped_df[zipped_df['smoker'] == 'yes']['charges'].mean()\n",
    "average_cost_non_smoker = zipped_df[zipped_df['smoker'] == 'no']['charges'].mean()\n",
    "print(f'Average cost of insurance for smokers: {int(average_cost_smoker)} US dollars')"
   ],
   "outputs": [
    {
     "name": "stdout",
     "output_type": "stream",
     "text": [
      "Average cost of insurance for smokers: 32050 US dollars\n"
     ]
    }
   ],
   "execution_count": 84
  },
  {
   "metadata": {
    "ExecuteTime": {
     "end_time": "2024-10-10T04:32:46.033089Z",
     "start_time": "2024-10-10T04:32:46.028825Z"
    }
   },
   "cell_type": "code",
   "source": "print(f'Average cost of insurance for non-smokers: {int(average_cost_non_smoker)} US dollars')",
   "outputs": [
    {
     "name": "stdout",
     "output_type": "stream",
     "text": [
      "Average cost of insurance for non-smokers: 8434 US dollars\n"
     ]
    }
   ],
   "execution_count": 85
  },
  {
   "metadata": {},
   "cell_type": "markdown",
   "source": "# difference of average cost between smokers and non-smokers\n"
  },
  {
   "metadata": {
    "ExecuteTime": {
     "end_time": "2024-10-10T04:32:46.086543Z",
     "start_time": "2024-10-10T04:32:46.081274Z"
    }
   },
   "cell_type": "code",
   "source": [
    "# difference of average cost between smokers and non-smokers\n",
    "difference = average_cost_smoker - average_cost_non_smoker\n",
    "print(f'Difference of average cost between smokers and non-smokers: {int(difference)} US dollars')"
   ],
   "outputs": [
    {
     "name": "stdout",
     "output_type": "stream",
     "text": [
      "Difference of average cost between smokers and non-smokers: 23615 US dollars\n"
     ]
    }
   ],
   "execution_count": 86
  },
  {
   "metadata": {},
   "cell_type": "markdown",
   "source": "# IF BMI is greater than 30, then the patient is obese\n"
  },
  {
   "metadata": {
    "ExecuteTime": {
     "end_time": "2024-10-10T04:34:56.535435Z",
     "start_time": "2024-10-10T04:34:56.523407Z"
    }
   },
   "cell_type": "code",
   "source": [
    "print(type(bmi))\n",
    "print(bmi[:5])"
   ],
   "outputs": [
    {
     "name": "stdout",
     "output_type": "stream",
     "text": [
      "<class 'list'>\n",
      "['27.9', '33.77', '33', '22.705', '28.88']\n"
     ]
    }
   ],
   "execution_count": 90
  },
  {
   "metadata": {
    "ExecuteTime": {
     "end_time": "2024-10-10T04:37:49.494940Z",
     "start_time": "2024-10-10T04:37:49.481222Z"
    }
   },
   "cell_type": "code",
   "source": [
    "obese_patients = zipped_df[zipped_df['bmi'].astype(float) > 30]\n",
    "print(obese_patients)"
   ],
   "outputs": [
    {
     "name": "stdout",
     "output_type": "stream",
     "text": [
      "     age     sex    bmi children smoker     region      charges\n",
      "1     18    male  33.77        1     no  southeast   1725.55230\n",
      "2     28    male     33        3     no  southeast   4449.46200\n",
      "6     46  female  33.44        1     no  southeast   8240.58960\n",
      "12    23    male   34.4        0     no  southwest   1826.84300\n",
      "13    56  female  39.82        0     no  southeast  11090.71780\n",
      "...   ..     ...    ...      ...    ...        ...          ...\n",
      "1331  23  female   33.4        0     no  southwest  10795.93733\n",
      "1332  52  female   44.7        3     no  southwest  11411.68500\n",
      "1333  50    male  30.97        3     no  northwest  10600.54830\n",
      "1334  18  female  31.92        0     no  northeast   2205.98080\n",
      "1335  18  female  36.85        0     no  southeast   1629.83350\n",
      "\n",
      "[705 rows x 7 columns]\n"
     ]
    }
   ],
   "execution_count": 92
  },
  {
   "metadata": {
    "ExecuteTime": {
     "end_time": "2024-10-10T04:43:59.386655Z",
     "start_time": "2024-10-10T04:43:59.379599Z"
    }
   },
   "cell_type": "code",
   "source": [
    "obese_patients_count = obese_patients.shape[0]\n",
    "print(f'The number of obese patients: {obese_patients_count}')"
   ],
   "outputs": [
    {
     "name": "stdout",
     "output_type": "stream",
     "text": [
      "The number of obese patients: 705\n"
     ]
    }
   ],
   "execution_count": 98
  },
  {
   "metadata": {
    "ExecuteTime": {
     "end_time": "2024-10-10T04:45:30.555149Z",
     "start_time": "2024-10-10T04:45:30.547355Z"
    }
   },
   "cell_type": "code",
   "source": "print(f'The number of obese patients: {obese_patients_count}')",
   "outputs": [
    {
     "name": "stdout",
     "output_type": "stream",
     "text": [
      "The number of obese patients: 705\n"
     ]
    }
   ],
   "execution_count": 99
  },
  {
   "metadata": {},
   "cell_type": "markdown",
   "source": "# find The most expensive region for insurance"
  },
  {
   "metadata": {
    "ExecuteTime": {
     "end_time": "2024-10-10T04:46:03.994287Z",
     "start_time": "2024-10-10T04:46:03.984486Z"
    }
   },
   "cell_type": "code",
   "source": [
    "most_expensive_region = zipped_df.groupby('region')['charges'].mean().idxmax()\n",
    "print(f'The most expensive region for insurance: {most_expensive_region}')"
   ],
   "outputs": [
    {
     "name": "stdout",
     "output_type": "stream",
     "text": [
      "The most expensive region for insurance: southeast\n"
     ]
    }
   ],
   "execution_count": 102
  },
  {
   "metadata": {
    "ExecuteTime": {
     "end_time": "2024-10-10T04:46:04.677103Z",
     "start_time": "2024-10-10T04:46:04.669704Z"
    }
   },
   "cell_type": "code",
   "source": [
    "most_cheapest_region = zipped_df.groupby('region')['charges'].mean().idxmin()\n",
    "print(f'The most cheapest region for insurance: {most_cheapest_region}')"
   ],
   "outputs": [
    {
     "name": "stdout",
     "output_type": "stream",
     "text": [
      "The most cheapest region for insurance: southwest\n"
     ]
    }
   ],
   "execution_count": 103
  },
  {
   "metadata": {},
   "cell_type": "markdown",
   "source": "# Average cost of insurance for different regions\n"
  },
  {
   "metadata": {
    "ExecuteTime": {
     "end_time": "2024-10-10T04:46:10.814977Z",
     "start_time": "2024-10-10T04:46:10.805295Z"
    }
   },
   "cell_type": "code",
   "source": [
    "average_cost_region = zipped_df.groupby('region')['charges'].mean()\n",
    "print(average_cost_region)"
   ],
   "outputs": [
    {
     "name": "stdout",
     "output_type": "stream",
     "text": [
      "region\n",
      "northeast    13406.384516\n",
      "northwest    12417.575374\n",
      "southeast    14735.411438\n",
      "southwest    12346.937377\n",
      "Name: charges, dtype: float64\n"
     ]
    }
   ],
   "execution_count": 104
  },
  {
   "metadata": {},
   "cell_type": "markdown",
   "source": "### Find the patient with the highest insurance cost"
  },
  {
   "metadata": {
    "ExecuteTime": {
     "end_time": "2024-10-10T04:49:44.163992Z",
     "start_time": "2024-10-10T04:49:44.152247Z"
    }
   },
   "cell_type": "code",
   "source": [
    "highest_cost_patient = zipped_data[zipped_df['charges'].idxmax()]\n",
    "print(highest_cost_patient)"
   ],
   "outputs": [
    {
     "name": "stdout",
     "output_type": "stream",
     "text": [
      "('54', 'female', '47.41', '0', 'yes', 'southeast', '63770.42801')\n"
     ]
    }
   ],
   "execution_count": 114
  },
  {
   "metadata": {
    "ExecuteTime": {
     "end_time": "2024-10-10T04:51:14.306545Z",
     "start_time": "2024-10-10T04:51:14.300055Z"
    }
   },
   "cell_type": "code",
   "source": [
    "lowest_cost_patient = zipped_data[zipped_df['charges'].idxmin()]\n",
    "print(lowest_cost_patient)"
   ],
   "outputs": [
    {
     "name": "stdout",
     "output_type": "stream",
     "text": [
      "('18', 'male', '23.21', '0', 'no', 'southeast', '1121.8739')\n"
     ]
    }
   ],
   "execution_count": 115
  }
 ],
 "metadata": {
  "kernelspec": {
   "display_name": "base",
   "language": "python",
   "name": "python3"
  },
  "language_info": {
   "codemirror_mode": {
    "name": "ipython",
    "version": 3
   },
   "file_extension": ".py",
   "mimetype": "text/x-python",
   "name": "python",
   "nbconvert_exporter": "python",
   "pygments_lexer": "ipython3",
   "version": "3.11.7"
  }
 },
 "nbformat": 4,
 "nbformat_minor": 2
}
