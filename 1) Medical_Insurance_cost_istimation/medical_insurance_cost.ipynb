{
 "cells": [
  {
   "metadata": {
    "ExecuteTime": {
     "end_time": "2024-05-28T09:25:22.601660Z",
     "start_time": "2024-05-28T09:25:20.796732Z"
    }
   },
   "cell_type": "code",
   "source": [
    "import csv\n",
    "import pandas as pd\n",
    "import matplotlib.pyplot as plt"
   ],
   "outputs": [],
   "execution_count": 1
  },
  {
   "metadata": {},
   "cell_type": "markdown",
   "source": "# Step 1: Load the data"
  },
  {
   "metadata": {
    "ExecuteTime": {
     "end_time": "2024-05-28T09:25:22.610510Z",
     "start_time": "2024-05-28T09:25:22.604689Z"
    }
   },
   "cell_type": "code",
   "source": "",
   "outputs": [],
   "execution_count": 1
  },
  {
   "metadata": {
    "ExecuteTime": {
     "end_time": "2024-05-28T09:25:22.625739Z",
     "start_time": "2024-05-28T09:25:22.612701Z"
    }
   },
   "cell_type": "code",
   "source": [
    "# Load the data from the csv file\n",
    "def load_data(file_path):\n",
    "    data = []\n",
    "    \n",
    "    with open(file_path) as csv_file:\n",
    "        csv_reader = csv.DictReader(csv_file)\n",
    "        for row in csv_reader:\n",
    "            data.append(row)\n",
    "    return data\n",
    "\n",
    "data = load_data('Data/insurance.csv')\n"
   ],
   "outputs": [],
   "execution_count": 2
  },
  {
   "metadata": {
    "ExecuteTime": {
     "end_time": "2024-05-28T09:25:22.645803Z",
     "start_time": "2024-05-28T09:25:22.627755Z"
    }
   },
   "cell_type": "code",
   "source": "print(type(data))",
   "outputs": [
    {
     "name": "stdout",
     "output_type": "stream",
     "text": [
      "<class 'list'>\n"
     ]
    }
   ],
   "execution_count": 3
  },
  {
   "metadata": {
    "ExecuteTime": {
     "end_time": "2024-05-28T09:25:22.654848Z",
     "start_time": "2024-05-28T09:25:22.647813Z"
    }
   },
   "cell_type": "code",
   "source": "print(data[:3])",
   "outputs": [
    {
     "name": "stdout",
     "output_type": "stream",
     "text": [
      "[{'age': '19', 'sex': 'female', 'bmi': '27.9', 'children': '0', 'smoker': 'yes', 'region': 'southwest', 'charges': '16884.924'}, {'age': '18', 'sex': 'male', 'bmi': '33.77', 'children': '1', 'smoker': 'no', 'region': 'southeast', 'charges': '1725.5523'}, {'age': '28', 'sex': 'male', 'bmi': '33', 'children': '3', 'smoker': 'no', 'region': 'southeast', 'charges': '4449.462'}]\n"
     ]
    }
   ],
   "execution_count": 4
  },
  {
   "metadata": {},
   "cell_type": "markdown",
   "source": "# creating the list of every column"
  },
  {
   "metadata": {
    "ExecuteTime": {
     "end_time": "2024-05-28T09:25:22.668882Z",
     "start_time": "2024-05-28T09:25:22.659859Z"
    }
   },
   "cell_type": "code",
   "source": [
    "age = []\n",
    "sex = []\n",
    "bmi = []\n",
    "children = []\n",
    "smoker = []\n",
    "region = []\n",
    "charges = []"
   ],
   "outputs": [],
   "execution_count": 5
  },
  {
   "metadata": {
    "ExecuteTime": {
     "end_time": "2024-05-28T09:25:22.681841Z",
     "start_time": "2024-05-28T09:25:22.671899Z"
    }
   },
   "cell_type": "code",
   "source": [
    "def extract_data(age):\n",
    "    for row in data:\n",
    "        age.append(row['age'])\n",
    "\n",
    "extract_data(age)"
   ],
   "outputs": [],
   "execution_count": 6
  },
  {
   "metadata": {
    "ExecuteTime": {
     "end_time": "2024-05-28T09:25:22.694850Z",
     "start_time": "2024-05-28T09:25:22.684854Z"
    }
   },
   "cell_type": "code",
   "source": "print(age[:3])",
   "outputs": [
    {
     "name": "stdout",
     "output_type": "stream",
     "text": [
      "['19', '18', '28']\n"
     ]
    }
   ],
   "execution_count": 7
  },
  {
   "metadata": {
    "ExecuteTime": {
     "end_time": "2024-05-28T09:25:22.708659Z",
     "start_time": "2024-05-28T09:25:22.696865Z"
    }
   },
   "cell_type": "code",
   "source": [
    "def extract_data(sex):\n",
    "    for row in data:\n",
    "        sex.append(row['sex'])\n",
    "\n",
    "extract_data(sex)"
   ],
   "outputs": [],
   "execution_count": 8
  },
  {
   "metadata": {
    "ExecuteTime": {
     "end_time": "2024-05-28T09:25:22.721567Z",
     "start_time": "2024-05-28T09:25:22.710677Z"
    }
   },
   "cell_type": "code",
   "source": "print(sex[:3])",
   "outputs": [
    {
     "name": "stdout",
     "output_type": "stream",
     "text": [
      "['female', 'male', 'male']\n"
     ]
    }
   ],
   "execution_count": 9
  },
  {
   "metadata": {
    "ExecuteTime": {
     "end_time": "2024-05-28T09:25:22.735241Z",
     "start_time": "2024-05-28T09:25:22.723585Z"
    }
   },
   "cell_type": "code",
   "source": [
    "def extract_data(bmi):\n",
    "    for row in data:\n",
    "        bmi.append(row['bmi'])\n",
    "\n",
    "extract_data(bmi)"
   ],
   "outputs": [],
   "execution_count": 10
  },
  {
   "metadata": {
    "ExecuteTime": {
     "end_time": "2024-05-28T09:25:22.748246Z",
     "start_time": "2024-05-28T09:25:22.738253Z"
    }
   },
   "cell_type": "code",
   "source": "print(bmi[:3])",
   "outputs": [
    {
     "name": "stdout",
     "output_type": "stream",
     "text": [
      "['27.9', '33.77', '33']\n"
     ]
    }
   ],
   "execution_count": 11
  },
  {
   "metadata": {
    "ExecuteTime": {
     "end_time": "2024-05-28T09:25:22.761373Z",
     "start_time": "2024-05-28T09:25:22.750260Z"
    }
   },
   "cell_type": "code",
   "source": [
    "def extract_data(children):\n",
    "    for row in data:\n",
    "        children.append(row['children'])\n",
    "       \n",
    "       \n",
    "extract_data(children) "
   ],
   "outputs": [],
   "execution_count": 12
  },
  {
   "metadata": {
    "ExecuteTime": {
     "end_time": "2024-05-28T09:25:22.780358Z",
     "start_time": "2024-05-28T09:25:22.763386Z"
    }
   },
   "cell_type": "code",
   "source": "print(children[:3])",
   "outputs": [
    {
     "name": "stdout",
     "output_type": "stream",
     "text": [
      "['0', '1', '3']\n"
     ]
    }
   ],
   "execution_count": 13
  },
  {
   "metadata": {
    "ExecuteTime": {
     "end_time": "2024-05-28T09:25:22.794780Z",
     "start_time": "2024-05-28T09:25:22.782514Z"
    }
   },
   "cell_type": "code",
   "source": [
    "def extract_data(smoker):\n",
    "    for row in data:\n",
    "        smoker.append(row['smoker'])\n",
    "\n",
    "extract_data(smoker)"
   ],
   "outputs": [],
   "execution_count": 14
  },
  {
   "metadata": {
    "ExecuteTime": {
     "end_time": "2024-05-28T09:25:22.808771Z",
     "start_time": "2024-05-28T09:25:22.796795Z"
    }
   },
   "cell_type": "code",
   "source": "print(smoker[:3])",
   "outputs": [
    {
     "name": "stdout",
     "output_type": "stream",
     "text": [
      "['yes', 'no', 'no']\n"
     ]
    }
   ],
   "execution_count": 15
  },
  {
   "metadata": {
    "ExecuteTime": {
     "end_time": "2024-05-28T09:25:22.821422Z",
     "start_time": "2024-05-28T09:25:22.810785Z"
    }
   },
   "cell_type": "code",
   "source": [
    "def extract_data(region):\n",
    "    for row in data:\n",
    "        region.append(row['region'])\n",
    "    \n",
    "extract_data(region)"
   ],
   "outputs": [],
   "execution_count": 16
  },
  {
   "metadata": {
    "ExecuteTime": {
     "end_time": "2024-05-28T09:25:22.835604Z",
     "start_time": "2024-05-28T09:25:22.828469Z"
    }
   },
   "cell_type": "code",
   "source": "print(region[:3])",
   "outputs": [
    {
     "name": "stdout",
     "output_type": "stream",
     "text": [
      "['southwest', 'southeast', 'southeast']\n"
     ]
    }
   ],
   "execution_count": 17
  },
  {
   "metadata": {
    "ExecuteTime": {
     "end_time": "2024-05-28T09:25:22.853412Z",
     "start_time": "2024-05-28T09:25:22.837620Z"
    }
   },
   "cell_type": "code",
   "source": [
    "def extract_data(charges):\n",
    "    for row in data:\n",
    "        charges.append(row['charges'])\n",
    "\n",
    "extract_data(charges)"
   ],
   "outputs": [],
   "execution_count": 18
  },
  {
   "metadata": {
    "ExecuteTime": {
     "end_time": "2024-05-28T09:25:22.874874Z",
     "start_time": "2024-05-28T09:25:22.856423Z"
    }
   },
   "cell_type": "code",
   "source": "print(charges[:3])",
   "outputs": [
    {
     "name": "stdout",
     "output_type": "stream",
     "text": [
      "['16884.924', '1725.5523', '4449.462']\n"
     ]
    }
   ],
   "execution_count": 19
  },
  {
   "metadata": {
    "ExecuteTime": {
     "end_time": "2024-05-28T09:25:22.880687Z",
     "start_time": "2024-05-28T09:25:22.876888Z"
    }
   },
   "cell_type": "code",
   "source": "",
   "outputs": [],
   "execution_count": 19
  },
  {
   "metadata": {},
   "cell_type": "markdown",
   "source": "# Data zipping"
  },
  {
   "metadata": {
    "ExecuteTime": {
     "end_time": "2024-05-28T09:25:22.893151Z",
     "start_time": "2024-05-28T09:25:22.882701Z"
    }
   },
   "cell_type": "code",
   "source": "zipped_data = list(zip(age, sex, bmi, children, smoker, region, charges))",
   "outputs": [],
   "execution_count": 20
  },
  {
   "metadata": {
    "ExecuteTime": {
     "end_time": "2024-05-28T09:25:22.908954Z",
     "start_time": "2024-05-28T09:25:22.895166Z"
    }
   },
   "cell_type": "code",
   "source": "df = pd.DataFrame(zipped_data, columns=['age', 'sex', 'bmi', 'children', 'smoker', 'region', 'charges'])",
   "outputs": [],
   "execution_count": 21
  },
  {
   "metadata": {
    "ExecuteTime": {
     "end_time": "2024-05-28T09:25:22.931077Z",
     "start_time": "2024-05-28T09:25:22.910962Z"
    }
   },
   "cell_type": "code",
   "source": "print(zipped_data[:3])",
   "outputs": [
    {
     "name": "stdout",
     "output_type": "stream",
     "text": [
      "[('19', 'female', '27.9', '0', 'yes', 'southwest', '16884.924'), ('18', 'male', '33.77', '1', 'no', 'southeast', '1725.5523'), ('28', 'male', '33', '3', 'no', 'southeast', '4449.462')]\n"
     ]
    }
   ],
   "execution_count": 22
  },
  {
   "metadata": {},
   "cell_type": "markdown",
   "source": "# Step 2: Data Analysis"
  },
  {
   "metadata": {
    "ExecuteTime": {
     "end_time": "2024-05-28T09:25:26.558043Z",
     "start_time": "2024-05-28T09:25:22.933086Z"
    }
   },
   "cell_type": "code",
   "source": [
    "plt.figure(figsize=(10, 6))\n",
    "plt.hist(df['bmi'], bins=50, color='skyblue', edgecolor='black')\n",
    "plt.title('BMI Distribution')\n",
    "plt.xlabel('BMI')\n",
    "plt.ylabel('Number of Patients')\n",
    "plt.show()"
   ],
   "outputs": [
    {
     "data": {
      "text/plain": [
       "<Figure size 1000x600 with 1 Axes>"
      ],
      "image/png": "[encoded data removed]"
     },
     "metadata": {},
     "output_type": "display_data"
    }
   ],
   "execution_count": 23
  },
  {
   "metadata": {},
   "cell_type": "markdown",
   "source": "### For smokers and non-smokers "
  },
  {
   "metadata": {
    "ExecuteTime": {
     "end_time": "2024-05-28T09:25:26.679479Z",
     "start_time": "2024-05-28T09:25:26.561053Z"
    }
   },
   "cell_type": "code",
   "source": [
    "smoker_and_Nonsmoker_count = df['smoker'].value_counts()\n",
    "plt.figure(figsize=(10, 6))\n",
    "plt.pie(smoker_and_Nonsmoker_count, labels=smoker_and_Nonsmoker_count.index, autopct='%1.1f%%', startangle=90, colors=['#ff9999','#66b3ff'])\n",
    "plt.title('Smoker and Non-Smoker')\n",
    "plt.show()"
   ],
   "outputs": [
    {
     "data": {
      "text/plain": [
       "<Figure size 1000x600 with 1 Axes>"
      ],
      "image/png": "[encoded data removed]"
     },
     "metadata": {},
     "output_type": "display_data"
    }
   ],
   "execution_count": 24
  },
  {
   "metadata": {
    "ExecuteTime": {
     "end_time": "2024-05-28T09:25:26.806653Z",
     "start_time": "2024-05-28T09:25:26.681488Z"
    }
   },
   "cell_type": "code",
   "source": [
    "plt.figure(figsize=(10, 6))\n",
    "plt.pie(df['region'].value_counts(), labels=df['region'].value_counts().index, autopct='%1.1f%%', startangle=90, colors=['#3E78C1','#C13EB9', '#C1873E', '#3EC146'])\n",
    "plt.title('Region Distribution')\n",
    "plt.show()"
   ],
   "outputs": [
    {
     "data": {
      "text/plain": [
       "<Figure size 1000x600 with 1 Axes>"
      ],
      "image/png": "[encoded data removed]"
     },
     "metadata": {},
     "output_type": "display_data"
    }
   ],
   "execution_count": 25
  },
  {
   "metadata": {},
   "cell_type": "markdown",
   "source": "# Step 3: Result Analysis"
  },
  {
   "metadata": {},
   "cell_type": "markdown",
   "source": "### Average cost of insurance"
  },
  {
   "metadata": {
    "ExecuteTime": {
     "end_time": "2024-05-28T09:25:30.572659Z",
     "start_time": "2024-05-28T09:25:26.808668Z"
    }
   },
   "cell_type": "code",
   "source": [
    "average_cost = df['charges'].mean()\n",
    "print(f'Average cost of insurance: {int(average_cost)} US dollars')"
   ],
   "outputs": [
    {
     "ename": "TypeError",
     "evalue": "Could not convert string '16884.9241725.55234449.46221984.470613866.85523756.62168240.58967281.50566406.410728923.136922721.320827808.72511826.84311090.717839611.75771837.23710797.33622395.1715510602.38536837.46713228.846954149.7361137.01137701.87686203.9017514001.133814451.8351512268.632252775.192153871135585.5762198.189854687.79713770.097951194.559141625.4337515612.193352302.339774.276348173.3613046.0624949.75876272.47726313.7596079.671520630.283513393.356353556.922312629.896738709.1762211.130753579.828723568.27237742.57578059.679147496.4944513607.3687534303.167223244.79025989.523658606.21744504.662430166.618174133.6416514711.74381743.21414235.0726389.377855920.104117663.144216577.77956799.45811741.72611946.62597726.85411356.66093947.41311532.46972755.020956571.024354441.213157935.2911537165.163811033.661739836.51921098.5540543578.939411073.1768026.666611082.57722026.974110942.1320530184.93675729.005347291.0553766.883812105.3210226.284222412.648515820.6996186.1273645.089421344.846730942.19185003.85317560.379752331.5193877.304252867.119647055.532110825.253711881.3584646.7592404.733811488.3169530259.9955611381.325419107.77968601.32936686.43137740.3371705.62452257.4752539556.494510115.008853385.3991517081.089634.53832734.18636082.40512815.4449513616.358611163.5681632.564452457.211152155.68151261.4422045.6852527322.733862166.73227375.904783490.549118972.49518157.87620745.98915138.256740720.551059877.607710959.69471842.5195125.21577789.6356334.3435519964.74637077.18946948.700821223.675815518.1802536950.256719749.3833821348.70636149.483510450.5525152.1345028.146610407.085854830.636128.797452719.279754827.9049513405.39038116.681694.79645246.0472855.4375548824.456455.8626510436.0968823.2798538.2884511735.879051631.82124005.42257419.47797731.427143753.337053981.97685325.6516775.9614922.915912557.60534883.8662137.653612044.3421137.46971639.56315649.7158516.8299644.252514901.51672130.67598871.151713012.2086537133.89827147.1054337.735211743.29920984.093613880.9496610.10971980.078162.716253537.7035002.78278520.0267371.77210355.6412483.7363392.976825081.767845012.47110564.88455253.52434779.61519515.541611987.16822689.495424227.337247358.175659225.25647443.6430514001.28671727.78512333.8286710.191919444.26581615.76674463.205117352.68037152.671438511.62835354.0746535160.134577196.86729523.165624476.4785112648.70341986.93341832.0944040.5582512829.455147305.30544260.74994260.74441097.1617513047.3323543921.18375400.980511520.0998533750.291811837.1617085.267624869.836836219.4054520462.9976646151.124517179.52214590.632057441.0539282.48061719.436342856.8387265.70259617.662452523.16959715.8412803.697852150.46912928.79119855.131422331.566848549.178354237.1265511879.104059625.927742.10989432.925314256.192847896.7913525992.821043172.01820277.8075142112.23562156.75183906.1271704.568116297.84621978.676938746.35519249.49526746.742524873.384912265.50694349.46212646.20719442.353520177.671134151.028711944.594357749.15648444.4741737.37642124.51538124.408434838.8739722.76958835.2649510435.065257421.194554667.607654894.753324671.6633435491.6411566.300552866.0916600.205953561.888942760.502247928.039144.56548517.5631524393.622413429.035411658.3791519144.5765213822.80312142.578613937.666541919.0978232.638818955.2201713352.099813217.094513981.8503510977.20636184.29944889.99958334.457555478.03681635.7336511830.60728932.0843554.20312404.879114133.0377524603.048378944.11519620.33071837.28191607.510110043.2494751.0713844.5062597.7793180.51019778.347213430.2658017.061158116.268853481.86813415.038112029.28677639.4174536085.2191391.528718033.967921659.930138126.246516455.7078527000.9847315006.5794542303.6921520781.488925846.91768302.535651261.85911856.411530284.642943176.81594618.079910736.870752138.07078964.060559290.13959411.0057526.706458522.00316586.4977114988.4321631.66839264.7978083.919814692.6693510269.463260.19911396.90024185.09798539.6716652.52884074.45371621.340219594.8096514455.644055080.0962134.90157345.72669140.95118608.26214418.280428950.469246889.261246599.108439125.332252727.39518968.339788.86596555.070357323.7348193167.4558518804.752423082.955334906.409655969.72312638.1954243.5900513919.82292254.79675926.84612592.53452897.32354738.268237079.3721149.395928287.8976626109.329057345.08412730.999611454.02155910.9444762.3297512.2674032.24071969.6141769.531654686.388721797.000411881.969611840.7750510601.4127682.6710381.478722144.03215230.3240511165.417651632.0362519521.968213224.69312643.377823288.92842201.09712497.03832203.471851744.46520878.7844325382.29728868.663935147.528482534.393751534.30451824.285415555.188759304.70191622.18859880.0689563.0294347.0233512475.35131253.93648885.1356110461.97941748.77424513.091262196.473212574.04917942.1061967.02274931.6478027.9688211.100213470.8636197.6996837.368722218.114932548.34055974.38476796.863252643.26853077.09553044.213311455.2811763.00092498.41449361.32681256.29921082.1611362.75527724.288758413.463055240.7653857.7592525656.575263994.17789866.304855397.616738245.5932711482.6348524059.680199861.0258342.908751708.001448675.517714043.476712925.88619214.7055313831.11526067.126755972.3788825.0868233.097527346.042076196.4483056.388113887.20463770.4280110231.499923807.24063268.8466511538.4213213.6220545863.20513390.5593972.924712957.11811187.656717878.900683847.6748334.58963935.179939983.425951646.42979193.838510923.93322494.0229058.73032801.25882128.431056373.557357256.723111552.90445702.022353761.2922219.44514753.636831620.0010613224.0570512222.89831664.999658571.074489724.533206.4913512913.99241639.56316356.270717626.239511242.8164779.60233861.2096543943.876113635.63795976.831111842.4428428.06932566.470715359.10455709.16448823.985757640.30925594.84557441.50133471.971891633.04449174.1356511070.53516085.127517468.98399283.5623558.6202525678.778454435.094239241.4428547.69136571.5442207.697456753.0381880.0742969.852711658.1150523306.54734439.855910713.6443659.34640182.2469182.1734617.8406512129.614153736.46476748.591211326.7148711365.95242983.458510085.8461977.8153366.66977173.359959391.34614410.93212709.111924915.0462620149.322912949.15546666.24332787.4585913143.864854466.621418806.1454710141.13626123.56888252.28431712.22712430.953359800.888210579.7118280.62278527.53212244.53124667.4193410.3244058.7124526392.2602914394.398156435.623722192.437115148.55261136.399427037.914142560.43048703.45640003.3322545710.207856500.23594837.58233943.59544399.7316185.320846200.98517222.7862512485.800946130.526512363.54710156.78322585.2691242.2640103.899863.47184766.02211244.37697729.645755438.749126236.5799734806.46772104.11348068.1852362.229052352.968453577.9993201.2451529186.4823640273.645510976.245753500.61232020.55239541.695559504.31035385.33798930.934555375.03844400.406410264.44216113.231055469.00661727.5410107.22068310.839151984.45332457.50212146.9719566.990913112.604810848.134312231.61369875.680411264.54112979.3581263.24910106.1342540932.42956664.6859516657.717452217.60126781.354219361.998810065.4134234.9279447.2503514007.2229583.893340419.01913484.33136189.101744585.455878604.4836518246.495543254.417953757.84488827.20999910.3598511737.848841627.282458556.9073062.5082519539.2431906.3582514210.5359511833.782317128.426085031.269557985.81523065.42075428.727736307.79833925.75822416.95519040.8763070.80879095.0682511842.623758062.7647050.64214319.0316933.2422527941.2875811150.7812797.2096217748.50627261.74110560.49176986.6977448.403955934.37989869.810218259.2161146.79669386.161324520.2644350.51446414.17812741.167451917.31845209.5788513457.96085662.2251252.4072731.912221195.8187209.491818310.7424266.16584719.5240511848.14117904.527057046.722214313.84632103.0838792.68561815.87597731.8578528476.734992136.882251131.50663309.79269414.926360.993611013.71194428.887855584.30571877.92942842.760753597.59623401.3057555135.402097445.9182680.94931621.88278219.203912523.604816069.0847543813.866120773.6277539597.40726117.494513393.7565266.36564719.7365511743.93415377.45787160.33034402.23311657.71896402.2913512622.17951526.31212323.93636021.011227533.912910072.0550545008.95559872.7012438.05522974.12610601.6322537270.151214119.6242111.664711729.679524106.912551875.34440974.164915817.985718218.1613910965.44646113.5117151.09212269.688655458.046458782.4696600.3611141.445111576.1313129.603454391.6528457.8183392.36525966.88746849.0268891.13952690.113826140.36036653.78866282.2356311.9523443.0642789.05742585.8506546255.11254877.9810519719.694727218.437255272.17581682.59711945.132729330.983157243.813610422.9166544202.653613555.004913063.88319798.054552221.564451634.57342117.338858688.8588548673.55884661.286358125.784512644.5894564.191454846.920157633.720615170.06917496.3062639.042933732.686714382.709057626.9935257.507952473.334121774.3221535069.3745213041.9215245.226913451.12213462.525488.2624320.410856250.43525333.332842913.56912032.32613470.80446289.75492927.06476238.29810096.977348.1424673.392212233.82832108.662828965.795752304.00229487.64421121.87399549.56512217.469151628.470912982.874711674.137160.09439047.2856358.7764519933.45811534.8726547462.8944527.1829538998.54620009.633653875.734141999.5212609.8870241034.221428468.919012730.107853353.28414474.6759500.5730526467.097374746.34423967.383057518.025353279.868558596.827810702.64244992.37642527.818651759.3382322.621816138.762057804.16052902.90659704.668054889.036825517.113634500.3392519199.94416796.411944915.059857624.638410.0468528340.188854518.8262514571.89083378.917144.8626510118.4245484.467316420.494557986.475257418.52213887.96856551.75015267.8181517361.766134472.8411972.9521232.182268627.54114433.38774438.263424915.2208523241.474539957.72168269.04418767.737736580.282168765.2495383.53612124.99242709.243953987.92612495.2908526018.950528798.59335595.589842211.13821711.02688569.86182020.17716450.894721595.382299850.4326877.980121677.2834544423.8034137.522713747.8723512950.071212094.47837484.449339725.518052250.835222493.6596420234.854751704.7001533475.817153161.45411394.0655521880.827325.048244501.39823594.1708539727.6148023.1354514394.55799288.026725309.4893353.470310594.501558277.52317929.303372480.97914462.72181981.581911554.223648970.24766548.195055708.8677045.4998978.18515757.4134514349.854410928.84939871.704313974.455551909.5274512096.651213204.285654562.84218551.3472102.264734672.147215161.534411884.048584454.402655855.90254076.49715019.7600519023.2610796.3502511353.22769748.910610577.08741676.081111286.53873591.4833907.54811299.3434561.188544641.19741674.632323045.566163227.121116776.3040511253.4213471.409611363.283220420.6046510338.93168988.1587510493.94582904.0888605.361511512.40541949.244124180.93355312.169852396.095910807.48639222.402636124.573738282.74955693.430534166.2738347.164346661.442418903.4914140904.199514254.608210214.6365836.520414358.364371728.8978582.30233693.42820709.020349991.0376519673.3357311085.58687623.5183176.28773704.354536898.733089048.02737954.51727117.993786338.07569630.39711289.1092552590.829392261.568810791.965979.7312203.7359512235.839240941.28545630.4578511015.17477228.2156539722.746214426.073852459.72013989.8417727.25325124.188718963.171922200.830857153.55395227.9887510982.50134529.4774670.646112.3529517178.682422478.611093.62296457.84344433.91592154.36123887.66276496.8862899.4893519350.36897650.773752850.683752632.9929447.382418328.23818603.823437465.3437513844.797221771.342313126.677455327.4002513725.4718413019.161058671.191254134.0824518838.7036633307.55085699.83756393.603454934.7056198.75188733.229252055.32499964.0618223.45125116.500436910.6080338415.47420296.8634512347.1725373.3642523563.016181702.455310806.8393956.0714512890.057655415.66124058.116141661.6027537.16394718.203556593.50838442.66726125.674776858.47964795.65686640.544857162.012210594.225711938.2559560021.3989720167.3360312479.7089511345.5198515.75872699.5683514449.854412224.350856985.506953238.435747269.85449577.66244296.27123171.61491135.94075615.3699101.7986059.1731633.961837607.527718648.42171241.56516232.84715828.821734415.15886474.01311436.7381511305.9345530063.5805510197.77224544.23483277.1616770.19257337.74810370.9125526926.514410704.4734254.053351880.4878615.33292.529853021.8091514478.330154747.052917043.341410959.332741.9484357.0436522462.043754189.11318283.680724535.6985514283.45941720.353747403.888534.67183732.62515472.44938344.5667147.47287133.902534828.6541515.34499301.8935511931.125251964.781708.925754340.44095261.469452710.8285562592.8730946718.163253208.78737829.724221259.377952464.618816115.304521472.478833900.6536875.9616940.909854571.413054536.25936397.57618765.8754511272.331391731.6771163.462719496.719177201.700855425.0233528101.3330512981.345743896.37634239.8926513143.336657050.02139377.904722395.7442410325.20612629.165610795.9373311411.68510600.54832205.98081629.83352007.94529141.3603' to numeric",
     "output_type": "error",
     "traceback": [
      "\u001B[1;31m---------------------------------------------------------------------------\u001B[0m",
      "\u001B[1;31mTypeError\u001B[0m                                 Traceback (most recent call last)",
      "Cell \u001B[1;32mIn[26], line 1\u001B[0m\n\u001B[1;32m----> 1\u001B[0m average_cost \u001B[38;5;241m=\u001B[39m df[\u001B[38;5;124m'\u001B[39m\u001B[38;5;124mcharges\u001B[39m\u001B[38;5;124m'\u001B[39m]\u001B[38;5;241m.\u001B[39mmean()\n\u001B[0;32m      2\u001B[0m \u001B[38;5;28mprint\u001B[39m(\u001B[38;5;124mf\u001B[39m\u001B[38;5;124m'\u001B[39m\u001B[38;5;124mAverage cost of insurance: \u001B[39m\u001B[38;5;132;01m{\u001B[39;00m\u001B[38;5;28mint\u001B[39m(average_cost)\u001B[38;5;132;01m}\u001B[39;00m\u001B[38;5;124m US dollars\u001B[39m\u001B[38;5;124m'\u001B[39m)\n",
      "File \u001B[1;32m~\\anaconda3\\Lib\\site-packages\\pandas\\core\\series.py:6225\u001B[0m, in \u001B[0;36mSeries.mean\u001B[1;34m(self, axis, skipna, numeric_only, **kwargs)\u001B[0m\n\u001B[0;32m   6217\u001B[0m \u001B[38;5;129m@doc\u001B[39m(make_doc(\u001B[38;5;124m\"\u001B[39m\u001B[38;5;124mmean\u001B[39m\u001B[38;5;124m\"\u001B[39m, ndim\u001B[38;5;241m=\u001B[39m\u001B[38;5;241m1\u001B[39m))\n\u001B[0;32m   6218\u001B[0m \u001B[38;5;28;01mdef\u001B[39;00m \u001B[38;5;21mmean\u001B[39m(\n\u001B[0;32m   6219\u001B[0m     \u001B[38;5;28mself\u001B[39m,\n\u001B[1;32m   (...)\u001B[0m\n\u001B[0;32m   6223\u001B[0m     \u001B[38;5;241m*\u001B[39m\u001B[38;5;241m*\u001B[39mkwargs,\n\u001B[0;32m   6224\u001B[0m ):\n\u001B[1;32m-> 6225\u001B[0m     \u001B[38;5;28;01mreturn\u001B[39;00m NDFrame\u001B[38;5;241m.\u001B[39mmean(\u001B[38;5;28mself\u001B[39m, axis, skipna, numeric_only, \u001B[38;5;241m*\u001B[39m\u001B[38;5;241m*\u001B[39mkwargs)\n",
      "File \u001B[1;32m~\\anaconda3\\Lib\\site-packages\\pandas\\core\\generic.py:11992\u001B[0m, in \u001B[0;36mNDFrame.mean\u001B[1;34m(self, axis, skipna, numeric_only, **kwargs)\u001B[0m\n\u001B[0;32m  11985\u001B[0m \u001B[38;5;28;01mdef\u001B[39;00m \u001B[38;5;21mmean\u001B[39m(\n\u001B[0;32m  11986\u001B[0m     \u001B[38;5;28mself\u001B[39m,\n\u001B[0;32m  11987\u001B[0m     axis: Axis \u001B[38;5;241m|\u001B[39m \u001B[38;5;28;01mNone\u001B[39;00m \u001B[38;5;241m=\u001B[39m \u001B[38;5;241m0\u001B[39m,\n\u001B[1;32m   (...)\u001B[0m\n\u001B[0;32m  11990\u001B[0m     \u001B[38;5;241m*\u001B[39m\u001B[38;5;241m*\u001B[39mkwargs,\n\u001B[0;32m  11991\u001B[0m ) \u001B[38;5;241m-\u001B[39m\u001B[38;5;241m>\u001B[39m Series \u001B[38;5;241m|\u001B[39m \u001B[38;5;28mfloat\u001B[39m:\n\u001B[1;32m> 11992\u001B[0m     \u001B[38;5;28;01mreturn\u001B[39;00m \u001B[38;5;28mself\u001B[39m\u001B[38;5;241m.\u001B[39m_stat_function(\n\u001B[0;32m  11993\u001B[0m         \u001B[38;5;124m\"\u001B[39m\u001B[38;5;124mmean\u001B[39m\u001B[38;5;124m\"\u001B[39m, nanops\u001B[38;5;241m.\u001B[39mnanmean, axis, skipna, numeric_only, \u001B[38;5;241m*\u001B[39m\u001B[38;5;241m*\u001B[39mkwargs\n\u001B[0;32m  11994\u001B[0m     )\n",
      "File \u001B[1;32m~\\anaconda3\\Lib\\site-packages\\pandas\\core\\generic.py:11949\u001B[0m, in \u001B[0;36mNDFrame._stat_function\u001B[1;34m(self, name, func, axis, skipna, numeric_only, **kwargs)\u001B[0m\n\u001B[0;32m  11945\u001B[0m nv\u001B[38;5;241m.\u001B[39mvalidate_func(name, (), kwargs)\n\u001B[0;32m  11947\u001B[0m validate_bool_kwarg(skipna, \u001B[38;5;124m\"\u001B[39m\u001B[38;5;124mskipna\u001B[39m\u001B[38;5;124m\"\u001B[39m, none_allowed\u001B[38;5;241m=\u001B[39m\u001B[38;5;28;01mFalse\u001B[39;00m)\n\u001B[1;32m> 11949\u001B[0m \u001B[38;5;28;01mreturn\u001B[39;00m \u001B[38;5;28mself\u001B[39m\u001B[38;5;241m.\u001B[39m_reduce(\n\u001B[0;32m  11950\u001B[0m     func, name\u001B[38;5;241m=\u001B[39mname, axis\u001B[38;5;241m=\u001B[39maxis, skipna\u001B[38;5;241m=\u001B[39mskipna, numeric_only\u001B[38;5;241m=\u001B[39mnumeric_only\n\u001B[0;32m  11951\u001B[0m )\n",
      "File \u001B[1;32m~\\anaconda3\\Lib\\site-packages\\pandas\\core\\series.py:6133\u001B[0m, in \u001B[0;36mSeries._reduce\u001B[1;34m(self, op, name, axis, skipna, numeric_only, filter_type, **kwds)\u001B[0m\n\u001B[0;32m   6128\u001B[0m     \u001B[38;5;66;03m# GH#47500 - change to TypeError to match other methods\u001B[39;00m\n\u001B[0;32m   6129\u001B[0m     \u001B[38;5;28;01mraise\u001B[39;00m \u001B[38;5;167;01mTypeError\u001B[39;00m(\n\u001B[0;32m   6130\u001B[0m         \u001B[38;5;124mf\u001B[39m\u001B[38;5;124m\"\u001B[39m\u001B[38;5;124mSeries.\u001B[39m\u001B[38;5;132;01m{\u001B[39;00mname\u001B[38;5;132;01m}\u001B[39;00m\u001B[38;5;124m does not allow \u001B[39m\u001B[38;5;132;01m{\u001B[39;00mkwd_name\u001B[38;5;132;01m}\u001B[39;00m\u001B[38;5;124m=\u001B[39m\u001B[38;5;132;01m{\u001B[39;00mnumeric_only\u001B[38;5;132;01m}\u001B[39;00m\u001B[38;5;124m \u001B[39m\u001B[38;5;124m\"\u001B[39m\n\u001B[0;32m   6131\u001B[0m         \u001B[38;5;124m\"\u001B[39m\u001B[38;5;124mwith non-numeric dtypes.\u001B[39m\u001B[38;5;124m\"\u001B[39m\n\u001B[0;32m   6132\u001B[0m     )\n\u001B[1;32m-> 6133\u001B[0m \u001B[38;5;28;01mreturn\u001B[39;00m op(delegate, skipna\u001B[38;5;241m=\u001B[39mskipna, \u001B[38;5;241m*\u001B[39m\u001B[38;5;241m*\u001B[39mkwds)\n",
      "File \u001B[1;32m~\\anaconda3\\Lib\\site-packages\\pandas\\core\\nanops.py:147\u001B[0m, in \u001B[0;36mbottleneck_switch.__call__.<locals>.f\u001B[1;34m(values, axis, skipna, **kwds)\u001B[0m\n\u001B[0;32m    145\u001B[0m         result \u001B[38;5;241m=\u001B[39m alt(values, axis\u001B[38;5;241m=\u001B[39maxis, skipna\u001B[38;5;241m=\u001B[39mskipna, \u001B[38;5;241m*\u001B[39m\u001B[38;5;241m*\u001B[39mkwds)\n\u001B[0;32m    146\u001B[0m \u001B[38;5;28;01melse\u001B[39;00m:\n\u001B[1;32m--> 147\u001B[0m     result \u001B[38;5;241m=\u001B[39m alt(values, axis\u001B[38;5;241m=\u001B[39maxis, skipna\u001B[38;5;241m=\u001B[39mskipna, \u001B[38;5;241m*\u001B[39m\u001B[38;5;241m*\u001B[39mkwds)\n\u001B[0;32m    149\u001B[0m \u001B[38;5;28;01mreturn\u001B[39;00m result\n",
      "File \u001B[1;32m~\\anaconda3\\Lib\\site-packages\\pandas\\core\\nanops.py:404\u001B[0m, in \u001B[0;36m_datetimelike_compat.<locals>.new_func\u001B[1;34m(values, axis, skipna, mask, **kwargs)\u001B[0m\n\u001B[0;32m    401\u001B[0m \u001B[38;5;28;01mif\u001B[39;00m datetimelike \u001B[38;5;129;01mand\u001B[39;00m mask \u001B[38;5;129;01mis\u001B[39;00m \u001B[38;5;28;01mNone\u001B[39;00m:\n\u001B[0;32m    402\u001B[0m     mask \u001B[38;5;241m=\u001B[39m isna(values)\n\u001B[1;32m--> 404\u001B[0m result \u001B[38;5;241m=\u001B[39m func(values, axis\u001B[38;5;241m=\u001B[39maxis, skipna\u001B[38;5;241m=\u001B[39mskipna, mask\u001B[38;5;241m=\u001B[39mmask, \u001B[38;5;241m*\u001B[39m\u001B[38;5;241m*\u001B[39mkwargs)\n\u001B[0;32m    406\u001B[0m \u001B[38;5;28;01mif\u001B[39;00m datetimelike:\n\u001B[0;32m    407\u001B[0m     result \u001B[38;5;241m=\u001B[39m _wrap_results(result, orig_values\u001B[38;5;241m.\u001B[39mdtype, fill_value\u001B[38;5;241m=\u001B[39miNaT)\n",
      "File \u001B[1;32m~\\anaconda3\\Lib\\site-packages\\pandas\\core\\nanops.py:720\u001B[0m, in \u001B[0;36mnanmean\u001B[1;34m(values, axis, skipna, mask)\u001B[0m\n\u001B[0;32m    718\u001B[0m count \u001B[38;5;241m=\u001B[39m _get_counts(values\u001B[38;5;241m.\u001B[39mshape, mask, axis, dtype\u001B[38;5;241m=\u001B[39mdtype_count)\n\u001B[0;32m    719\u001B[0m the_sum \u001B[38;5;241m=\u001B[39m values\u001B[38;5;241m.\u001B[39msum(axis, dtype\u001B[38;5;241m=\u001B[39mdtype_sum)\n\u001B[1;32m--> 720\u001B[0m the_sum \u001B[38;5;241m=\u001B[39m _ensure_numeric(the_sum)\n\u001B[0;32m    722\u001B[0m \u001B[38;5;28;01mif\u001B[39;00m axis \u001B[38;5;129;01mis\u001B[39;00m \u001B[38;5;129;01mnot\u001B[39;00m \u001B[38;5;28;01mNone\u001B[39;00m \u001B[38;5;129;01mand\u001B[39;00m \u001B[38;5;28mgetattr\u001B[39m(the_sum, \u001B[38;5;124m\"\u001B[39m\u001B[38;5;124mndim\u001B[39m\u001B[38;5;124m\"\u001B[39m, \u001B[38;5;28;01mFalse\u001B[39;00m):\n\u001B[0;32m    723\u001B[0m     count \u001B[38;5;241m=\u001B[39m cast(np\u001B[38;5;241m.\u001B[39mndarray, count)\n",
      "File \u001B[1;32m~\\anaconda3\\Lib\\site-packages\\pandas\\core\\nanops.py:1693\u001B[0m, in \u001B[0;36m_ensure_numeric\u001B[1;34m(x)\u001B[0m\n\u001B[0;32m   1690\u001B[0m \u001B[38;5;28;01melif\u001B[39;00m \u001B[38;5;129;01mnot\u001B[39;00m (is_float(x) \u001B[38;5;129;01mor\u001B[39;00m is_integer(x) \u001B[38;5;129;01mor\u001B[39;00m is_complex(x)):\n\u001B[0;32m   1691\u001B[0m     \u001B[38;5;28;01mif\u001B[39;00m \u001B[38;5;28misinstance\u001B[39m(x, \u001B[38;5;28mstr\u001B[39m):\n\u001B[0;32m   1692\u001B[0m         \u001B[38;5;66;03m# GH#44008, GH#36703 avoid casting e.g. strings to numeric\u001B[39;00m\n\u001B[1;32m-> 1693\u001B[0m         \u001B[38;5;28;01mraise\u001B[39;00m \u001B[38;5;167;01mTypeError\u001B[39;00m(\u001B[38;5;124mf\u001B[39m\u001B[38;5;124m\"\u001B[39m\u001B[38;5;124mCould not convert string \u001B[39m\u001B[38;5;124m'\u001B[39m\u001B[38;5;132;01m{\u001B[39;00mx\u001B[38;5;132;01m}\u001B[39;00m\u001B[38;5;124m'\u001B[39m\u001B[38;5;124m to numeric\u001B[39m\u001B[38;5;124m\"\u001B[39m)\n\u001B[0;32m   1694\u001B[0m     \u001B[38;5;28;01mtry\u001B[39;00m:\n\u001B[0;32m   1695\u001B[0m         x \u001B[38;5;241m=\u001B[39m \u001B[38;5;28mfloat\u001B[39m(x)\n",
      "\u001B[1;31mTypeError\u001B[0m: Could not convert string '16884.9241725.55234449.46221984.470613866.85523756.62168240.58967281.50566406.410728923.136922721.320827808.72511826.84311090.717839611.75771837.23710797.33622395.1715510602.38536837.46713228.846954149.7361137.01137701.87686203.9017514001.133814451.8351512268.632252775.192153871135585.5762198.189854687.79713770.097951194.559141625.4337515612.193352302.339774.276348173.3613046.0624949.75876272.47726313.7596079.671520630.283513393.356353556.922312629.896738709.1762211.130753579.828723568.27237742.57578059.679147496.4944513607.3687534303.167223244.79025989.523658606.21744504.662430166.618174133.6416514711.74381743.21414235.0726389.377855920.104117663.144216577.77956799.45811741.72611946.62597726.85411356.66093947.41311532.46972755.020956571.024354441.213157935.2911537165.163811033.661739836.51921098.5540543578.939411073.1768026.666611082.57722026.974110942.1320530184.93675729.005347291.0553766.883812105.3210226.284222412.648515820.6996186.1273645.089421344.846730942.19185003.85317560.379752331.5193877.304252867.119647055.532110825.253711881.3584646.7592404.733811488.3169530259.9955611381.325419107.77968601.32936686.43137740.3371705.62452257.4752539556.494510115.008853385.3991517081.089634.53832734.18636082.40512815.4449513616.358611163.5681632.564452457.211152155.68151261.4422045.6852527322.733862166.73227375.904783490.549118972.49518157.87620745.98915138.256740720.551059877.607710959.69471842.5195125.21577789.6356334.3435519964.74637077.18946948.700821223.675815518.1802536950.256719749.3833821348.70636149.483510450.5525152.1345028.146610407.085854830.636128.797452719.279754827.9049513405.39038116.681694.79645246.0472855.4375548824.456455.8626510436.0968823.2798538.2884511735.879051631.82124005.42257419.47797731.427143753.337053981.97685325.6516775.9614922.915912557.60534883.8662137.653612044.3421137.46971639.56315649.7158516.8299644.252514901.51672130.67598871.151713012.2086537133.89827147.1054337.735211743.29920984.093613880.9496610.10971980.078162.716253537.7035002.78278520.0267371.77210355.6412483.7363392.976825081.767845012.47110564.88455253.52434779.61519515.541611987.16822689.495424227.337247358.175659225.25647443.6430514001.28671727.78512333.8286710.191919444.26581615.76674463.205117352.68037152.671438511.62835354.0746535160.134577196.86729523.165624476.4785112648.70341986.93341832.0944040.5582512829.455147305.30544260.74994260.74441097.1617513047.3323543921.18375400.980511520.0998533750.291811837.1617085.267624869.836836219.4054520462.9976646151.124517179.52214590.632057441.0539282.48061719.436342856.8387265.70259617.662452523.16959715.8412803.697852150.46912928.79119855.131422331.566848549.178354237.1265511879.104059625.927742.10989432.925314256.192847896.7913525992.821043172.01820277.8075142112.23562156.75183906.1271704.568116297.84621978.676938746.35519249.49526746.742524873.384912265.50694349.46212646.20719442.353520177.671134151.028711944.594357749.15648444.4741737.37642124.51538124.408434838.8739722.76958835.2649510435.065257421.194554667.607654894.753324671.6633435491.6411566.300552866.0916600.205953561.888942760.502247928.039144.56548517.5631524393.622413429.035411658.3791519144.5765213822.80312142.578613937.666541919.0978232.638818955.2201713352.099813217.094513981.8503510977.20636184.29944889.99958334.457555478.03681635.7336511830.60728932.0843554.20312404.879114133.0377524603.048378944.11519620.33071837.28191607.510110043.2494751.0713844.5062597.7793180.51019778.347213430.2658017.061158116.268853481.86813415.038112029.28677639.4174536085.2191391.528718033.967921659.930138126.246516455.7078527000.9847315006.5794542303.6921520781.488925846.91768302.535651261.85911856.411530284.642943176.81594618.079910736.870752138.07078964.060559290.13959411.0057526.706458522.00316586.4977114988.4321631.66839264.7978083.919814692.6693510269.463260.19911396.90024185.09798539.6716652.52884074.45371621.340219594.8096514455.644055080.0962134.90157345.72669140.95118608.26214418.280428950.469246889.261246599.108439125.332252727.39518968.339788.86596555.070357323.7348193167.4558518804.752423082.955334906.409655969.72312638.1954243.5900513919.82292254.79675926.84612592.53452897.32354738.268237079.3721149.395928287.8976626109.329057345.08412730.999611454.02155910.9444762.3297512.2674032.24071969.6141769.531654686.388721797.000411881.969611840.7750510601.4127682.6710381.478722144.03215230.3240511165.417651632.0362519521.968213224.69312643.377823288.92842201.09712497.03832203.471851744.46520878.7844325382.29728868.663935147.528482534.393751534.30451824.285415555.188759304.70191622.18859880.0689563.0294347.0233512475.35131253.93648885.1356110461.97941748.77424513.091262196.473212574.04917942.1061967.02274931.6478027.9688211.100213470.8636197.6996837.368722218.114932548.34055974.38476796.863252643.26853077.09553044.213311455.2811763.00092498.41449361.32681256.29921082.1611362.75527724.288758413.463055240.7653857.7592525656.575263994.17789866.304855397.616738245.5932711482.6348524059.680199861.0258342.908751708.001448675.517714043.476712925.88619214.7055313831.11526067.126755972.3788825.0868233.097527346.042076196.4483056.388113887.20463770.4280110231.499923807.24063268.8466511538.4213213.6220545863.20513390.5593972.924712957.11811187.656717878.900683847.6748334.58963935.179939983.425951646.42979193.838510923.93322494.0229058.73032801.25882128.431056373.557357256.723111552.90445702.022353761.2922219.44514753.636831620.0010613224.0570512222.89831664.999658571.074489724.533206.4913512913.99241639.56316356.270717626.239511242.8164779.60233861.2096543943.876113635.63795976.831111842.4428428.06932566.470715359.10455709.16448823.985757640.30925594.84557441.50133471.971891633.04449174.1356511070.53516085.127517468.98399283.5623558.6202525678.778454435.094239241.4428547.69136571.5442207.697456753.0381880.0742969.852711658.1150523306.54734439.855910713.6443659.34640182.2469182.1734617.8406512129.614153736.46476748.591211326.7148711365.95242983.458510085.8461977.8153366.66977173.359959391.34614410.93212709.111924915.0462620149.322912949.15546666.24332787.4585913143.864854466.621418806.1454710141.13626123.56888252.28431712.22712430.953359800.888210579.7118280.62278527.53212244.53124667.4193410.3244058.7124526392.2602914394.398156435.623722192.437115148.55261136.399427037.914142560.43048703.45640003.3322545710.207856500.23594837.58233943.59544399.7316185.320846200.98517222.7862512485.800946130.526512363.54710156.78322585.2691242.2640103.899863.47184766.02211244.37697729.645755438.749126236.5799734806.46772104.11348068.1852362.229052352.968453577.9993201.2451529186.4823640273.645510976.245753500.61232020.55239541.695559504.31035385.33798930.934555375.03844400.406410264.44216113.231055469.00661727.5410107.22068310.839151984.45332457.50212146.9719566.990913112.604810848.134312231.61369875.680411264.54112979.3581263.24910106.1342540932.42956664.6859516657.717452217.60126781.354219361.998810065.4134234.9279447.2503514007.2229583.893340419.01913484.33136189.101744585.455878604.4836518246.495543254.417953757.84488827.20999910.3598511737.848841627.282458556.9073062.5082519539.2431906.3582514210.5359511833.782317128.426085031.269557985.81523065.42075428.727736307.79833925.75822416.95519040.8763070.80879095.0682511842.623758062.7647050.64214319.0316933.2422527941.2875811150.7812797.2096217748.50627261.74110560.49176986.6977448.403955934.37989869.810218259.2161146.79669386.161324520.2644350.51446414.17812741.167451917.31845209.5788513457.96085662.2251252.4072731.912221195.8187209.491818310.7424266.16584719.5240511848.14117904.527057046.722214313.84632103.0838792.68561815.87597731.8578528476.734992136.882251131.50663309.79269414.926360.993611013.71194428.887855584.30571877.92942842.760753597.59623401.3057555135.402097445.9182680.94931621.88278219.203912523.604816069.0847543813.866120773.6277539597.40726117.494513393.7565266.36564719.7365511743.93415377.45787160.33034402.23311657.71896402.2913512622.17951526.31212323.93636021.011227533.912910072.0550545008.95559872.7012438.05522974.12610601.6322537270.151214119.6242111.664711729.679524106.912551875.34440974.164915817.985718218.1613910965.44646113.5117151.09212269.688655458.046458782.4696600.3611141.445111576.1313129.603454391.6528457.8183392.36525966.88746849.0268891.13952690.113826140.36036653.78866282.2356311.9523443.0642789.05742585.8506546255.11254877.9810519719.694727218.437255272.17581682.59711945.132729330.983157243.813610422.9166544202.653613555.004913063.88319798.054552221.564451634.57342117.338858688.8588548673.55884661.286358125.784512644.5894564.191454846.920157633.720615170.06917496.3062639.042933732.686714382.709057626.9935257.507952473.334121774.3221535069.3745213041.9215245.226913451.12213462.525488.2624320.410856250.43525333.332842913.56912032.32613470.80446289.75492927.06476238.29810096.977348.1424673.392212233.82832108.662828965.795752304.00229487.64421121.87399549.56512217.469151628.470912982.874711674.137160.09439047.2856358.7764519933.45811534.8726547462.8944527.1829538998.54620009.633653875.734141999.5212609.8870241034.221428468.919012730.107853353.28414474.6759500.5730526467.097374746.34423967.383057518.025353279.868558596.827810702.64244992.37642527.818651759.3382322.621816138.762057804.16052902.90659704.668054889.036825517.113634500.3392519199.94416796.411944915.059857624.638410.0468528340.188854518.8262514571.89083378.917144.8626510118.4245484.467316420.494557986.475257418.52213887.96856551.75015267.8181517361.766134472.8411972.9521232.182268627.54114433.38774438.263424915.2208523241.474539957.72168269.04418767.737736580.282168765.2495383.53612124.99242709.243953987.92612495.2908526018.950528798.59335595.589842211.13821711.02688569.86182020.17716450.894721595.382299850.4326877.980121677.2834544423.8034137.522713747.8723512950.071212094.47837484.449339725.518052250.835222493.6596420234.854751704.7001533475.817153161.45411394.0655521880.827325.048244501.39823594.1708539727.6148023.1354514394.55799288.026725309.4893353.470310594.501558277.52317929.303372480.97914462.72181981.581911554.223648970.24766548.195055708.8677045.4998978.18515757.4134514349.854410928.84939871.704313974.455551909.5274512096.651213204.285654562.84218551.3472102.264734672.147215161.534411884.048584454.402655855.90254076.49715019.7600519023.2610796.3502511353.22769748.910610577.08741676.081111286.53873591.4833907.54811299.3434561.188544641.19741674.632323045.566163227.121116776.3040511253.4213471.409611363.283220420.6046510338.93168988.1587510493.94582904.0888605.361511512.40541949.244124180.93355312.169852396.095910807.48639222.402636124.573738282.74955693.430534166.2738347.164346661.442418903.4914140904.199514254.608210214.6365836.520414358.364371728.8978582.30233693.42820709.020349991.0376519673.3357311085.58687623.5183176.28773704.354536898.733089048.02737954.51727117.993786338.07569630.39711289.1092552590.829392261.568810791.965979.7312203.7359512235.839240941.28545630.4578511015.17477228.2156539722.746214426.073852459.72013989.8417727.25325124.188718963.171922200.830857153.55395227.9887510982.50134529.4774670.646112.3529517178.682422478.611093.62296457.84344433.91592154.36123887.66276496.8862899.4893519350.36897650.773752850.683752632.9929447.382418328.23818603.823437465.3437513844.797221771.342313126.677455327.4002513725.4718413019.161058671.191254134.0824518838.7036633307.55085699.83756393.603454934.7056198.75188733.229252055.32499964.0618223.45125116.500436910.6080338415.47420296.8634512347.1725373.3642523563.016181702.455310806.8393956.0714512890.057655415.66124058.116141661.6027537.16394718.203556593.50838442.66726125.674776858.47964795.65686640.544857162.012210594.225711938.2559560021.3989720167.3360312479.7089511345.5198515.75872699.5683514449.854412224.350856985.506953238.435747269.85449577.66244296.27123171.61491135.94075615.3699101.7986059.1731633.961837607.527718648.42171241.56516232.84715828.821734415.15886474.01311436.7381511305.9345530063.5805510197.77224544.23483277.1616770.19257337.74810370.9125526926.514410704.4734254.053351880.4878615.33292.529853021.8091514478.330154747.052917043.341410959.332741.9484357.0436522462.043754189.11318283.680724535.6985514283.45941720.353747403.888534.67183732.62515472.44938344.5667147.47287133.902534828.6541515.34499301.8935511931.125251964.781708.925754340.44095261.469452710.8285562592.8730946718.163253208.78737829.724221259.377952464.618816115.304521472.478833900.6536875.9616940.909854571.413054536.25936397.57618765.8754511272.331391731.6771163.462719496.719177201.700855425.0233528101.3330512981.345743896.37634239.8926513143.336657050.02139377.904722395.7442410325.20612629.165610795.9373311411.68510600.54832205.98081629.83352007.94529141.3603' to numeric"
     ]
    }
   ],
   "execution_count": 26
  },
  {
   "metadata": {
    "ExecuteTime": {
     "end_time": "2024-05-28T09:25:30.574677Z",
     "start_time": "2024-05-28T09:25:30.574677Z"
    }
   },
   "cell_type": "code",
   "source": "max_cost = df['charges'].max()",
   "outputs": [],
   "execution_count": null
  },
  {
   "metadata": {},
   "cell_type": "code",
   "source": [
    "min_cost = df['charges'].min()\n",
    "print(f'Maximum cost of insurance: {int(max_cost)} US dollars')\n",
    "print(f'Minimum cost of insurance: {int(min_cost)} US dollars')"
   ],
   "outputs": [],
   "execution_count": null
  },
  {
   "metadata": {},
   "cell_type": "markdown",
   "source": "# Average cost for smokers and Non-smokers"
  },
  {
   "metadata": {},
   "cell_type": "code",
   "source": [
    "# Average cost of insurance for smokers and non-smokers\n",
    "average_cost_smoker = df[df['smoker'] == 'yes']['charges'].mean()\n",
    "average_cost_non_smoker = df[df['smoker'] == 'no']['charges'].mean()\n",
    "print(f'Average cost of insurance for smokers: {int(average_cost_smoker)} US dollars')"
   ],
   "outputs": [],
   "execution_count": null
  },
  {
   "metadata": {},
   "cell_type": "code",
   "source": "print(f'Average cost of insurance for non-smokers: {int(average_cost_non_smoker)} US dollars')",
   "outputs": [],
   "execution_count": null
  },
  {
   "metadata": {},
   "cell_type": "markdown",
   "source": "# difference of average cost between smokers and non-smokers\n"
  },
  {
   "metadata": {},
   "cell_type": "code",
   "source": [
    "# difference of average cost between smokers and non-smokers\n",
    "difference = average_cost_smoker - average_cost_non_smoker\n",
    "print(f'Difference of average cost between smokers and non-smokers: {int(difference)} US dollars')"
   ],
   "outputs": [],
   "execution_count": null
  },
  {
   "metadata": {},
   "cell_type": "markdown",
   "source": "# IF BMI is greater than 30, then the patient is obese\n"
  },
  {
   "metadata": {},
   "cell_type": "code",
   "source": "obese_patients = df[df['bmi'] > 30]",
   "outputs": [],
   "execution_count": null
  },
  {
   "metadata": {},
   "cell_type": "code",
   "source": "obese_patients_count = obese_patients.shape[0]\n",
   "outputs": [],
   "execution_count": null
  },
  {
   "metadata": {},
   "cell_type": "code",
   "source": "print(f'The number of obese patients: {obese_patients_count}')",
   "outputs": [],
   "execution_count": null
  },
  {
   "metadata": {},
   "cell_type": "markdown",
   "source": "# find The most expensive region for insurance"
  },
  {
   "metadata": {},
   "cell_type": "code",
   "source": [
    "most_expensive_region = df.groupby('region')['charges'].mean().idxmax()\n",
    "print(f'The most expensive region for insurance: {most_expensive_region}')"
   ],
   "outputs": [],
   "execution_count": null
  },
  {
   "metadata": {},
   "cell_type": "code",
   "source": [
    "most_cheapest_region = df.groupby('region')['charges'].mean().idxmin()\n",
    "print(f'The most cheapest region for insurance: {most_cheapest_region}')"
   ],
   "outputs": [],
   "execution_count": null
  },
  {
   "metadata": {},
   "cell_type": "markdown",
   "source": "# Average cost of insurance for different regions\n"
  },
  {
   "metadata": {},
   "cell_type": "code",
   "source": [
    "average_cost_region = df.groupby('region')['charges'].mean()\n",
    "print(average_cost_region)"
   ],
   "outputs": [],
   "execution_count": null
  },
  {
   "metadata": {},
   "cell_type": "markdown",
   "source": "### Find the patient with the highest insurance cost"
  },
  {
   "metadata": {},
   "cell_type": "code",
   "source": [
    "highest_cost_patient = zipped_data[df['charges'].idxmax()]\n",
    "print(highest_cost_patient)"
   ],
   "outputs": [],
   "execution_count": null
  },
  {
   "metadata": {},
   "cell_type": "code",
   "source": "lowest_cost_patient = zipped_data[df['charges'].idxmin()]",
   "outputs": [],
   "execution_count": null
  },
  {
   "metadata": {},
   "cell_type": "code",
   "source": "print(lowest_cost_patient)",
   "outputs": [],
   "execution_count": null
  },
  {
   "metadata": {},
   "cell_type": "code",
   "source": "",
   "outputs": [],
   "execution_count": null
  }
 ],
 "metadata": {
  "kernelspec": {
   "display_name": "base",
   "language": "python",
   "name": "python3"
  },
  "language_info": {
   "codemirror_mode": {
    "name": "ipython",
    "version": 3
   },
   "file_extension": ".py",
   "mimetype": "text/x-python",
   "name": "python",
   "nbconvert_exporter": "python",
   "pygments_lexer": "ipython3",
   "version": "3.11.7"
  }
 },
 "nbformat": 4,
 "nbformat_minor": 2
}
