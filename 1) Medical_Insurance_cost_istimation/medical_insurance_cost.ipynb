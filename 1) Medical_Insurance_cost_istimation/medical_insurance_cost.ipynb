{
 "cells": [
  {
   "metadata": {
    "ExecuteTime": {
     "end_time": "2024-05-26T12:23:21.459160Z",
     "start_time": "2024-05-26T12:23:21.454739Z"
    }
   },
   "cell_type": "code",
   "source": [
    "import csv\n",
    "import pandas as pd\n",
    "import matplotlib.pyplot as plt"
   ],
   "outputs": [],
   "execution_count": 94
  },
  {
   "metadata": {},
   "cell_type": "markdown",
   "source": "# Step 1: Load the data"
  },
  {
   "metadata": {
    "ExecuteTime": {
     "end_time": "2024-05-26T12:23:21.707847Z",
     "start_time": "2024-05-26T12:23:21.633574Z"
    }
   },
   "cell_type": "code",
   "source": "df = pd.DataFrame('zipped_data')",
   "outputs": [
    {
     "ename": "ValueError",
     "evalue": "DataFrame constructor not properly called!",
     "output_type": "error",
     "traceback": [
      "\u001B[1;31m---------------------------------------------------------------------------\u001B[0m",
      "\u001B[1;31mValueError\u001B[0m                                Traceback (most recent call last)",
      "\u001B[1;32m~\\AppData\\Local\\Temp\\ipykernel_5732\\3383167498.py\u001B[0m in \u001B[0;36m?\u001B[1;34m()\u001B[0m\n\u001B[1;32m----> 1\u001B[1;33m \u001B[0mdf\u001B[0m \u001B[1;33m=\u001B[0m \u001B[0mpd\u001B[0m\u001B[1;33m.\u001B[0m\u001B[0mDataFrame\u001B[0m\u001B[1;33m(\u001B[0m\u001B[1;34m'zipped_data'\u001B[0m\u001B[1;33m)\u001B[0m\u001B[1;33m\u001B[0m\u001B[1;33m\u001B[0m\u001B[0m\n\u001B[0m",
      "\u001B[1;32m~\\anaconda3\\Lib\\site-packages\\pandas\\core\\frame.py\u001B[0m in \u001B[0;36m?\u001B[1;34m(self, data, index, columns, dtype, copy)\u001B[0m\n\u001B[0;32m    837\u001B[0m                 )\n\u001B[0;32m    838\u001B[0m         \u001B[1;31m# For data is scalar\u001B[0m\u001B[1;33m\u001B[0m\u001B[1;33m\u001B[0m\u001B[0m\n\u001B[0;32m    839\u001B[0m         \u001B[1;32melse\u001B[0m\u001B[1;33m:\u001B[0m\u001B[1;33m\u001B[0m\u001B[1;33m\u001B[0m\u001B[0m\n\u001B[0;32m    840\u001B[0m             \u001B[1;32mif\u001B[0m \u001B[0mindex\u001B[0m \u001B[1;32mis\u001B[0m \u001B[1;32mNone\u001B[0m \u001B[1;32mor\u001B[0m \u001B[0mcolumns\u001B[0m \u001B[1;32mis\u001B[0m \u001B[1;32mNone\u001B[0m\u001B[1;33m:\u001B[0m\u001B[1;33m\u001B[0m\u001B[1;33m\u001B[0m\u001B[0m\n\u001B[1;32m--> 841\u001B[1;33m                 \u001B[1;32mraise\u001B[0m \u001B[0mValueError\u001B[0m\u001B[1;33m(\u001B[0m\u001B[1;34m\"DataFrame constructor not properly called!\"\u001B[0m\u001B[1;33m)\u001B[0m\u001B[1;33m\u001B[0m\u001B[1;33m\u001B[0m\u001B[0m\n\u001B[0m\u001B[0;32m    842\u001B[0m \u001B[1;33m\u001B[0m\u001B[0m\n\u001B[0;32m    843\u001B[0m             \u001B[0mindex\u001B[0m \u001B[1;33m=\u001B[0m \u001B[0mensure_index\u001B[0m\u001B[1;33m(\u001B[0m\u001B[0mindex\u001B[0m\u001B[1;33m)\u001B[0m\u001B[1;33m\u001B[0m\u001B[1;33m\u001B[0m\u001B[0m\n\u001B[0;32m    844\u001B[0m             \u001B[0mcolumns\u001B[0m \u001B[1;33m=\u001B[0m \u001B[0mensure_index\u001B[0m\u001B[1;33m(\u001B[0m\u001B[0mcolumns\u001B[0m\u001B[1;33m)\u001B[0m\u001B[1;33m\u001B[0m\u001B[1;33m\u001B[0m\u001B[0m\n",
      "\u001B[1;31mValueError\u001B[0m: DataFrame constructor not properly called!"
     ]
    }
   ],
   "execution_count": 95
  },
  {
   "metadata": {},
   "cell_type": "code",
   "source": [
    "# Load the data from the csv file\n",
    "def load_data(file_path):\n",
    "    data = []\n",
    "    \n",
    "    with open(file_path) as csv_file:\n",
    "        csv_reader = csv.DictReader(csv_file)\n",
    "        for row in csv_reader:\n",
    "            data.append(row)\n",
    "    return data\n",
    "\n",
    "data = load_data('Data/insurance.csv')\n"
   ],
   "outputs": [],
   "execution_count": null
  },
  {
   "metadata": {},
   "cell_type": "code",
   "source": "print(type(data))",
   "outputs": [],
   "execution_count": null
  },
  {
   "metadata": {},
   "cell_type": "code",
   "source": "print(data[:3])",
   "outputs": [],
   "execution_count": null
  },
  {
   "metadata": {},
   "cell_type": "markdown",
   "source": "# creating the list of every column"
  },
  {
   "metadata": {
    "ExecuteTime": {
     "end_time": "2024-05-26T12:23:21.758997Z",
     "start_time": "2024-05-26T12:23:21.753134Z"
    }
   },
   "cell_type": "code",
   "source": [
    "age = []\n",
    "sex = []\n",
    "bmi = []\n",
    "children = []\n",
    "smoker = []\n",
    "region = []\n",
    "charges = []"
   ],
   "outputs": [],
   "execution_count": 96
  },
  {
   "metadata": {
    "ExecuteTime": {
     "end_time": "2024-05-26T12:23:21.910457Z",
     "start_time": "2024-05-26T12:23:21.904846Z"
    }
   },
   "cell_type": "code",
   "source": [
    "def extract_data(age):\n",
    "    for row in data:\n",
    "        age.append(row['age'])\n",
    "\n",
    "extract_data(age)"
   ],
   "outputs": [],
   "execution_count": 97
  },
  {
   "metadata": {
    "ExecuteTime": {
     "end_time": "2024-05-26T12:23:22.026841Z",
     "start_time": "2024-05-26T12:23:22.021553Z"
    }
   },
   "cell_type": "code",
   "source": "print(age[:3])",
   "outputs": [
    {
     "name": "stdout",
     "output_type": "stream",
     "text": [
      "['19', '18', '28']\n"
     ]
    }
   ],
   "execution_count": 98
  },
  {
   "metadata": {
    "ExecuteTime": {
     "end_time": "2024-05-26T12:23:22.098856Z",
     "start_time": "2024-05-26T12:23:22.093014Z"
    }
   },
   "cell_type": "code",
   "source": [
    "def extract_data(sex):\n",
    "    for row in data:\n",
    "        sex.append(row['sex'])\n",
    "\n",
    "extract_data(sex)"
   ],
   "outputs": [],
   "execution_count": 99
  },
  {
   "metadata": {
    "ExecuteTime": {
     "end_time": "2024-05-26T12:23:22.116359Z",
     "start_time": "2024-05-26T12:23:22.102872Z"
    }
   },
   "cell_type": "code",
   "source": "print(sex[:3])",
   "outputs": [
    {
     "name": "stdout",
     "output_type": "stream",
     "text": [
      "['female', 'male', 'male']\n"
     ]
    }
   ],
   "execution_count": 100
  },
  {
   "metadata": {
    "ExecuteTime": {
     "end_time": "2024-05-26T12:23:22.138352Z",
     "start_time": "2024-05-26T12:23:22.120373Z"
    }
   },
   "cell_type": "code",
   "source": [
    "def extract_data(bmi):\n",
    "    for row in data:\n",
    "        bmi.append(row['bmi'])\n",
    "\n",
    "extract_data(bmi)"
   ],
   "outputs": [],
   "execution_count": 101
  },
  {
   "metadata": {
    "ExecuteTime": {
     "end_time": "2024-05-26T12:23:22.171053Z",
     "start_time": "2024-05-26T12:23:22.165382Z"
    }
   },
   "cell_type": "code",
   "source": "print(bmi[:3])",
   "outputs": [
    {
     "name": "stdout",
     "output_type": "stream",
     "text": [
      "['27.9', '33.77', '33']\n"
     ]
    }
   ],
   "execution_count": 102
  },
  {
   "metadata": {
    "ExecuteTime": {
     "end_time": "2024-05-26T12:23:22.194983Z",
     "start_time": "2024-05-26T12:23:22.183067Z"
    }
   },
   "cell_type": "code",
   "source": [
    "def extract_data(children):\n",
    "    for row in data:\n",
    "        children.append(row['children'])\n",
    "       \n",
    "       \n",
    "extract_data(children) "
   ],
   "outputs": [],
   "execution_count": 103
  },
  {
   "metadata": {
    "ExecuteTime": {
     "end_time": "2024-05-26T12:23:22.220784Z",
     "start_time": "2024-05-26T12:23:22.208994Z"
    }
   },
   "cell_type": "code",
   "source": "print(children[:3])",
   "outputs": [
    {
     "name": "stdout",
     "output_type": "stream",
     "text": [
      "['0', '1', '3']\n"
     ]
    }
   ],
   "execution_count": 104
  },
  {
   "metadata": {
    "ExecuteTime": {
     "end_time": "2024-05-26T12:23:22.285983Z",
     "start_time": "2024-05-26T12:23:22.279302Z"
    }
   },
   "cell_type": "code",
   "source": [
    "def extract_data(smoker):\n",
    "    for row in data:\n",
    "        smoker.append(row['smoker'])\n",
    "\n",
    "extract_data(smoker)"
   ],
   "outputs": [],
   "execution_count": 105
  },
  {
   "metadata": {
    "ExecuteTime": {
     "end_time": "2024-05-26T12:23:22.306198Z",
     "start_time": "2024-05-26T12:23:22.300994Z"
    }
   },
   "cell_type": "code",
   "source": "print(smoker[:3])",
   "outputs": [
    {
     "name": "stdout",
     "output_type": "stream",
     "text": [
      "['yes', 'no', 'no']\n"
     ]
    }
   ],
   "execution_count": 106
  },
  {
   "metadata": {
    "ExecuteTime": {
     "end_time": "2024-05-26T12:23:22.359326Z",
     "start_time": "2024-05-26T12:23:22.353217Z"
    }
   },
   "cell_type": "code",
   "source": [
    "def extract_data(region):\n",
    "    for row in data:\n",
    "        region.append(row['region'])\n",
    "    \n",
    "extract_data(region)"
   ],
   "outputs": [],
   "execution_count": 107
  },
  {
   "metadata": {
    "ExecuteTime": {
     "end_time": "2024-05-26T12:23:22.388303Z",
     "start_time": "2024-05-26T12:23:22.382856Z"
    }
   },
   "cell_type": "code",
   "source": "print(region[:3])",
   "outputs": [
    {
     "name": "stdout",
     "output_type": "stream",
     "text": [
      "['southwest', 'southeast', 'southeast']\n"
     ]
    }
   ],
   "execution_count": 108
  },
  {
   "metadata": {
    "ExecuteTime": {
     "end_time": "2024-05-26T12:23:22.433804Z",
     "start_time": "2024-05-26T12:23:22.428318Z"
    }
   },
   "cell_type": "code",
   "source": [
    "def extract_data(charges):\n",
    "    for row in data:\n",
    "        charges.append(row['charges'])\n",
    "\n",
    "extract_data(charges)"
   ],
   "outputs": [],
   "execution_count": 109
  },
  {
   "metadata": {
    "ExecuteTime": {
     "end_time": "2024-05-26T12:23:22.453165Z",
     "start_time": "2024-05-26T12:23:22.445812Z"
    }
   },
   "cell_type": "code",
   "source": "print(charges[:3])",
   "outputs": [
    {
     "name": "stdout",
     "output_type": "stream",
     "text": [
      "['16884.924', '1725.5523', '4449.462']\n"
     ]
    }
   ],
   "execution_count": 110
  },
  {
   "metadata": {},
   "cell_type": "markdown",
   "source": "# Data zipping"
  },
  {
   "metadata": {
    "ExecuteTime": {
     "end_time": "2024-05-26T12:23:22.469692Z",
     "start_time": "2024-05-26T12:23:22.463182Z"
    }
   },
   "cell_type": "code",
   "source": "zipped_data = list(zip(age, sex, bmi, children, smoker, region, charges))",
   "outputs": [],
   "execution_count": 111
  },
  {
   "metadata": {
    "ExecuteTime": {
     "end_time": "2024-05-26T12:23:22.532930Z",
     "start_time": "2024-05-26T12:23:22.526762Z"
    }
   },
   "cell_type": "code",
   "source": "print(zipped_data[:3])",
   "outputs": [
    {
     "name": "stdout",
     "output_type": "stream",
     "text": [
      "[('19', 'female', '27.9', '0', 'yes', 'southwest', '16884.924'), ('18', 'male', '33.77', '1', 'no', 'southeast', '1725.5523'), ('28', 'male', '33', '3', 'no', 'southeast', '4449.462')]\n"
     ]
    }
   ],
   "execution_count": 112
  },
  {
   "metadata": {},
   "cell_type": "markdown",
   "source": "# Step 2: Data Analysis"
  },
  {
   "metadata": {
    "ExecuteTime": {
     "end_time": "2024-05-26T12:27:43.401224Z",
     "start_time": "2024-05-26T12:27:43.122500Z"
    }
   },
   "cell_type": "code",
   "source": [
    "plt.figure(figsize=(10, 6))\n",
    "plt.hist(df['bmi'], bins=50, color='skyblue', edgecolor='black')\n",
    "plt.title('BMI Distribution')\n",
    "plt.xlabel('BMI')\n",
    "plt.ylabel('Number of Patients')\n",
    "plt.show()"
   ],
   "outputs": [
    {
     "data": {
      "text/plain": [
       "<Figure size 1000x600 with 1 Axes>"
      ],
      "image/png": "[encoded data removed]"
     },
     "metadata": {},
     "output_type": "display_data"
    }
   ],
   "execution_count": 116
  },
  {
   "metadata": {},
   "cell_type": "markdown",
   "source": "### For smokers and non-smokers "
  },
  {
   "metadata": {
    "ExecuteTime": {
     "end_time": "2024-05-26T12:35:39.662692Z",
     "start_time": "2024-05-26T12:35:39.554422Z"
    }
   },
   "cell_type": "code",
   "source": [
    "smoker_and_Nonsmoker_count = df['smoker'].value_counts()\n",
    "plt.figure(figsize=(10, 6))\n",
    "plt.pie(smoker_and_Nonsmoker_count, labels=smoker_and_Nonsmoker_count.index, autopct='%1.1f%%', startangle=90, colors=['#ff9999','#66b3ff'])\n",
    "plt.title('Smoker and Non-Smoker')\n",
    "plt.show()"
   ],
   "outputs": [
    {
     "data": {
      "text/plain": [
       "<Figure size 1000x600 with 1 Axes>"
      ],
      "image/png": "[encoded data removed]"
     },
     "metadata": {},
     "output_type": "display_data"
    }
   ],
   "execution_count": 119
  },
  {
   "metadata": {
    "ExecuteTime": {
     "end_time": "2024-05-26T12:37:45.331404Z",
     "start_time": "2024-05-26T12:37:45.213780Z"
    }
   },
   "cell_type": "code",
   "source": [
    "plt.figure(figsize=(10, 6))\n",
    "plt.pie(df['region'].value_counts(), labels=df['region'].value_counts().index, autopct='%1.1f%%', startangle=90, colors=['#ff9999','#66b3ff', '#99ff99', '#ffcc99'])\n",
    "plt.title('Region Distribution')\n",
    "plt.show()"
   ],
   "outputs": [
    {
     "data": {
      "text/plain": [
       "<Figure size 1000x600 with 1 Axes>"
      ],
      "image/png": "[encoded data removed]"
     },
     "metadata": {},
     "output_type": "display_data"
    }
   ],
   "execution_count": 122
  },
  {
   "metadata": {},
   "cell_type": "code",
   "outputs": [],
   "execution_count": null,
   "source": ""
  }
 ],
 "metadata": {
  "kernelspec": {
   "display_name": "base",
   "language": "python",
   "name": "python3"
  },
  "language_info": {
   "codemirror_mode": {
    "name": "ipython",
    "version": 3
   },
   "file_extension": ".py",
   "mimetype": "text/x-python",
   "name": "python",
   "nbconvert_exporter": "python",
   "pygments_lexer": "ipython3",
   "version": "3.11.7"
  }
 },
 "nbformat": 4,
 "nbformat_minor": 2
}
