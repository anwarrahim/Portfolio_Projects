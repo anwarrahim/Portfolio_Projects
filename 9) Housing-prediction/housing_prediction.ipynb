{
 "cells": [
  {
   "cell_type": "code",
   "id": "initial_id",
   "metadata": {
    "collapsed": true,
    "ExecuteTime": {
     "end_time": "2024-08-09T16:28:42.851582Z",
     "start_time": "2024-08-09T16:28:42.846695Z"
    }
   },
   "source": [
    "from sklearn.linear_model import LinearRegression\n",
    "import numpy as np\n",
    "import pandas as pd"
   ],
   "outputs": [],
   "execution_count": 9
  },
  {
   "metadata": {
    "ExecuteTime": {
     "end_time": "2024-08-09T16:28:43.494004Z",
     "start_time": "2024-08-09T16:28:43.480630Z"
    }
   },
   "cell_type": "code",
   "source": "data = pd.read_csv(\"data/housing_data.csv\")",
   "id": "7338b214c6728d0",
   "outputs": [],
   "execution_count": 10
  },
  {
   "metadata": {
    "ExecuteTime": {
     "end_time": "2024-08-09T16:29:02.286023Z",
     "start_time": "2024-08-09T16:29:02.258005Z"
    }
   },
   "cell_type": "code",
   "source": "data.head()",
   "id": "75b77374a7964871",
   "outputs": [
    {
     "data": {
      "text/plain": [
       "   Bedrooms  SquareFeet   Price\n",
       "0         2        1000  200000\n",
       "1         3        1500  300000\n",
       "2         2        1200  220000\n",
       "3         4        2000  400000\n",
       "4         3        1800  350000"
      ],
      "text/html": [
       "<div>\n",
       "<style scoped>\n",
       "    .dataframe tbody tr th:only-of-type {\n",
       "        vertical-align: middle;\n",
       "    }\n",
       "\n",
       "    .dataframe tbody tr th {\n",
       "        vertical-align: top;\n",
       "    }\n",
       "\n",
       "    .dataframe thead th {\n",
       "        text-align: right;\n",
       "    }\n",
       "</style>\n",
       "<table border=\"1\" class=\"dataframe\">\n",
       "  <thead>\n",
       "    <tr style=\"text-align: right;\">\n",
       "      <th></th>\n",
       "      <th>Bedrooms</th>\n",
       "      <th>SquareFeet</th>\n",
       "      <th>Price</th>\n",
       "    </tr>\n",
       "  </thead>\n",
       "  <tbody>\n",
       "    <tr>\n",
       "      <th>0</th>\n",
       "      <td>2</td>\n",
       "      <td>1000</td>\n",
       "      <td>200000</td>\n",
       "    </tr>\n",
       "    <tr>\n",
       "      <th>1</th>\n",
       "      <td>3</td>\n",
       "      <td>1500</td>\n",
       "      <td>300000</td>\n",
       "    </tr>\n",
       "    <tr>\n",
       "      <th>2</th>\n",
       "      <td>2</td>\n",
       "      <td>1200</td>\n",
       "      <td>220000</td>\n",
       "    </tr>\n",
       "    <tr>\n",
       "      <th>3</th>\n",
       "      <td>4</td>\n",
       "      <td>2000</td>\n",
       "      <td>400000</td>\n",
       "    </tr>\n",
       "    <tr>\n",
       "      <th>4</th>\n",
       "      <td>3</td>\n",
       "      <td>1800</td>\n",
       "      <td>350000</td>\n",
       "    </tr>\n",
       "  </tbody>\n",
       "</table>\n",
       "</div>"
      ]
     },
     "execution_count": 11,
     "metadata": {},
     "output_type": "execute_result"
    }
   ],
   "execution_count": 11
  },
  {
   "metadata": {
    "ExecuteTime": {
     "end_time": "2024-08-09T16:37:32.353510Z",
     "start_time": "2024-08-09T16:37:32.346137Z"
    }
   },
   "cell_type": "code",
   "source": [
    "X = data.drop(['Price'], axis=1)\n",
    "Y = data['Price']"
   ],
   "id": "81a2c0831af86e8f",
   "outputs": [],
   "execution_count": 12
  },
  {
   "metadata": {
    "ExecuteTime": {
     "end_time": "2024-08-09T16:38:43.978045Z",
     "start_time": "2024-08-09T16:38:43.963999Z"
    }
   },
   "cell_type": "code",
   "source": "print(X)\n",
   "id": "924935f5ad98629c",
   "outputs": [
    {
     "name": "stdout",
     "output_type": "stream",
     "text": [
      "    Bedrooms  SquareFeet\n",
      "0          2        1000\n",
      "1          3        1500\n",
      "2          2        1200\n",
      "3          4        2000\n",
      "4          3        1800\n",
      "5          5        2500\n",
      "6          2         900\n",
      "7          3        1200\n",
      "8          4        1800\n",
      "9          2        1500\n",
      "10         3        2000\n",
      "11         5        3000\n",
      "12         2        1100\n",
      "13         3        1400\n",
      "14         4        2200\n",
      "15         2        1300\n",
      "16         3        1600\n",
      "17         4        2000\n",
      "18         5        2800\n",
      "19         2        1050\n",
      "20         3        1700\n",
      "21         4        1900\n",
      "22         2        1250\n",
      "23         3        1950\n",
      "24         5        2600\n",
      "25         2         950\n",
      "26         3        1350\n",
      "27         4        2050\n",
      "28         2        1450\n",
      "29         3        1650\n",
      "30         4        2150\n",
      "31         5        2950\n",
      "32         2        1005\n",
      "33         3        1520\n",
      "34         4        1980\n",
      "35         2        1190\n",
      "36         3        1820\n",
      "37         5        2480\n"
     ]
    }
   ],
   "execution_count": 15
  },
  {
   "metadata": {},
   "cell_type": "code",
   "outputs": [],
   "execution_count": null,
   "source": "",
   "id": "7ac0e841663422e0"
  }
 ],
 "metadata": {
  "kernelspec": {
   "display_name": "Python 3",
   "language": "python",
   "name": "python3"
  },
  "language_info": {
   "codemirror_mode": {
    "name": "ipython",
    "version": 2
   },
   "file_extension": ".py",
   "mimetype": "text/x-python",
   "name": "python",
   "nbconvert_exporter": "python",
   "pygments_lexer": "ipython2",
   "version": "2.7.6"
  }
 },
 "nbformat": 4,
 "nbformat_minor": 5
}
