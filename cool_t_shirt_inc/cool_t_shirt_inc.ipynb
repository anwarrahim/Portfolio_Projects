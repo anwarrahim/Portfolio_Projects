{
 "cells": [
  {
   "metadata": {},
   "cell_type": "markdown",
   "source": "# Cool T shirt Inc",
   "id": "4075d3908264276c"
  },
  {
   "metadata": {
    "ExecuteTime": {
     "end_time": "2024-07-25T06:07:22.440850Z",
     "start_time": "2024-07-25T06:07:22.432324Z"
    }
   },
   "cell_type": "code",
   "source": [
    "import pandas as pd\n",
    "import numpy as np\n",
    "import matplotlib.pyplot as plt"
   ],
   "id": "67e8f055403103d4",
   "outputs": [],
   "execution_count": 21
  },
  {
   "metadata": {
    "ExecuteTime": {
     "end_time": "2024-07-25T06:07:22.503528Z",
     "start_time": "2024-07-25T06:07:22.477381Z"
    }
   },
   "cell_type": "code",
   "source": [
    "import os\n",
    "\n",
    "file_path = 'cart.csv'\n",
    "if os.path.exists('cart.csv') and  os.path.getsize('cart.csv') > 0:\n",
    "    try:\n",
    "        cart = pd.read_csv('cart.csv')\n",
    "        print(cart)\n",
    "    except pd.errors.EmptyDataError:\n",
    "        print(\"The file is empty\")\n",
    "    except pd.errors.parserError:\n",
    "        print(\"Error parseing the file\")\n",
    "else:\n",
    "    print(\"The file does not exist or is empty\")\n",
    "        "
   ],
   "id": "28f6f4efcb1bc3df",
   "outputs": [
    {
     "name": "stdout",
     "output_type": "stream",
     "text": [
      "                                  user_id            cart_time\n",
      "0    2be90e7c-9cca-44e0-bcc5-124b945ff168  2017-11-07 20:45:00\n",
      "1    4397f73f-1da3-4ab3-91af-762792e25973  2017-05-27 01:35:00\n",
      "2    a9db3d4b-0a0a-4398-a55a-ebb2c7adf663  2017-03-04 10:38:00\n",
      "3    b594862a-36c5-47d5-b818-6e9512b939b3  2017-09-27 08:22:00\n",
      "4    a68a16e2-94f0-4ce8-8ce3-784af0bbb974  2017-07-26 15:48:00\n",
      "..                                    ...                  ...\n",
      "343  952be3a5-9240-484f-845c-a6b2cbed72ee  2017-05-02 05:40:00\n",
      "344  59d2b685-383a-4fce-a325-35d985713a8b  2017-01-20 03:58:00\n",
      "345  a1203970-92ae-4fc7-843e-e1740c1be9d5  2017-11-12 23:07:00\n",
      "346  55de53ae-89f6-43ff-a26d-df284678aca1  2017-03-17 19:56:00\n",
      "347  0ea4cc68-dae4-4e35-b3e0-f0889932e1b5  2017-05-12 08:53:00\n",
      "\n",
      "[348 rows x 2 columns]\n"
     ]
    }
   ],
   "execution_count": 22
  },
  {
   "metadata": {},
   "cell_type": "markdown",
   "source": "## import csv data",
   "id": "99a9b42a9ed9253c"
  },
  {
   "metadata": {
    "ExecuteTime": {
     "end_time": "2024-07-25T06:07:22.531148Z",
     "start_time": "2024-07-25T06:07:22.503528Z"
    }
   },
   "cell_type": "code",
   "source": [
    "cart = pd.read_csv('cart.csv')\n",
    "checkout = pd.read_csv('checkout.csv')\n",
    "purchase = pd.read_csv('purchase.csv')\n",
    "visits = pd.read_csv('visits.csv')"
   ],
   "id": "c7656c7443de89c1",
   "outputs": [],
   "execution_count": 23
  },
  {
   "metadata": {
    "ExecuteTime": {
     "end_time": "2024-07-25T06:07:22.536442Z",
     "start_time": "2024-07-25T06:07:22.531148Z"
    }
   },
   "cell_type": "code",
   "source": "",
   "id": "48a2aee4599be6f",
   "outputs": [],
   "execution_count": 23
  },
  {
   "metadata": {},
   "cell_type": "markdown",
   "source": [
    "<h4> \n",
    "Inspect the DataFrames using print and head </h4>\n",
    "\n",
    "`visits` lists all of the users who have visited the website\n",
    "`cart` lists all of the users who have added a t-shirt to their cart\n",
    "`checkout` lists all of the users who have started the checkout\n",
    "`purchase` lists all of the users who have purchased a t-shirt \n",
    "</h4>\n",
    "\n"
   ],
   "id": "e4b8ca1efbcbec54"
  },
  {
   "metadata": {
    "ExecuteTime": {
     "end_time": "2024-07-25T06:07:22.545254Z",
     "start_time": "2024-07-25T06:07:22.537951Z"
    }
   },
   "cell_type": "code",
   "source": "print(visits)",
   "id": "6f2198b0acf5e2de",
   "outputs": [
    {
     "name": "stdout",
     "output_type": "stream",
     "text": [
      "                                   user_id           visit_time\n",
      "0     943647ef-3682-4750-a2e1-918ba6f16188  2017-04-07 15:14:00\n",
      "1     0c3a3dd0-fb64-4eac-bf84-ba069ce409f2  2017-01-26 14:24:00\n",
      "2     6e0b2d60-4027-4d9a-babd-0e7d40859fb1  2017-08-20 08:23:00\n",
      "3     6879527e-c5a6-4d14-b2da-50b85212b0ab  2017-11-04 18:15:00\n",
      "4     a84327ff-5daa-4ba1-b789-d5b4caf81e96  2017-02-27 11:25:00\n",
      "...                                    ...                  ...\n",
      "1995  33913ac2-03da-45ae-8fc3-fea39df827c6  2017-03-25 03:29:00\n",
      "1996  4f850132-b99d-4623-80e6-6e61d003577e  2017-01-08 09:57:00\n",
      "1997  f0830b9b-1f5c-4e74-b63d-3f847cc6ce70  2017-09-07 12:56:00\n",
      "1998  b01bffa7-63ba-4cd3-9d93-eb1477c23831  2017-07-20 04:37:00\n",
      "1999  0336ca81-8d68-443f-9248-ac0b8ad147d5  2017-11-15 10:11:00\n",
      "\n",
      "[2000 rows x 2 columns]\n"
     ]
    }
   ],
   "execution_count": 24
  },
  {
   "metadata": {
    "ExecuteTime": {
     "end_time": "2024-07-25T06:07:22.562736Z",
     "start_time": "2024-07-25T06:07:22.545254Z"
    }
   },
   "cell_type": "code",
   "source": "print(cart)",
   "id": "3d5ed05b64f57848",
   "outputs": [
    {
     "name": "stdout",
     "output_type": "stream",
     "text": [
      "                                  user_id            cart_time\n",
      "0    2be90e7c-9cca-44e0-bcc5-124b945ff168  2017-11-07 20:45:00\n",
      "1    4397f73f-1da3-4ab3-91af-762792e25973  2017-05-27 01:35:00\n",
      "2    a9db3d4b-0a0a-4398-a55a-ebb2c7adf663  2017-03-04 10:38:00\n",
      "3    b594862a-36c5-47d5-b818-6e9512b939b3  2017-09-27 08:22:00\n",
      "4    a68a16e2-94f0-4ce8-8ce3-784af0bbb974  2017-07-26 15:48:00\n",
      "..                                    ...                  ...\n",
      "343  952be3a5-9240-484f-845c-a6b2cbed72ee  2017-05-02 05:40:00\n",
      "344  59d2b685-383a-4fce-a325-35d985713a8b  2017-01-20 03:58:00\n",
      "345  a1203970-92ae-4fc7-843e-e1740c1be9d5  2017-11-12 23:07:00\n",
      "346  55de53ae-89f6-43ff-a26d-df284678aca1  2017-03-17 19:56:00\n",
      "347  0ea4cc68-dae4-4e35-b3e0-f0889932e1b5  2017-05-12 08:53:00\n",
      "\n",
      "[348 rows x 2 columns]\n"
     ]
    }
   ],
   "execution_count": 25
  },
  {
   "metadata": {
    "ExecuteTime": {
     "end_time": "2024-07-25T06:07:22.585135Z",
     "start_time": "2024-07-25T06:07:22.562736Z"
    }
   },
   "cell_type": "code",
   "source": "print(checkout)",
   "id": "34b868ef1d744591",
   "outputs": [
    {
     "name": "stdout",
     "output_type": "stream",
     "text": [
      "                                  user_id        checkout_time\n",
      "0    d33bdc47-4afa-45bc-b4e4-dbe948e34c0d  2017-06-25 09:29:00\n",
      "1    4ac186f0-9954-4fea-8a27-c081e428e34e  2017-04-07 20:11:00\n",
      "2    3c9c78a7-124a-4b77-8d2e-e1926e011e7d  2017-07-13 11:38:00\n",
      "3    89fe330a-8966-4756-8f7c-3bdbcd47279a  2017-04-20 16:15:00\n",
      "4    3ccdaf69-2d30-40de-b083-51372881aedd  2017-01-08 20:52:00\n",
      "..                                    ...                  ...\n",
      "355  dbdfeb12-cbb2-4c43-98a9-57fa126c19fc  2017-05-25 16:34:00\n",
      "356  21dec5fa-999a-45c5-b59b-18a1ee161379  2017-03-17 12:40:00\n",
      "357  f3dd7631-3cf6-4d49-9c6e-b48eda4432b5  2017-01-04 10:20:00\n",
      "358  ba011b1d-6cc5-4147-ae8a-1722a1f5c27c  2017-10-24 08:32:00\n",
      "359  d2cb350b-2201-4290-b2e0-84a8bf0d6883  2017-08-08 16:14:00\n",
      "\n",
      "[360 rows x 2 columns]\n"
     ]
    }
   ],
   "execution_count": 26
  },
  {
   "metadata": {
    "ExecuteTime": {
     "end_time": "2024-07-25T06:07:22.601862Z",
     "start_time": "2024-07-25T06:07:22.585135Z"
    }
   },
   "cell_type": "code",
   "source": "print(purchase)",
   "id": "fc662c62bc43ec5f",
   "outputs": [
    {
     "name": "stdout",
     "output_type": "stream",
     "text": [
      "                                  user_id        purchase_time\n",
      "0    4b44ace4-2721-47a0-b24b-15fbfa2abf85  2017-05-11 04:25:00\n",
      "1    02e684ae-a448-408f-a9ff-dcb4a5c99aac  2017-09-05 08:45:00\n",
      "2    4b4bc391-749e-4b90-ab8f-4f6e3c84d6dc  2017-11-20 20:49:00\n",
      "3    a5dbb25f-3c36-4103-9030-9f7c6241cd8d  2017-01-22 15:18:00\n",
      "4    46a3186d-7f5a-4ab9-87af-84d05bfd4867  2017-06-11 11:32:00\n",
      "..                                    ...                  ...\n",
      "247  278c0f3c-d092-4e7f-b97b-97cc9d57c1c2  2017-01-05 02:45:00\n",
      "248  952be3a5-9240-484f-845c-a6b2cbed72ee  2017-05-02 06:10:00\n",
      "249  27e5a297-332d-4e8b-8e2a-b97ae8c5b6f9  2017-09-04 17:39:00\n",
      "250  4b04c692-d814-45bd-854a-000e0ef4e92a  2017-06-20 17:28:00\n",
      "251  c62fdf2f-3b30-4624-8463-d3961e687997  2017-11-21 23:00:00\n",
      "\n",
      "[252 rows x 2 columns]\n"
     ]
    }
   ],
   "execution_count": 27
  },
  {
   "metadata": {},
   "cell_type": "markdown",
   "source": [
    "\n",
    "#### Combine `visits` and `cart` using a left merge. ###"
   ],
   "id": "a2385be773051489"
  },
  {
   "metadata": {
    "ExecuteTime": {
     "end_time": "2024-07-25T06:12:48.889711Z",
     "start_time": "2024-07-25T06:12:48.845105Z"
    }
   },
   "cell_type": "code",
   "source": [
    "visits_cart_left_merge = pd.merge('visits', 'cart', how = 'left')\n",
    "\n",
    "print(visits_cart_left_merge)"
   ],
   "id": "3921f6df2a27dc3b",
   "outputs": [
    {
     "ename": "TypeError",
     "evalue": "Can only merge Series or DataFrame objects, a <class 'str'> was passed",
     "output_type": "error",
     "traceback": [
      "\u001B[1;31m---------------------------------------------------------------------------\u001B[0m",
      "\u001B[1;31mTypeError\u001B[0m                                 Traceback (most recent call last)",
      "Cell \u001B[1;32mIn[30], line 1\u001B[0m\n\u001B[1;32m----> 1\u001B[0m visits_cart_left_merge \u001B[38;5;241m=\u001B[39m \u001B[43mpd\u001B[49m\u001B[38;5;241;43m.\u001B[39;49m\u001B[43mmerge\u001B[49m\u001B[43m(\u001B[49m\u001B[38;5;124;43m'\u001B[39;49m\u001B[38;5;124;43mvisits\u001B[39;49m\u001B[38;5;124;43m'\u001B[39;49m\u001B[43m,\u001B[49m\u001B[43m \u001B[49m\u001B[38;5;124;43m'\u001B[39;49m\u001B[38;5;124;43mcart\u001B[39;49m\u001B[38;5;124;43m'\u001B[39;49m\u001B[43m,\u001B[49m\u001B[43m \u001B[49m\u001B[43mhow\u001B[49m\u001B[43m \u001B[49m\u001B[38;5;241;43m=\u001B[39;49m\u001B[43m \u001B[49m\u001B[38;5;124;43m'\u001B[39;49m\u001B[38;5;124;43mleft\u001B[39;49m\u001B[38;5;124;43m'\u001B[39;49m\u001B[43m)\u001B[49m\n\u001B[0;32m      2\u001B[0m \u001B[38;5;28mprint\u001B[39m(visits_cart_left_merge)\n",
      "File \u001B[1;32m~\\anaconda3\\Lib\\site-packages\\pandas\\core\\reshape\\merge.py:152\u001B[0m, in \u001B[0;36mmerge\u001B[1;34m(left, right, how, on, left_on, right_on, left_index, right_index, sort, suffixes, copy, indicator, validate)\u001B[0m\n\u001B[0;32m    135\u001B[0m \u001B[38;5;129m@Substitution\u001B[39m(\u001B[38;5;124m\"\u001B[39m\u001B[38;5;130;01m\\n\u001B[39;00m\u001B[38;5;124mleft : DataFrame or named Series\u001B[39m\u001B[38;5;124m\"\u001B[39m)\n\u001B[0;32m    136\u001B[0m \u001B[38;5;129m@Appender\u001B[39m(_merge_doc, indents\u001B[38;5;241m=\u001B[39m\u001B[38;5;241m0\u001B[39m)\n\u001B[0;32m    137\u001B[0m \u001B[38;5;28;01mdef\u001B[39;00m \u001B[38;5;21mmerge\u001B[39m(\n\u001B[1;32m   (...)\u001B[0m\n\u001B[0;32m    150\u001B[0m     validate: \u001B[38;5;28mstr\u001B[39m \u001B[38;5;241m|\u001B[39m \u001B[38;5;28;01mNone\u001B[39;00m \u001B[38;5;241m=\u001B[39m \u001B[38;5;28;01mNone\u001B[39;00m,\n\u001B[0;32m    151\u001B[0m ) \u001B[38;5;241m-\u001B[39m\u001B[38;5;241m>\u001B[39m DataFrame:\n\u001B[1;32m--> 152\u001B[0m     left_df \u001B[38;5;241m=\u001B[39m \u001B[43m_validate_operand\u001B[49m\u001B[43m(\u001B[49m\u001B[43mleft\u001B[49m\u001B[43m)\u001B[49m\n\u001B[0;32m    153\u001B[0m     right_df \u001B[38;5;241m=\u001B[39m _validate_operand(right)\n\u001B[0;32m    154\u001B[0m     \u001B[38;5;28;01mif\u001B[39;00m how \u001B[38;5;241m==\u001B[39m \u001B[38;5;124m\"\u001B[39m\u001B[38;5;124mcross\u001B[39m\u001B[38;5;124m\"\u001B[39m:\n",
      "File \u001B[1;32m~\\anaconda3\\Lib\\site-packages\\pandas\\core\\reshape\\merge.py:2692\u001B[0m, in \u001B[0;36m_validate_operand\u001B[1;34m(obj)\u001B[0m\n\u001B[0;32m   2690\u001B[0m     \u001B[38;5;28;01mreturn\u001B[39;00m obj\u001B[38;5;241m.\u001B[39mto_frame()\n\u001B[0;32m   2691\u001B[0m \u001B[38;5;28;01melse\u001B[39;00m:\n\u001B[1;32m-> 2692\u001B[0m     \u001B[38;5;28;01mraise\u001B[39;00m \u001B[38;5;167;01mTypeError\u001B[39;00m(\n\u001B[0;32m   2693\u001B[0m         \u001B[38;5;124mf\u001B[39m\u001B[38;5;124m\"\u001B[39m\u001B[38;5;124mCan only merge Series or DataFrame objects, a \u001B[39m\u001B[38;5;132;01m{\u001B[39;00m\u001B[38;5;28mtype\u001B[39m(obj)\u001B[38;5;132;01m}\u001B[39;00m\u001B[38;5;124m was passed\u001B[39m\u001B[38;5;124m\"\u001B[39m\n\u001B[0;32m   2694\u001B[0m     )\n",
      "\u001B[1;31mTypeError\u001B[0m: Can only merge Series or DataFrame objects, a <class 'str'> was passed"
     ]
    }
   ],
   "execution_count": 30
  }
 ],
 "metadata": {
  "kernelspec": {
   "display_name": "Python 3",
   "language": "python",
   "name": "python3"
  },
  "language_info": {
   "codemirror_mode": {
    "name": "ipython",
    "version": 2
   },
   "file_extension": ".py",
   "mimetype": "text/x-python",
   "name": "python",
   "nbconvert_exporter": "python",
   "pygments_lexer": "ipython2",
   "version": "2.7.6"
  }
 },
 "nbformat": 4,
 "nbformat_minor": 5
}
