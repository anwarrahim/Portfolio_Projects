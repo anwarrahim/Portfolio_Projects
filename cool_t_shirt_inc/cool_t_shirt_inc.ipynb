{
 "cells": [
  {
   "metadata": {},
   "cell_type": "markdown",
   "source": "# Cool T shirt Inc",
   "id": "4075d3908264276c"
  },
  {
   "metadata": {
    "ExecuteTime": {
     "end_time": "2024-07-25T04:19:52.376257Z",
     "start_time": "2024-07-25T04:19:50.333081Z"
    }
   },
   "cell_type": "code",
   "source": [
    "import pandas as pd\n",
    "import numpy as np\n",
    "import matplotlib.pyplot as plt"
   ],
   "id": "67e8f055403103d4",
   "outputs": [],
   "execution_count": 1
  },
  {
   "metadata": {
    "ExecuteTime": {
     "end_time": "2024-07-25T04:30:55.646199Z",
     "start_time": "2024-07-25T04:30:55.617266Z"
    }
   },
   "cell_type": "code",
   "source": [
    "import os\n",
    "\n",
    "file_path = 'cart.csv'\n",
    "if os.path.exists('cart.csv') and  os.path.getsize('cart.csv') > 0:\n",
    "    try:\n",
    "        cart = pd.read_csv('cart.csv')\n",
    "        print(cart)\n",
    "    except pd.errors.EmptyDataError:\n",
    "        print(\"The file is empty\")\n",
    "    except pd.errors.parserError:\n",
    "        print(\"Error parseing the file\")\n",
    "else:\n",
    "    print(\"The file does not exist or is empty\")\n",
    "        "
   ],
   "id": "28f6f4efcb1bc3df",
   "outputs": [
    {
     "name": "stdout",
     "output_type": "stream",
     "text": [
      "                                  user_id            cart_time\n",
      "0    2be90e7c-9cca-44e0-bcc5-124b945ff168  2017-11-07 20:45:00\n",
      "1    4397f73f-1da3-4ab3-91af-762792e25973  2017-05-27 01:35:00\n",
      "2    a9db3d4b-0a0a-4398-a55a-ebb2c7adf663  2017-03-04 10:38:00\n",
      "3    b594862a-36c5-47d5-b818-6e9512b939b3  2017-09-27 08:22:00\n",
      "4    a68a16e2-94f0-4ce8-8ce3-784af0bbb974  2017-07-26 15:48:00\n",
      "..                                    ...                  ...\n",
      "343  952be3a5-9240-484f-845c-a6b2cbed72ee  2017-05-02 05:40:00\n",
      "344  59d2b685-383a-4fce-a325-35d985713a8b  2017-01-20 03:58:00\n",
      "345  a1203970-92ae-4fc7-843e-e1740c1be9d5  2017-11-12 23:07:00\n",
      "346  55de53ae-89f6-43ff-a26d-df284678aca1  2017-03-17 19:56:00\n",
      "347  0ea4cc68-dae4-4e35-b3e0-f0889932e1b5  2017-05-12 08:53:00\n",
      "\n",
      "[348 rows x 2 columns]\n"
     ]
    }
   ],
   "execution_count": 7
  },
  {
   "metadata": {},
   "cell_type": "markdown",
   "source": "## import csv data",
   "id": "99a9b42a9ed9253c"
  },
  {
   "metadata": {
    "ExecuteTime": {
     "end_time": "2024-07-25T04:31:46.150402Z",
     "start_time": "2024-07-25T04:31:46.130062Z"
    }
   },
   "cell_type": "code",
   "source": [
    "cart = pd.read_csv('cart.csv')\n",
    "checkout = pd.read_csv('checkout.csv')\n",
    "purchase = pd.read_csv('purchase.csv')\n",
    "visits = pd.read_csv('visits.csv')"
   ],
   "id": "c7656c7443de89c1",
   "outputs": [],
   "execution_count": 10
  },
  {
   "metadata": {
    "ExecuteTime": {
     "end_time": "2024-07-25T04:31:46.718109Z",
     "start_time": "2024-07-25T04:31:46.711139Z"
    }
   },
   "cell_type": "code",
   "source": "",
   "id": "48a2aee4599be6f",
   "outputs": [
    {
     "name": "stdout",
     "output_type": "stream",
     "text": [
      "                                  user_id            cart_time\n",
      "0    2be90e7c-9cca-44e0-bcc5-124b945ff168  2017-11-07 20:45:00\n",
      "1    4397f73f-1da3-4ab3-91af-762792e25973  2017-05-27 01:35:00\n",
      "2    a9db3d4b-0a0a-4398-a55a-ebb2c7adf663  2017-03-04 10:38:00\n",
      "3    b594862a-36c5-47d5-b818-6e9512b939b3  2017-09-27 08:22:00\n",
      "4    a68a16e2-94f0-4ce8-8ce3-784af0bbb974  2017-07-26 15:48:00\n",
      "..                                    ...                  ...\n",
      "343  952be3a5-9240-484f-845c-a6b2cbed72ee  2017-05-02 05:40:00\n",
      "344  59d2b685-383a-4fce-a325-35d985713a8b  2017-01-20 03:58:00\n",
      "345  a1203970-92ae-4fc7-843e-e1740c1be9d5  2017-11-12 23:07:00\n",
      "346  55de53ae-89f6-43ff-a26d-df284678aca1  2017-03-17 19:56:00\n",
      "347  0ea4cc68-dae4-4e35-b3e0-f0889932e1b5  2017-05-12 08:53:00\n",
      "\n",
      "[348 rows x 2 columns]\n"
     ]
    }
   ],
   "execution_count": 11
  },
  {
   "metadata": {},
   "cell_type": "markdown",
   "source": [
    "<h4> \n",
    "Inspect the DataFrames using print and head </h4>\n",
    "\n",
    "`visits` lists all of the users who have visited the website\n",
    "`cart` lists all of the users who have added a t-shirt to their cart\n",
    "`checkout` lists all of the users who have started the checkout\n",
    "`purchase` lists all of the users who have purchased a t-shirt \n",
    "</h4>\n",
    "\n"
   ],
   "id": "e4b8ca1efbcbec54"
  },
  {
   "metadata": {
    "ExecuteTime": {
     "end_time": "2024-07-25T04:46:08.818004Z",
     "start_time": "2024-07-25T04:46:08.795246Z"
    }
   },
   "cell_type": "code",
   "source": [
    "print(visits)\n",
    "print(cart)\n",
    "print(checkout)\n",
    "print(purchase)"
   ],
   "id": "6f2198b0acf5e2de",
   "outputs": [
    {
     "name": "stdout",
     "output_type": "stream",
     "text": [
      "                                   user_id           visit_time\n",
      "0     943647ef-3682-4750-a2e1-918ba6f16188  2017-04-07 15:14:00\n",
      "1     0c3a3dd0-fb64-4eac-bf84-ba069ce409f2  2017-01-26 14:24:00\n",
      "2     6e0b2d60-4027-4d9a-babd-0e7d40859fb1  2017-08-20 08:23:00\n",
      "3     6879527e-c5a6-4d14-b2da-50b85212b0ab  2017-11-04 18:15:00\n",
      "4     a84327ff-5daa-4ba1-b789-d5b4caf81e96  2017-02-27 11:25:00\n",
      "...                                    ...                  ...\n",
      "1995  33913ac2-03da-45ae-8fc3-fea39df827c6  2017-03-25 03:29:00\n",
      "1996  4f850132-b99d-4623-80e6-6e61d003577e  2017-01-08 09:57:00\n",
      "1997  f0830b9b-1f5c-4e74-b63d-3f847cc6ce70  2017-09-07 12:56:00\n",
      "1998  b01bffa7-63ba-4cd3-9d93-eb1477c23831  2017-07-20 04:37:00\n",
      "1999  0336ca81-8d68-443f-9248-ac0b8ad147d5  2017-11-15 10:11:00\n",
      "\n",
      "[2000 rows x 2 columns]\n",
      "                                  user_id            cart_time\n",
      "0    2be90e7c-9cca-44e0-bcc5-124b945ff168  2017-11-07 20:45:00\n",
      "1    4397f73f-1da3-4ab3-91af-762792e25973  2017-05-27 01:35:00\n",
      "2    a9db3d4b-0a0a-4398-a55a-ebb2c7adf663  2017-03-04 10:38:00\n",
      "3    b594862a-36c5-47d5-b818-6e9512b939b3  2017-09-27 08:22:00\n",
      "4    a68a16e2-94f0-4ce8-8ce3-784af0bbb974  2017-07-26 15:48:00\n",
      "..                                    ...                  ...\n",
      "343  952be3a5-9240-484f-845c-a6b2cbed72ee  2017-05-02 05:40:00\n",
      "344  59d2b685-383a-4fce-a325-35d985713a8b  2017-01-20 03:58:00\n",
      "345  a1203970-92ae-4fc7-843e-e1740c1be9d5  2017-11-12 23:07:00\n",
      "346  55de53ae-89f6-43ff-a26d-df284678aca1  2017-03-17 19:56:00\n",
      "347  0ea4cc68-dae4-4e35-b3e0-f0889932e1b5  2017-05-12 08:53:00\n",
      "\n",
      "[348 rows x 2 columns]\n",
      "                                  user_id        checkout_time\n",
      "0    d33bdc47-4afa-45bc-b4e4-dbe948e34c0d  2017-06-25 09:29:00\n",
      "1    4ac186f0-9954-4fea-8a27-c081e428e34e  2017-04-07 20:11:00\n",
      "2    3c9c78a7-124a-4b77-8d2e-e1926e011e7d  2017-07-13 11:38:00\n",
      "3    89fe330a-8966-4756-8f7c-3bdbcd47279a  2017-04-20 16:15:00\n",
      "4    3ccdaf69-2d30-40de-b083-51372881aedd  2017-01-08 20:52:00\n",
      "..                                    ...                  ...\n",
      "355  dbdfeb12-cbb2-4c43-98a9-57fa126c19fc  2017-05-25 16:34:00\n",
      "356  21dec5fa-999a-45c5-b59b-18a1ee161379  2017-03-17 12:40:00\n",
      "357  f3dd7631-3cf6-4d49-9c6e-b48eda4432b5  2017-01-04 10:20:00\n",
      "358  ba011b1d-6cc5-4147-ae8a-1722a1f5c27c  2017-10-24 08:32:00\n",
      "359  d2cb350b-2201-4290-b2e0-84a8bf0d6883  2017-08-08 16:14:00\n",
      "\n",
      "[360 rows x 2 columns]\n",
      "                                  user_id        purchase_time\n",
      "0    4b44ace4-2721-47a0-b24b-15fbfa2abf85  2017-05-11 04:25:00\n",
      "1    02e684ae-a448-408f-a9ff-dcb4a5c99aac  2017-09-05 08:45:00\n",
      "2    4b4bc391-749e-4b90-ab8f-4f6e3c84d6dc  2017-11-20 20:49:00\n",
      "3    a5dbb25f-3c36-4103-9030-9f7c6241cd8d  2017-01-22 15:18:00\n",
      "4    46a3186d-7f5a-4ab9-87af-84d05bfd4867  2017-06-11 11:32:00\n",
      "..                                    ...                  ...\n",
      "247  278c0f3c-d092-4e7f-b97b-97cc9d57c1c2  2017-01-05 02:45:00\n",
      "248  952be3a5-9240-484f-845c-a6b2cbed72ee  2017-05-02 06:10:00\n",
      "249  27e5a297-332d-4e8b-8e2a-b97ae8c5b6f9  2017-09-04 17:39:00\n",
      "250  4b04c692-d814-45bd-854a-000e0ef4e92a  2017-06-20 17:28:00\n",
      "251  c62fdf2f-3b30-4624-8463-d3961e687997  2017-11-21 23:00:00\n",
      "\n",
      "[252 rows x 2 columns]\n"
     ]
    }
   ],
   "execution_count": 12
  }
 ],
 "metadata": {
  "kernelspec": {
   "display_name": "Python 3",
   "language": "python",
   "name": "python3"
  },
  "language_info": {
   "codemirror_mode": {
    "name": "ipython",
    "version": 2
   },
   "file_extension": ".py",
   "mimetype": "text/x-python",
   "name": "python",
   "nbconvert_exporter": "python",
   "pygments_lexer": "ipython2",
   "version": "2.7.6"
  }
 },
 "nbformat": 4,
 "nbformat_minor": 5
}
