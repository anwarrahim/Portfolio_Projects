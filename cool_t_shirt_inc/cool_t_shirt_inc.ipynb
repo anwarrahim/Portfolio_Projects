{
 "cells": [
  {
   "metadata": {},
   "cell_type": "markdown",
   "source": "# Cool T shirt Inc",
   "id": "4075d3908264276c"
  },
  {
   "metadata": {
    "ExecuteTime": {
     "end_time": "2024-07-26T03:30:46.487058Z",
     "start_time": "2024-07-26T03:30:46.479293Z"
    }
   },
   "cell_type": "code",
   "source": [
    "import pandas as pd\n",
    "import numpy as np\n",
    "import matplotlib.pyplot as plt"
   ],
   "id": "67e8f055403103d4",
   "outputs": [],
   "execution_count": 62
  },
  {
   "metadata": {
    "ExecuteTime": {
     "end_time": "2024-07-26T03:30:46.813700Z",
     "start_time": "2024-07-26T03:30:46.781312Z"
    }
   },
   "cell_type": "code",
   "source": [
    "import os\n",
    "\n",
    "file_path = 'cart.csv'\n",
    "if os.path.exists('cart.csv') and  os.path.getsize('cart.csv') > 0:\n",
    "    try:\n",
    "        cart = pd.read_csv('cart.csv')\n",
    "        print(cart)\n",
    "    except pd.errors.EmptyDataError:\n",
    "        print(\"The file is empty\")\n",
    "    except pd.errors.parserError:\n",
    "        print(\"Error parseing the file\")\n",
    "else:\n",
    "    print(\"The file does not exist or is empty\")\n",
    "        "
   ],
   "id": "28f6f4efcb1bc3df",
   "outputs": [
    {
     "name": "stdout",
     "output_type": "stream",
     "text": [
      "                                  user_id            cart_time\n",
      "0    2be90e7c-9cca-44e0-bcc5-124b945ff168  2017-11-07 20:45:00\n",
      "1    4397f73f-1da3-4ab3-91af-762792e25973  2017-05-27 01:35:00\n",
      "2    a9db3d4b-0a0a-4398-a55a-ebb2c7adf663  2017-03-04 10:38:00\n",
      "3    b594862a-36c5-47d5-b818-6e9512b939b3  2017-09-27 08:22:00\n",
      "4    a68a16e2-94f0-4ce8-8ce3-784af0bbb974  2017-07-26 15:48:00\n",
      "..                                    ...                  ...\n",
      "343  952be3a5-9240-484f-845c-a6b2cbed72ee  2017-05-02 05:40:00\n",
      "344  59d2b685-383a-4fce-a325-35d985713a8b  2017-01-20 03:58:00\n",
      "345  a1203970-92ae-4fc7-843e-e1740c1be9d5  2017-11-12 23:07:00\n",
      "346  55de53ae-89f6-43ff-a26d-df284678aca1  2017-03-17 19:56:00\n",
      "347  0ea4cc68-dae4-4e35-b3e0-f0889932e1b5  2017-05-12 08:53:00\n",
      "\n",
      "[348 rows x 2 columns]\n"
     ]
    }
   ],
   "execution_count": 63
  },
  {
   "metadata": {},
   "cell_type": "markdown",
   "source": "## import csv data",
   "id": "99a9b42a9ed9253c"
  },
  {
   "metadata": {
    "ExecuteTime": {
     "end_time": "2024-07-26T03:30:46.852933Z",
     "start_time": "2024-07-26T03:30:46.826146Z"
    }
   },
   "cell_type": "code",
   "source": [
    "cart = pd.read_csv('cart.csv')\n",
    "checkout = pd.read_csv('checkout.csv')\n",
    "purchase = pd.read_csv('purchase.csv')\n",
    "visits = pd.read_csv('visits.csv')"
   ],
   "id": "c7656c7443de89c1",
   "outputs": [],
   "execution_count": 64
  },
  {
   "metadata": {
    "ExecuteTime": {
     "end_time": "2024-07-26T03:30:46.923331Z",
     "start_time": "2024-07-26T03:30:46.909116Z"
    }
   },
   "cell_type": "code",
   "source": "",
   "id": "48a2aee4599be6f",
   "outputs": [],
   "execution_count": 64
  },
  {
   "metadata": {},
   "cell_type": "markdown",
   "source": [
    "<h4> \n",
    "Inspect the DataFrames using print and head </h4>\n",
    "\n",
    "`visits` lists all of the users who have visited the website\n",
    "`cart` lists all of the users who have added a t-shirt to their cart\n",
    "`checkout` lists all of the users who have started the checkout\n",
    "`purchase` lists all of the users who have purchased a t-shirt \n",
    "</h4>\n",
    "\n"
   ],
   "id": "e4b8ca1efbcbec54"
  },
  {
   "metadata": {
    "ExecuteTime": {
     "end_time": "2024-07-26T03:30:46.956123Z",
     "start_time": "2024-07-26T03:30:46.939434Z"
    }
   },
   "cell_type": "code",
   "source": "print(visits)",
   "id": "6f2198b0acf5e2de",
   "outputs": [
    {
     "name": "stdout",
     "output_type": "stream",
     "text": [
      "                                   user_id           visit_time\n",
      "0     943647ef-3682-4750-a2e1-918ba6f16188  2017-04-07 15:14:00\n",
      "1     0c3a3dd0-fb64-4eac-bf84-ba069ce409f2  2017-01-26 14:24:00\n",
      "2     6e0b2d60-4027-4d9a-babd-0e7d40859fb1  2017-08-20 08:23:00\n",
      "3     6879527e-c5a6-4d14-b2da-50b85212b0ab  2017-11-04 18:15:00\n",
      "4     a84327ff-5daa-4ba1-b789-d5b4caf81e96  2017-02-27 11:25:00\n",
      "...                                    ...                  ...\n",
      "1995  33913ac2-03da-45ae-8fc3-fea39df827c6  2017-03-25 03:29:00\n",
      "1996  4f850132-b99d-4623-80e6-6e61d003577e  2017-01-08 09:57:00\n",
      "1997  f0830b9b-1f5c-4e74-b63d-3f847cc6ce70  2017-09-07 12:56:00\n",
      "1998  b01bffa7-63ba-4cd3-9d93-eb1477c23831  2017-07-20 04:37:00\n",
      "1999  0336ca81-8d68-443f-9248-ac0b8ad147d5  2017-11-15 10:11:00\n",
      "\n",
      "[2000 rows x 2 columns]\n"
     ]
    }
   ],
   "execution_count": 65
  },
  {
   "metadata": {
    "ExecuteTime": {
     "end_time": "2024-07-26T03:30:47.058703Z",
     "start_time": "2024-07-26T03:30:47.046499Z"
    }
   },
   "cell_type": "code",
   "source": "print(cart)",
   "id": "3d5ed05b64f57848",
   "outputs": [
    {
     "name": "stdout",
     "output_type": "stream",
     "text": [
      "                                  user_id            cart_time\n",
      "0    2be90e7c-9cca-44e0-bcc5-124b945ff168  2017-11-07 20:45:00\n",
      "1    4397f73f-1da3-4ab3-91af-762792e25973  2017-05-27 01:35:00\n",
      "2    a9db3d4b-0a0a-4398-a55a-ebb2c7adf663  2017-03-04 10:38:00\n",
      "3    b594862a-36c5-47d5-b818-6e9512b939b3  2017-09-27 08:22:00\n",
      "4    a68a16e2-94f0-4ce8-8ce3-784af0bbb974  2017-07-26 15:48:00\n",
      "..                                    ...                  ...\n",
      "343  952be3a5-9240-484f-845c-a6b2cbed72ee  2017-05-02 05:40:00\n",
      "344  59d2b685-383a-4fce-a325-35d985713a8b  2017-01-20 03:58:00\n",
      "345  a1203970-92ae-4fc7-843e-e1740c1be9d5  2017-11-12 23:07:00\n",
      "346  55de53ae-89f6-43ff-a26d-df284678aca1  2017-03-17 19:56:00\n",
      "347  0ea4cc68-dae4-4e35-b3e0-f0889932e1b5  2017-05-12 08:53:00\n",
      "\n",
      "[348 rows x 2 columns]\n"
     ]
    }
   ],
   "execution_count": 66
  },
  {
   "metadata": {
    "ExecuteTime": {
     "end_time": "2024-07-26T03:30:47.133850Z",
     "start_time": "2024-07-26T03:30:47.120512Z"
    }
   },
   "cell_type": "code",
   "source": "print(checkout)",
   "id": "34b868ef1d744591",
   "outputs": [
    {
     "name": "stdout",
     "output_type": "stream",
     "text": [
      "                                  user_id        checkout_time\n",
      "0    d33bdc47-4afa-45bc-b4e4-dbe948e34c0d  2017-06-25 09:29:00\n",
      "1    4ac186f0-9954-4fea-8a27-c081e428e34e  2017-04-07 20:11:00\n",
      "2    3c9c78a7-124a-4b77-8d2e-e1926e011e7d  2017-07-13 11:38:00\n",
      "3    89fe330a-8966-4756-8f7c-3bdbcd47279a  2017-04-20 16:15:00\n",
      "4    3ccdaf69-2d30-40de-b083-51372881aedd  2017-01-08 20:52:00\n",
      "..                                    ...                  ...\n",
      "355  dbdfeb12-cbb2-4c43-98a9-57fa126c19fc  2017-05-25 16:34:00\n",
      "356  21dec5fa-999a-45c5-b59b-18a1ee161379  2017-03-17 12:40:00\n",
      "357  f3dd7631-3cf6-4d49-9c6e-b48eda4432b5  2017-01-04 10:20:00\n",
      "358  ba011b1d-6cc5-4147-ae8a-1722a1f5c27c  2017-10-24 08:32:00\n",
      "359  d2cb350b-2201-4290-b2e0-84a8bf0d6883  2017-08-08 16:14:00\n",
      "\n",
      "[360 rows x 2 columns]\n"
     ]
    }
   ],
   "execution_count": 67
  },
  {
   "metadata": {
    "ExecuteTime": {
     "end_time": "2024-07-26T03:30:47.266923Z",
     "start_time": "2024-07-26T03:30:47.241Z"
    }
   },
   "cell_type": "code",
   "source": "print(purchase)",
   "id": "fc662c62bc43ec5f",
   "outputs": [
    {
     "name": "stdout",
     "output_type": "stream",
     "text": [
      "                                  user_id        purchase_time\n",
      "0    4b44ace4-2721-47a0-b24b-15fbfa2abf85  2017-05-11 04:25:00\n",
      "1    02e684ae-a448-408f-a9ff-dcb4a5c99aac  2017-09-05 08:45:00\n",
      "2    4b4bc391-749e-4b90-ab8f-4f6e3c84d6dc  2017-11-20 20:49:00\n",
      "3    a5dbb25f-3c36-4103-9030-9f7c6241cd8d  2017-01-22 15:18:00\n",
      "4    46a3186d-7f5a-4ab9-87af-84d05bfd4867  2017-06-11 11:32:00\n",
      "..                                    ...                  ...\n",
      "247  278c0f3c-d092-4e7f-b97b-97cc9d57c1c2  2017-01-05 02:45:00\n",
      "248  952be3a5-9240-484f-845c-a6b2cbed72ee  2017-05-02 06:10:00\n",
      "249  27e5a297-332d-4e8b-8e2a-b97ae8c5b6f9  2017-09-04 17:39:00\n",
      "250  4b04c692-d814-45bd-854a-000e0ef4e92a  2017-06-20 17:28:00\n",
      "251  c62fdf2f-3b30-4624-8463-d3961e687997  2017-11-21 23:00:00\n",
      "\n",
      "[252 rows x 2 columns]\n"
     ]
    }
   ],
   "execution_count": 68
  },
  {
   "metadata": {},
   "cell_type": "markdown",
   "source": [
    "\n",
    "#### Combine `visits` and `cart` using a left merge. ###"
   ],
   "id": "a2385be773051489"
  },
  {
   "metadata": {
    "ExecuteTime": {
     "end_time": "2024-07-26T03:30:47.318921Z",
     "start_time": "2024-07-26T03:30:47.300859Z"
    }
   },
   "cell_type": "code",
   "source": "visits_cart_left_merge = pd.merge(visits, cart, how='left')",
   "id": "3921f6df2a27dc3b",
   "outputs": [],
   "execution_count": 69
  },
  {
   "metadata": {
    "ExecuteTime": {
     "end_time": "2024-07-26T03:30:47.532841Z",
     "start_time": "2024-07-26T03:30:47.517217Z"
    }
   },
   "cell_type": "code",
   "source": "print(visits_cart_left_merge)",
   "id": "cb961d3b1ebc031c",
   "outputs": [
    {
     "name": "stdout",
     "output_type": "stream",
     "text": [
      "                                   user_id           visit_time  \\\n",
      "0     943647ef-3682-4750-a2e1-918ba6f16188  2017-04-07 15:14:00   \n",
      "1     0c3a3dd0-fb64-4eac-bf84-ba069ce409f2  2017-01-26 14:24:00   \n",
      "2     6e0b2d60-4027-4d9a-babd-0e7d40859fb1  2017-08-20 08:23:00   \n",
      "3     6879527e-c5a6-4d14-b2da-50b85212b0ab  2017-11-04 18:15:00   \n",
      "4     a84327ff-5daa-4ba1-b789-d5b4caf81e96  2017-02-27 11:25:00   \n",
      "...                                    ...                  ...   \n",
      "1995  33913ac2-03da-45ae-8fc3-fea39df827c6  2017-03-25 03:29:00   \n",
      "1996  4f850132-b99d-4623-80e6-6e61d003577e  2017-01-08 09:57:00   \n",
      "1997  f0830b9b-1f5c-4e74-b63d-3f847cc6ce70  2017-09-07 12:56:00   \n",
      "1998  b01bffa7-63ba-4cd3-9d93-eb1477c23831  2017-07-20 04:37:00   \n",
      "1999  0336ca81-8d68-443f-9248-ac0b8ad147d5  2017-11-15 10:11:00   \n",
      "\n",
      "                cart_time  \n",
      "0                     NaN  \n",
      "1     2017-01-26 14:44:00  \n",
      "2     2017-08-20 08:31:00  \n",
      "3                     NaN  \n",
      "4                     NaN  \n",
      "...                   ...  \n",
      "1995                  NaN  \n",
      "1996                  NaN  \n",
      "1997                  NaN  \n",
      "1998                  NaN  \n",
      "1999                  NaN  \n",
      "\n",
      "[2000 rows x 3 columns]\n"
     ]
    }
   ],
   "execution_count": 70
  },
  {
   "metadata": {
    "ExecuteTime": {
     "end_time": "2024-07-26T03:30:47.564398Z",
     "start_time": "2024-07-26T03:30:47.549449Z"
    }
   },
   "cell_type": "code",
   "source": [
    "# 3\n",
    "lenth_of_df = len(visits_cart_left_merge)\n",
    "print(lenth_of_df)"
   ],
   "id": "60b490a6f7022fde",
   "outputs": [
    {
     "name": "stdout",
     "output_type": "stream",
     "text": [
      "2000\n"
     ]
    }
   ],
   "execution_count": 71
  },
  {
   "metadata": {
    "ExecuteTime": {
     "end_time": "2024-07-26T03:30:47.639457Z",
     "start_time": "2024-07-26T03:30:47.626816Z"
    }
   },
   "cell_type": "code",
   "source": [
    "# 4\n",
    "null_values = visits_cart_left_merge.cart_time.isna().sum()"
   ],
   "id": "33b484ac3ec129e",
   "outputs": [],
   "execution_count": 72
  },
  {
   "metadata": {
    "ExecuteTime": {
     "end_time": "2024-07-26T03:30:47.679549Z",
     "start_time": "2024-07-26T03:30:47.672044Z"
    }
   },
   "cell_type": "code",
   "source": "print(null_values)",
   "id": "3288fcd419c88ab9",
   "outputs": [
    {
     "name": "stdout",
     "output_type": "stream",
     "text": [
      "1652\n"
     ]
    }
   ],
   "execution_count": 73
  },
  {
   "metadata": {
    "ExecuteTime": {
     "end_time": "2024-07-26T03:30:47.751180Z",
     "start_time": "2024-07-26T03:30:47.732303Z"
    }
   },
   "cell_type": "code",
   "source": [
    "# 5\n",
    "percent_visited_cool_T_shirt_inc = (null_values / lenth_of_df) * 100"
   ],
   "id": "917c7ca132e0a25d",
   "outputs": [],
   "execution_count": 74
  },
  {
   "metadata": {
    "ExecuteTime": {
     "end_time": "2024-07-26T03:30:47.808703Z",
     "start_time": "2024-07-26T03:30:47.792992Z"
    }
   },
   "cell_type": "code",
   "source": "print(percent_visited_cool_T_shirt_inc)",
   "id": "a66d542c80692711",
   "outputs": [
    {
     "name": "stdout",
     "output_type": "stream",
     "text": [
      "82.6\n"
     ]
    }
   ],
   "execution_count": 75
  },
  {
   "metadata": {
    "ExecuteTime": {
     "end_time": "2024-07-26T03:30:47.874891Z",
     "start_time": "2024-07-26T03:30:47.853348Z"
    }
   },
   "cell_type": "code",
   "source": [
    "# 6\n",
    "checkout_cart_merge = pd.merge(cart, checkout, how='left')"
   ],
   "id": "938e7912f7214ca",
   "outputs": [],
   "execution_count": 76
  },
  {
   "metadata": {
    "ExecuteTime": {
     "end_time": "2024-07-26T03:30:47.970382Z",
     "start_time": "2024-07-26T03:30:47.950557Z"
    }
   },
   "cell_type": "code",
   "source": "print(checkout_cart_merge)",
   "id": "d3b084d7f125eecc",
   "outputs": [
    {
     "name": "stdout",
     "output_type": "stream",
     "text": [
      "                                  user_id            cart_time  \\\n",
      "0    2be90e7c-9cca-44e0-bcc5-124b945ff168  2017-11-07 20:45:00   \n",
      "1    2be90e7c-9cca-44e0-bcc5-124b945ff168  2017-11-07 20:45:00   \n",
      "2    2be90e7c-9cca-44e0-bcc5-124b945ff168  2017-11-07 20:45:00   \n",
      "3    4397f73f-1da3-4ab3-91af-762792e25973  2017-05-27 01:35:00   \n",
      "4    a9db3d4b-0a0a-4398-a55a-ebb2c7adf663  2017-03-04 10:38:00   \n",
      "..                                    ...                  ...   \n",
      "477  59d2b685-383a-4fce-a325-35d985713a8b  2017-01-20 03:58:00   \n",
      "478  a1203970-92ae-4fc7-843e-e1740c1be9d5  2017-11-12 23:07:00   \n",
      "479  55de53ae-89f6-43ff-a26d-df284678aca1  2017-03-17 19:56:00   \n",
      "480  0ea4cc68-dae4-4e35-b3e0-f0889932e1b5  2017-05-12 08:53:00   \n",
      "481  0ea4cc68-dae4-4e35-b3e0-f0889932e1b5  2017-05-12 08:53:00   \n",
      "\n",
      "           checkout_time  \n",
      "0    2017-11-07 21:14:00  \n",
      "1    2017-11-07 20:50:00  \n",
      "2    2017-11-07 21:11:00  \n",
      "3                    NaN  \n",
      "4    2017-03-04 11:04:00  \n",
      "..                   ...  \n",
      "477                  NaN  \n",
      "478                  NaN  \n",
      "479  2017-03-17 20:04:00  \n",
      "480  2017-05-12 08:57:00  \n",
      "481  2017-05-12 09:20:00  \n",
      "\n",
      "[482 rows x 3 columns]\n"
     ]
    }
   ],
   "execution_count": 77
  },
  {
   "metadata": {
    "ExecuteTime": {
     "end_time": "2024-07-26T03:30:48.082462Z",
     "start_time": "2024-07-26T03:30:48.071078Z"
    }
   },
   "cell_type": "code",
   "source": [
    "\n",
    "lenth_of_df_checkout_cart = len(checkout_cart_merge)"
   ],
   "id": "c368affa079ba982",
   "outputs": [],
   "execution_count": 78
  },
  {
   "metadata": {
    "ExecuteTime": {
     "end_time": "2024-07-26T03:30:48.137657Z",
     "start_time": "2024-07-26T03:30:48.125273Z"
    }
   },
   "cell_type": "code",
   "source": "print(lenth_of_df_checkout_cart)",
   "id": "10a572811e5bf9f2",
   "outputs": [
    {
     "name": "stdout",
     "output_type": "stream",
     "text": [
      "482\n"
     ]
    }
   ],
   "execution_count": 79
  },
  {
   "metadata": {
    "ExecuteTime": {
     "end_time": "2024-07-26T03:30:48.223762Z",
     "start_time": "2024-07-26T03:30:48.201131Z"
    }
   },
   "cell_type": "code",
   "source": "null_values_checkout = checkout_cart_merge.checkout_time.isna().sum()",
   "id": "5f3e8b6a82e0d760",
   "outputs": [],
   "execution_count": 80
  },
  {
   "metadata": {
    "ExecuteTime": {
     "end_time": "2024-07-26T03:30:48.276890Z",
     "start_time": "2024-07-26T03:30:48.263209Z"
    }
   },
   "cell_type": "code",
   "source": "print(null_values_checkout)",
   "id": "3b21dd7aa62b6817",
   "outputs": [
    {
     "name": "stdout",
     "output_type": "stream",
     "text": [
      "122\n"
     ]
    }
   ],
   "execution_count": 81
  },
  {
   "metadata": {
    "ExecuteTime": {
     "end_time": "2024-07-26T03:30:48.358648Z",
     "start_time": "2024-07-26T03:30:48.336532Z"
    }
   },
   "cell_type": "code",
   "source": [
    "#calculate percentage\n",
    "percent_checkout = (null_values_checkout / lenth_of_df_checkout_cart)* 100"
   ],
   "id": "d3d4921a42f9424a",
   "outputs": [],
   "execution_count": 82
  },
  {
   "metadata": {
    "ExecuteTime": {
     "end_time": "2024-07-26T03:30:48.422885Z",
     "start_time": "2024-07-26T03:30:48.411706Z"
    }
   },
   "cell_type": "code",
   "source": "print(percent_checkout)",
   "id": "abf013adeeaac8af",
   "outputs": [
    {
     "name": "stdout",
     "output_type": "stream",
     "text": [
      "25.311203319502074\n"
     ]
    }
   ],
   "execution_count": 83
  },
  {
   "metadata": {
    "ExecuteTime": {
     "end_time": "2024-07-26T03:32:36.291419Z",
     "start_time": "2024-07-26T03:32:36.273300Z"
    }
   },
   "cell_type": "code",
   "source": [
    "# 7\n",
    "all_data = visits.merge(cart, how='left').merge(checkout, how='left').merge(purchase, how='left')"
   ],
   "id": "ecfd22de6a333fa4",
   "outputs": [],
   "execution_count": 98
  },
  {
   "metadata": {
    "ExecuteTime": {
     "end_time": "2024-07-26T03:32:36.670073Z",
     "start_time": "2024-07-26T03:32:36.660767Z"
    }
   },
   "cell_type": "code",
   "source": "print(all_data)",
   "id": "77d93e8ceafeabe7",
   "outputs": [
    {
     "name": "stdout",
     "output_type": "stream",
     "text": [
      "                                   user_id           visit_time  \\\n",
      "0     943647ef-3682-4750-a2e1-918ba6f16188  2017-04-07 15:14:00   \n",
      "1     0c3a3dd0-fb64-4eac-bf84-ba069ce409f2  2017-01-26 14:24:00   \n",
      "2     6e0b2d60-4027-4d9a-babd-0e7d40859fb1  2017-08-20 08:23:00   \n",
      "3     6879527e-c5a6-4d14-b2da-50b85212b0ab  2017-11-04 18:15:00   \n",
      "4     a84327ff-5daa-4ba1-b789-d5b4caf81e96  2017-02-27 11:25:00   \n",
      "...                                    ...                  ...   \n",
      "2367  33913ac2-03da-45ae-8fc3-fea39df827c6  2017-03-25 03:29:00   \n",
      "2368  4f850132-b99d-4623-80e6-6e61d003577e  2017-01-08 09:57:00   \n",
      "2369  f0830b9b-1f5c-4e74-b63d-3f847cc6ce70  2017-09-07 12:56:00   \n",
      "2370  b01bffa7-63ba-4cd3-9d93-eb1477c23831  2017-07-20 04:37:00   \n",
      "2371  0336ca81-8d68-443f-9248-ac0b8ad147d5  2017-11-15 10:11:00   \n",
      "\n",
      "                cart_time        checkout_time        purchase_time  \n",
      "0                     NaN                  NaN                  NaN  \n",
      "1     2017-01-26 14:44:00  2017-01-26 14:54:00  2017-01-26 15:08:00  \n",
      "2     2017-08-20 08:31:00                  NaN                  NaN  \n",
      "3                     NaN                  NaN                  NaN  \n",
      "4                     NaN                  NaN                  NaN  \n",
      "...                   ...                  ...                  ...  \n",
      "2367                  NaN                  NaN                  NaN  \n",
      "2368                  NaN                  NaN                  NaN  \n",
      "2369                  NaN                  NaN                  NaN  \n",
      "2370                  NaN                  NaN                  NaN  \n",
      "2371                  NaN                  NaN                  NaN  \n",
      "\n",
      "[2372 rows x 5 columns]\n"
     ]
    }
   ],
   "execution_count": 99
  },
  {
   "metadata": {
    "ExecuteTime": {
     "end_time": "2024-07-26T03:32:37.033389Z",
     "start_time": "2024-07-26T03:32:37.023798Z"
    }
   },
   "cell_type": "code",
   "source": [
    "\n",
    "len_of_purchase_time = all_data['purchase_time'].count()\n",
    "len_of_checkout_time = all_data['checkout_time'].count()"
   ],
   "id": "6d55f4e09d73b7cd",
   "outputs": [],
   "execution_count": 100
  },
  {
   "metadata": {
    "ExecuteTime": {
     "end_time": "2024-07-26T03:32:37.619961Z",
     "start_time": "2024-07-26T03:32:37.611227Z"
    }
   },
   "cell_type": "code",
   "source": [
    "print(f\" length of purchase time values {len_of_purchase_time}\")\n",
    "print(f\" length of checkout time values {len_of_checkout_time}\")"
   ],
   "id": "dff4af875b4dcfa0",
   "outputs": [
    {
     "name": "stdout",
     "output_type": "stream",
     "text": [
      " length of purchase time values 497\n",
      " length of checkout time values 598\n"
     ]
    }
   ],
   "execution_count": 101
  },
  {
   "metadata": {
    "ExecuteTime": {
     "end_time": "2024-07-26T03:35:56.294949Z",
     "start_time": "2024-07-26T03:35:56.289598Z"
    }
   },
   "cell_type": "code",
   "source": "percent_purchase_checkout = (len_of_purchase_time/len_of_checkout_time)*100",
   "id": "9a0a70519e7de303",
   "outputs": [],
   "execution_count": 103
  },
  {
   "metadata": {
    "ExecuteTime": {
     "end_time": "2024-07-26T03:35:56.772196Z",
     "start_time": "2024-07-26T03:35:56.753837Z"
    }
   },
   "cell_type": "code",
   "source": "print(percent_purchase_checkout)\n",
   "id": "3bc049d85d135033",
   "outputs": [
    {
     "name": "stdout",
     "output_type": "stream",
     "text": [
      "83.11036789297658\n"
     ]
    }
   ],
   "execution_count": 104
  }
 ],
 "metadata": {
  "kernelspec": {
   "display_name": "Python 3",
   "language": "python",
   "name": "python3"
  },
  "language_info": {
   "codemirror_mode": {
    "name": "ipython",
    "version": 2
   },
   "file_extension": ".py",
   "mimetype": "text/x-python",
   "name": "python",
   "nbconvert_exporter": "python",
   "pygments_lexer": "ipython2",
   "version": "2.7.6"
  }
 },
 "nbformat": 4,
 "nbformat_minor": 5
}
