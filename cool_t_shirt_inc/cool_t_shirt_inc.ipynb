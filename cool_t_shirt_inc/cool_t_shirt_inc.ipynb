{
 "cells": [
  {
   "metadata": {},
   "cell_type": "markdown",
   "source": "# Cool T shirt Inc",
   "id": "4075d3908264276c"
  },
  {
   "metadata": {},
   "cell_type": "code",
   "source": [
    "import pandas as pd\n",
    "import numpy as np\n",
    "import matplotlib.pyplot as plt"
   ],
   "id": "67e8f055403103d4",
   "outputs": [],
   "execution_count": null
  },
  {
   "metadata": {},
   "cell_type": "markdown",
   "source": "## import csv data",
   "id": "99a9b42a9ed9253c"
  },
  {
   "metadata": {},
   "cell_type": "code",
   "source": [
    "cart = pd.read_csv('cart.csv')\n",
    "checkout = pd.read_csv('checkout.csv')\n",
    "purchase = pd.read_csv('purchase.csv')\n",
    "visits = pd.read_csv('visits.csv')"
   ],
   "id": "c7656c7443de89c1",
   "outputs": [],
   "execution_count": null
  },
  {
   "metadata": {},
   "cell_type": "code",
   "source": "print(cart)",
   "id": "48a2aee4599be6f",
   "outputs": [],
   "execution_count": null
  }
 ],
 "metadata": {
  "kernelspec": {
   "display_name": "Python 3",
   "language": "python",
   "name": "python3"
  },
  "language_info": {
   "codemirror_mode": {
    "name": "ipython",
    "version": 2
   },
   "file_extension": ".py",
   "mimetype": "text/x-python",
   "name": "python",
   "nbconvert_exporter": "python",
   "pygments_lexer": "ipython2",
   "version": "2.7.6"
  }
 },
 "nbformat": 4,
 "nbformat_minor": 5
}
