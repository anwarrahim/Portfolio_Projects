{
 "cells": [
  {
   "metadata": {},
   "cell_type": "markdown",
   "source": "Add liberaries ",
   "id": "dd732c4f4d6627fe"
  },
  {
   "metadata": {
    "ExecuteTime": {
     "end_time": "2024-06-29T11:42:22.689380Z",
     "start_time": "2024-06-29T11:42:22.256462Z"
    }
   },
   "cell_type": "code",
   "source": [
    "import numpy as np\n",
    "import panda as pd\n",
    "import matplotlib.pyplot as plt\n"
   ],
   "id": "34e8536868556c71",
   "outputs": [
    {
     "ename": "ModuleNotFoundError",
     "evalue": "No module named 'numpy'",
     "output_type": "error",
     "traceback": [
      "\u001B[1;31m---------------------------------------------------------------------------\u001B[0m",
      "\u001B[1;31mModuleNotFoundError\u001B[0m                       Traceback (most recent call last)",
      "Cell \u001B[1;32mIn[1], line 1\u001B[0m\n\u001B[1;32m----> 1\u001B[0m \u001B[38;5;28;01mimport\u001B[39;00m \u001B[38;5;21;01mnumpy\u001B[39;00m \u001B[38;5;28;01mas\u001B[39;00m \u001B[38;5;21;01mnp\u001B[39;00m\n\u001B[0;32m      2\u001B[0m \u001B[38;5;28;01mimport\u001B[39;00m \u001B[38;5;21;01mpanda\u001B[39;00m \u001B[38;5;28;01mas\u001B[39;00m \u001B[38;5;21;01mpd\u001B[39;00m\n\u001B[0;32m      3\u001B[0m \u001B[38;5;28;01mimport\u001B[39;00m \u001B[38;5;21;01mmatplotlib\u001B[39;00m\u001B[38;5;21;01m.\u001B[39;00m\u001B[38;5;21;01mpyplot\u001B[39;00m \u001B[38;5;28;01mas\u001B[39;00m \u001B[38;5;21;01mplt\u001B[39;00m\n",
      "\u001B[1;31mModuleNotFoundError\u001B[0m: No module named 'numpy'"
     ]
    }
   ],
   "execution_count": 1
  },
  {
   "metadata": {},
   "cell_type": "markdown",
   "source": "",
   "id": "d0f6264e788f6a0d"
  },
  {
   "metadata": {},
   "cell_type": "code",
   "source": [
    "# x-train is the input variable\n",
    "# y-train is the output variable which we want to predict.\n",
    "x-train = np.array([1., 2.])\n",
    "y-train = np.array([300., 500.])\n",
    "print(x-train)\n",
    "print(y-train)"
   ],
   "id": "4509ec43b1783e11",
   "outputs": [],
   "execution_count": null
  }
 ],
 "metadata": {
  "kernelspec": {
   "display_name": "Python 3",
   "language": "python",
   "name": "python3"
  },
  "language_info": {
   "codemirror_mode": {
    "name": "ipython",
    "version": 2
   },
   "file_extension": ".py",
   "mimetype": "text/x-python",
   "name": "python",
   "nbconvert_exporter": "python",
   "pygments_lexer": "ipython2",
   "version": "2.7.6"
  }
 },
 "nbformat": 4,
 "nbformat_minor": 5
}
