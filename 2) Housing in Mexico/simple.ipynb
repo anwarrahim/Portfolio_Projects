{
 "cells": [
  {
   "cell_type": "markdown",
   "id": "dd732c4f4d6627fe",
   "metadata": {},
   "source": [
    "Add liberaries "
   ]
  },
  {
   "cell_type": "code",
   "id": "34e8536868556c71",
   "metadata": {
    "ExecuteTime": {
     "end_time": "2024-07-08T15:39:12.246291Z",
     "start_time": "2024-07-08T15:39:10.534356Z"
    }
   },
   "source": [
    "import numpy as np\n",
    "import pandas as pd\n",
    "import matplotlib.pyplot as plt"
   ],
   "outputs": [],
   "execution_count": 1
  },
  {
   "cell_type": "markdown",
   "id": "d0f6264e788f6a0d",
   "metadata": {},
   "source": []
  },
  {
   "metadata": {
    "ExecuteTime": {
     "end_time": "2024-07-02T06:26:57.945102Z",
     "start_time": "2024-07-02T06:26:57.929377Z"
    }
   },
   "cell_type": "code",
   "source": [
    "# x-train is the input variable\n",
    "# y-train is the output variable which we want to predict.\n",
    "x_train = np.array([1., 2.])\n",
    "y_train = np.array([300., 500.])\n",
    "print(f\" This is the x {x_train}\")\n",
    "print(y_train)"
   ],
   "id": "4509ec43b1783e11",
   "outputs": [
    {
     "name": "stdout",
     "output_type": "stream",
     "text": [
      " This is the x [1. 2.]\n",
      "[300. 500.]\n"
     ]
    }
   ],
   "execution_count": 2
  },
  {
   "metadata": {},
   "cell_type": "markdown",
   "source": "",
   "id": "35729e5b0798ca34"
  },
  {
   "metadata": {},
   "cell_type": "markdown",
   "source": "#",
   "id": "1af74e8108492f1c"
  },
  {
   "metadata": {
    "ExecuteTime": {
     "end_time": "2024-07-02T06:26:57.963011Z",
     "start_time": "2024-07-02T06:26:57.948112Z"
    }
   },
   "cell_type": "code",
   "source": [
    "m = x_train.shape[0]\n",
    "print(f\" Number of training example is {m}\")"
   ],
   "id": "412b201044516fb4",
   "outputs": [
    {
     "name": "stdout",
     "output_type": "stream",
     "text": [
      " Number of training example is 2\n"
     ]
    }
   ],
   "execution_count": 3
  },
  {
   "metadata": {
    "ExecuteTime": {
     "end_time": "2024-07-02T06:26:57.976979Z",
     "start_time": "2024-07-02T06:26:57.966020Z"
    }
   },
   "cell_type": "code",
   "source": "m = len(x_train)",
   "id": "432dcdbda974f36a",
   "outputs": [],
   "execution_count": 4
  },
  {
   "metadata": {
    "ExecuteTime": {
     "end_time": "2024-07-02T06:26:57.997960Z",
     "start_time": "2024-07-02T06:26:57.979990Z"
    }
   },
   "cell_type": "code",
   "source": "print(f\" Number of training example is {m}\")",
   "id": "bf0f2b47abbfb4bb",
   "outputs": [
    {
     "name": "stdout",
     "output_type": "stream",
     "text": [
      " Number of training example is 2\n"
     ]
    }
   ],
   "execution_count": 5
  },
  {
   "metadata": {
    "ExecuteTime": {
     "end_time": "2024-07-02T06:26:58.012907Z",
     "start_time": "2024-07-02T06:26:58.000976Z"
    }
   },
   "cell_type": "code",
   "source": [
    "i= 0\n",
    "x_i = x_train[i]\n",
    "y_i = y_train[i]\n",
    "print({x_i, y_i})"
   ],
   "id": "6e0a7d8a32fa4246",
   "outputs": [
    {
     "name": "stdout",
     "output_type": "stream",
     "text": [
      "{1.0, 300.0}\n"
     ]
    }
   ],
   "execution_count": 6
  },
  {
   "metadata": {},
   "cell_type": "markdown",
   "source": [
    "# Ploting the data\n",
    "we can use scatter() function to plot the data which in matplotlib library. and its arguments which is x_train and y_train."
   ],
   "id": "73980154b70bbd31"
  },
  {
   "metadata": {
    "ExecuteTime": {
     "end_time": "2024-07-02T06:26:58.495570Z",
     "start_time": "2024-07-02T06:26:58.014919Z"
    }
   },
   "cell_type": "code",
   "source": [
    "plt.scatter(x_train, y_train, marker= 'x', color= 'r')\n",
    "# set the title\n",
    "plt.title('Housing prices prediction')\n",
    "# set the x-axis label\n",
    "plt.xlabel('Size of the house')\n",
    "# set the y-axis label\n",
    "plt.ylabel('Price of the house')\n",
    "plt.show()"
   ],
   "id": "3045c8ea029748df",
   "outputs": [
    {
     "data": {
      "text/plain": [
       "<Figure size 640x480 with 1 Axes>"
      ],
      "image/png": "[encoded data removed]"
     },
     "metadata": {},
     "output_type": "display_data"
    }
   ],
   "execution_count": 7
  },
  {
   "metadata": {},
   "cell_type": "markdown",
   "source": "# Model function",
   "id": "e01dd4ee7d989c2f"
  },
  {
   "metadata": {
    "ExecuteTime": {
     "end_time": "2024-07-02T06:32:59.792086Z",
     "start_time": "2024-07-02T06:32:59.786531Z"
    }
   },
   "cell_type": "code",
   "source": [
    "w = 100\n",
    "b = 100\n",
    "print(f\" The value of w is {w} and b is {b}\")"
   ],
   "id": "fac0750f43976f86",
   "outputs": [
    {
     "name": "stdout",
     "output_type": "stream",
     "text": [
      " The value of w is 100 and b is 100\n"
     ]
    }
   ],
   "execution_count": 8
  },
  {
   "metadata": {
    "ExecuteTime": {
     "end_time": "2024-07-02T08:09:50.987895Z",
     "start_time": "2024-07-02T08:09:50.982746Z"
    }
   },
   "cell_type": "code",
   "source": [
    "def compute_model_output(x, w, b):\n",
    "    \"\"\"\n",
    "    Computes the prediction of a linear model\n",
    "    Args:\n",
    "      x (ndarray (m,)): Data, m examples \n",
    "      w,b (scalar)    : model parameters  \n",
    "    Returns\n",
    "      f_wb (ndarray (m,)): model prediction\n",
    "    \"\"\"\n",
    "    m = x.shape[0]\n",
    "    \n",
    "    # The line f_wb = np.zeros(m) is creating a new numpy array filled with zeros.The size of the array is m\n",
    "    f_wb = np.zeros(m)\n",
    "    for i in range(m):\n",
    "        f_wb[i] = w * x[i] + b\n",
    "        \n",
    "    return f_wb"
   ],
   "id": "57fb3507c84481ed",
   "outputs": [],
   "execution_count": 29
  },
  {
   "metadata": {
    "ExecuteTime": {
     "end_time": "2024-07-02T07:57:51.218387Z",
     "start_time": "2024-07-02T07:57:50.989044Z"
    }
   },
   "cell_type": "code",
   "source": [
    "tmp_f_wb = compute_model_output(x_train, w, b,)\n",
    "\n",
    "# Plot our model prediction\n",
    "plt.plot(x_train, tmp_f_wb, c='b',label='Our Prediction')\n",
    "\n",
    "# Plot the data points\n",
    "plt.scatter(x_train, y_train, marker='x', c='r',label='Actual Values')\n",
    "\n",
    "# Set the title\n",
    "plt.title(\"Housing Prices\")\n",
    "# Set the y-axis label\n",
    "plt.ylabel('Price (in 1000s of dollars)')\n",
    "# Set the x-axis label\n",
    "plt.xlabel('Size (1000 sqft)')\n",
    "plt.legend()\n",
    "plt.show()"
   ],
   "id": "80757e596fd6d72",
   "outputs": [
    {
     "data": {
      "text/plain": [
       "<Figure size 640x480 with 1 Axes>"
      ],
      "image/png": "[encoded data removed]"
     },
     "metadata": {},
     "output_type": "display_data"
    }
   ],
   "execution_count": 16
  },
  {
   "metadata": {
    "ExecuteTime": {
     "end_time": "2024-07-02T07:58:31.648455Z",
     "start_time": "2024-07-02T07:58:31.642735Z"
    }
   },
   "cell_type": "code",
   "source": [
    "w = 300                         \n",
    "b = 100    \n",
    "x_i = 1.2\n",
    "cost_1200sqft = w * x_i + b  \n",
    "\n",
    "print(f\"${cost_1200sqft:.0f} thousand dollars\")"
   ],
   "id": "5456a7db63b94703",
   "outputs": [
    {
     "name": "stdout",
     "output_type": "stream",
     "text": [
      "$460 thousand dollars\n"
     ]
    }
   ],
   "execution_count": 21
  }
 ],
 "metadata": {
  "kernelspec": {
   "display_name": "Python 3 (ipykernel)",
   "language": "python",
   "name": "python3"
  },
  "language_info": {
   "codemirror_mode": {
    "name": "ipython",
    "version": 3
   },
   "file_extension": ".py",
   "mimetype": "text/x-python",
   "name": "python",
   "nbconvert_exporter": "python",
   "pygments_lexer": "ipython3",
   "version": "3.12.3"
  }
 },
 "nbformat": 4,
 "nbformat_minor": 5
}
